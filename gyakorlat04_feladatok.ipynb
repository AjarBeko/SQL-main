{
    "metadata": {
        "kernelspec": {
            "name": "SQL",
            "display_name": "SQL",
            "language": "sql"
        },
        "language_info": {
            "name": "sql",
            "version": ""
        }
    },
    "nbformat_minor": 2,
    "nbformat": 4,
    "cells": [
        {
            "cell_type": "markdown",
            "source": [
                "1. <span style=\"background-color: rgb(255, 255, 255); color: rgb(0, 0, 0); font-family: &quot;Open Sans&quot;, sans-serif; font-size: 14.44px;\">Készítsünk listát arról, hogy ügyfelenként (LOGIN), azon belül szállítási módonként hány megrendelés történt!&nbsp;</span> \n",
                "\n",
                "a. A lista tartalmazza a részösszegeket és a végösszeget is!  \n",
                "b. Használjuk a ROLLUP záradékot!"
            ],
            "metadata": {
                "azdata_cell_guid": "363cd270-6577-449b-9c89-d4b7c7972d52"
            },
            "attachments": {}
        },
        {
            "cell_type": "code",
            "source": [
                "select IIF(GROUPING_ID([LOGIN]) = 1, 'Összesen', cast(LOGIN as NVARCHAR(10))) as 'Felhasználó név', \r\n",
                "        IIF(GROUPING_ID(SZALL_MOD) = 1, 'Összesen', cast(SZALL_MOD as NVARCHAR(10))) as 'Rendelési mód',\r\n",
                "        count(*) as 'Rendelések száma'\r\n",
                "from Rendeles\r\n",
                "GROUP by rollup ([LOGIN], SZALL_MOD)\r\n",
                ""
            ],
            "metadata": {
                "azdata_cell_guid": "6ab9f633-a3b5-48c9-a1dc-4fb8235ae85b",
                "language": "sql",
                "tags": []
            },
            "outputs": [
                {
                    "output_type": "display_data",
                    "data": {
                        "text/html": "(763 rows affected)"
                    },
                    "metadata": {}
                },
                {
                    "output_type": "display_data",
                    "data": {
                        "text/html": "Total execution time: 00:00:00.087"
                    },
                    "metadata": {}
                },
                {
                    "output_type": "execute_result",
                    "metadata": {},
                    "execution_count": 18,
                    "data": {
                        "application/vnd.dataresource+json": {
                            "schema": {
                                "fields": [
                                    {
                                        "name": "Felhasználó név"
                                    },
                                    {
                                        "name": "Rendelési mód"
                                    },
                                    {
                                        "name": "Rendelések száma"
                                    }
                                ]
                            },
                            "data": [
                                {
                                    "Felhasználó név": "adam1",
                                    "Rendelési mód": "GLS",
                                    "Rendelések száma": "129"
                                },
                                {
                                    "Felhasználó név": "adam1",
                                    "Rendelési mód": "Posta",
                                    "Rendelések száma": "132"
                                },
                                {
                                    "Felhasználó név": "adam1",
                                    "Rendelési mód": "Személyes ",
                                    "Rendelések száma": "131"
                                },
                                {
                                    "Felhasználó név": "adam1",
                                    "Rendelési mód": "Összesen",
                                    "Rendelések száma": "392"
                                },
                                {
                                    "Felhasználó név": "adam3",
                                    "Rendelési mód": "GLS",
                                    "Rendelések száma": "10"
                                },
                                {
                                    "Felhasználó név": "adam3",
                                    "Rendelési mód": "Posta",
                                    "Rendelések száma": "3"
                                },
                                {
                                    "Felhasználó név": "adam3",
                                    "Rendelési mód": "Személyes ",
                                    "Rendelések száma": "2"
                                },
                                {
                                    "Felhasználó név": "adam3",
                                    "Rendelési mód": "Összesen",
                                    "Rendelések száma": "15"
                                },
                                {
                                    "Felhasználó név": "adam4",
                                    "Rendelési mód": "GLS",
                                    "Rendelések száma": "12"
                                },
                                {
                                    "Felhasználó név": "adam4",
                                    "Rendelési mód": "Posta",
                                    "Rendelések száma": "6"
                                },
                                {
                                    "Felhasználó név": "adam4",
                                    "Rendelési mód": "Személyes ",
                                    "Rendelések száma": "11"
                                },
                                {
                                    "Felhasználó név": "adam4",
                                    "Rendelési mód": "Összesen",
                                    "Rendelések száma": "29"
                                },
                                {
                                    "Felhasználó név": "agnes",
                                    "Rendelési mód": "GLS",
                                    "Rendelések száma": "144"
                                },
                                {
                                    "Felhasználó név": "agnes",
                                    "Rendelési mód": "Posta",
                                    "Rendelések száma": "130"
                                },
                                {
                                    "Felhasználó név": "agnes",
                                    "Rendelési mód": "Személyes ",
                                    "Rendelések száma": "144"
                                },
                                {
                                    "Felhasználó név": "agnes",
                                    "Rendelési mód": "Összesen",
                                    "Rendelések száma": "418"
                                },
                                {
                                    "Felhasználó név": "agnes3",
                                    "Rendelési mód": "GLS",
                                    "Rendelések száma": "148"
                                },
                                {
                                    "Felhasználó név": "agnes3",
                                    "Rendelési mód": "Posta",
                                    "Rendelések száma": "146"
                                },
                                {
                                    "Felhasználó név": "agnes3",
                                    "Rendelési mód": "Személyes ",
                                    "Rendelések száma": "136"
                                },
                                {
                                    "Felhasználó név": "agnes3",
                                    "Rendelési mód": "Összesen",
                                    "Rendelések száma": "430"
                                },
                                {
                                    "Felhasználó név": "AGNESH",
                                    "Rendelési mód": "GLS",
                                    "Rendelések száma": "2"
                                },
                                {
                                    "Felhasználó név": "AGNESH",
                                    "Rendelési mód": "Posta",
                                    "Rendelések száma": "3"
                                },
                                {
                                    "Felhasználó név": "AGNESH",
                                    "Rendelési mód": "Személyes ",
                                    "Rendelések száma": "6"
                                },
                                {
                                    "Felhasználó név": "AGNESH",
                                    "Rendelési mód": "Összesen",
                                    "Rendelések száma": "11"
                                },
                                {
                                    "Felhasználó név": "AGNESK",
                                    "Rendelési mód": "GLS",
                                    "Rendelések száma": "1"
                                },
                                {
                                    "Felhasználó név": "AGNESK",
                                    "Rendelési mód": "Posta",
                                    "Rendelések száma": "7"
                                },
                                {
                                    "Felhasználó név": "AGNESK",
                                    "Rendelési mód": "Személyes ",
                                    "Rendelések száma": "7"
                                },
                                {
                                    "Felhasználó név": "AGNESK",
                                    "Rendelési mód": "Összesen",
                                    "Rendelések száma": "15"
                                },
                                {
                                    "Felhasználó név": "akos",
                                    "Rendelési mód": "GLS",
                                    "Rendelések száma": "146"
                                },
                                {
                                    "Felhasználó név": "akos",
                                    "Rendelési mód": "Posta",
                                    "Rendelések száma": "143"
                                },
                                {
                                    "Felhasználó név": "akos",
                                    "Rendelési mód": "Személyes ",
                                    "Rendelések száma": "140"
                                },
                                {
                                    "Felhasználó név": "akos",
                                    "Rendelési mód": "Összesen",
                                    "Rendelések száma": "429"
                                },
                                {
                                    "Felhasználó név": "aladar",
                                    "Rendelési mód": "GLS",
                                    "Rendelések száma": "156"
                                },
                                {
                                    "Felhasználó név": "aladar",
                                    "Rendelési mód": "Posta",
                                    "Rendelések száma": "134"
                                },
                                {
                                    "Felhasználó név": "aladar",
                                    "Rendelési mód": "Személyes ",
                                    "Rendelések száma": "118"
                                },
                                {
                                    "Felhasználó név": "aladar",
                                    "Rendelési mód": "Összesen",
                                    "Rendelések száma": "408"
                                },
                                {
                                    "Felhasználó név": "alexandra",
                                    "Rendelési mód": "GLS",
                                    "Rendelések száma": "5"
                                },
                                {
                                    "Felhasználó név": "alexandra",
                                    "Rendelési mód": "Posta",
                                    "Rendelések száma": "9"
                                },
                                {
                                    "Felhasználó név": "alexandra",
                                    "Rendelési mód": "Személyes ",
                                    "Rendelések száma": "5"
                                },
                                {
                                    "Felhasználó név": "alexandra",
                                    "Rendelési mód": "Összesen",
                                    "Rendelések száma": "19"
                                },
                                {
                                    "Felhasználó név": "andi",
                                    "Rendelési mód": "GLS",
                                    "Rendelések száma": "7"
                                },
                                {
                                    "Felhasználó név": "andi",
                                    "Rendelési mód": "Posta",
                                    "Rendelések száma": "4"
                                },
                                {
                                    "Felhasználó név": "andi",
                                    "Rendelési mód": "Személyes ",
                                    "Rendelések száma": "7"
                                },
                                {
                                    "Felhasználó név": "andi",
                                    "Rendelési mód": "Összesen",
                                    "Rendelések száma": "18"
                                },
                                {
                                    "Felhasználó név": "andras2",
                                    "Rendelési mód": "GLS",
                                    "Rendelések száma": "4"
                                },
                                {
                                    "Felhasználó név": "andras2",
                                    "Rendelési mód": "Posta",
                                    "Rendelések száma": "7"
                                },
                                {
                                    "Felhasználó név": "andras2",
                                    "Rendelési mód": "Személyes ",
                                    "Rendelések száma": "11"
                                },
                                {
                                    "Felhasználó név": "andras2",
                                    "Rendelési mód": "Összesen",
                                    "Rendelések száma": "22"
                                },
                                {
                                    "Felhasználó név": "andras21",
                                    "Rendelési mód": "GLS",
                                    "Rendelések száma": "140"
                                },
                                {
                                    "Felhasználó név": "andras21",
                                    "Rendelési mód": "Posta",
                                    "Rendelések száma": "124"
                                },
                                {
                                    "Felhasználó név": "andras21",
                                    "Rendelési mód": "Személyes ",
                                    "Rendelések száma": "126"
                                },
                                {
                                    "Felhasználó név": "andras21",
                                    "Rendelési mód": "Összesen",
                                    "Rendelések száma": "390"
                                },
                                {
                                    "Felhasználó név": "andras3",
                                    "Rendelési mód": "GLS",
                                    "Rendelések száma": "3"
                                },
                                {
                                    "Felhasználó név": "andras3",
                                    "Rendelési mód": "Posta",
                                    "Rendelések száma": "1"
                                },
                                {
                                    "Felhasználó név": "andras3",
                                    "Rendelési mód": "Személyes ",
                                    "Rendelések száma": "5"
                                },
                                {
                                    "Felhasználó név": "andras3",
                                    "Rendelési mód": "Összesen",
                                    "Rendelések száma": "9"
                                },
                                {
                                    "Felhasználó név": "andras4",
                                    "Rendelési mód": "GLS",
                                    "Rendelések száma": "4"
                                },
                                {
                                    "Felhasználó név": "andras4",
                                    "Rendelési mód": "Posta",
                                    "Rendelések száma": "4"
                                },
                                {
                                    "Felhasználó név": "andras4",
                                    "Rendelési mód": "Személyes ",
                                    "Rendelések száma": "4"
                                },
                                {
                                    "Felhasználó név": "andras4",
                                    "Rendelési mód": "Összesen",
                                    "Rendelések száma": "12"
                                },
                                {
                                    "Felhasználó név": "andras41",
                                    "Rendelési mód": "GLS",
                                    "Rendelések száma": "149"
                                },
                                {
                                    "Felhasználó név": "andras41",
                                    "Rendelési mód": "Posta",
                                    "Rendelések száma": "137"
                                },
                                {
                                    "Felhasználó név": "andras41",
                                    "Rendelési mód": "Személyes ",
                                    "Rendelések száma": "133"
                                },
                                {
                                    "Felhasználó név": "andras41",
                                    "Rendelési mód": "Összesen",
                                    "Rendelések száma": "419"
                                },
                                {
                                    "Felhasználó név": "ANDRASE",
                                    "Rendelési mód": "GLS",
                                    "Rendelések száma": "159"
                                },
                                {
                                    "Felhasználó név": "ANDRASE",
                                    "Rendelési mód": "Posta",
                                    "Rendelések száma": "141"
                                },
                                {
                                    "Felhasználó név": "ANDRASE",
                                    "Rendelési mód": "Személyes ",
                                    "Rendelések száma": "136"
                                },
                                {
                                    "Felhasználó név": "ANDRASE",
                                    "Rendelési mód": "Összesen",
                                    "Rendelések száma": "436"
                                },
                                {
                                    "Felhasználó név": "ANDRASN",
                                    "Rendelési mód": "GLS",
                                    "Rendelések száma": "10"
                                },
                                {
                                    "Felhasználó név": "ANDRASN",
                                    "Rendelési mód": "Posta",
                                    "Rendelések száma": "9"
                                },
                                {
                                    "Felhasználó név": "ANDRASN",
                                    "Rendelési mód": "Személyes ",
                                    "Rendelések száma": "5"
                                },
                                {
                                    "Felhasználó név": "ANDRASN",
                                    "Rendelési mód": "Összesen",
                                    "Rendelések száma": "24"
                                },
                                {
                                    "Felhasználó név": "andrea",
                                    "Rendelési mód": "GLS",
                                    "Rendelések száma": "12"
                                },
                                {
                                    "Felhasználó név": "andrea",
                                    "Rendelési mód": "Posta",
                                    "Rendelések száma": "4"
                                },
                                {
                                    "Felhasználó név": "andrea",
                                    "Rendelési mód": "Személyes ",
                                    "Rendelések száma": "8"
                                },
                                {
                                    "Felhasználó név": "andrea",
                                    "Rendelési mód": "Összesen",
                                    "Rendelések száma": "24"
                                },
                                {
                                    "Felhasználó név": "andrea3",
                                    "Rendelési mód": "GLS",
                                    "Rendelések száma": "131"
                                },
                                {
                                    "Felhasználó név": "andrea3",
                                    "Rendelési mód": "Posta",
                                    "Rendelések száma": "136"
                                },
                                {
                                    "Felhasználó név": "andrea3",
                                    "Rendelési mód": "Személyes ",
                                    "Rendelések száma": "146"
                                },
                                {
                                    "Felhasználó név": "andrea3",
                                    "Rendelési mód": "Összesen",
                                    "Rendelések száma": "413"
                                },
                                {
                                    "Felhasználó név": "andrea4",
                                    "Rendelési mód": "GLS",
                                    "Rendelések száma": "7"
                                },
                                {
                                    "Felhasználó név": "andrea4",
                                    "Rendelési mód": "Posta",
                                    "Rendelések száma": "4"
                                },
                                {
                                    "Felhasználó név": "andrea4",
                                    "Rendelési mód": "Személyes ",
                                    "Rendelések száma": "7"
                                },
                                {
                                    "Felhasználó név": "andrea4",
                                    "Rendelési mód": "Összesen",
                                    "Rendelések száma": "18"
                                },
                                {
                                    "Felhasználó név": "ANDREAT",
                                    "Rendelési mód": "GLS",
                                    "Rendelések száma": "3"
                                },
                                {
                                    "Felhasználó név": "ANDREAT",
                                    "Rendelési mód": "Posta",
                                    "Rendelések száma": "6"
                                },
                                {
                                    "Felhasználó név": "ANDREAT",
                                    "Rendelési mód": "Személyes ",
                                    "Rendelések száma": "12"
                                },
                                {
                                    "Felhasználó név": "ANDREAT",
                                    "Rendelési mód": "Összesen",
                                    "Rendelések száma": "21"
                                },
                                {
                                    "Felhasználó név": "anett3",
                                    "Rendelési mód": "GLS",
                                    "Rendelések száma": "3"
                                },
                                {
                                    "Felhasználó név": "anett3",
                                    "Rendelési mód": "Posta",
                                    "Rendelések száma": "6"
                                },
                                {
                                    "Felhasználó név": "anett3",
                                    "Rendelési mód": "Személyes ",
                                    "Rendelések száma": "9"
                                },
                                {
                                    "Felhasználó név": "anett3",
                                    "Rendelési mód": "Összesen",
                                    "Rendelések száma": "18"
                                },
                                {
                                    "Felhasználó név": "aniko",
                                    "Rendelési mód": "GLS",
                                    "Rendelések száma": "128"
                                },
                                {
                                    "Felhasználó név": "aniko",
                                    "Rendelési mód": "Posta",
                                    "Rendelések száma": "137"
                                },
                                {
                                    "Felhasználó név": "aniko",
                                    "Rendelési mód": "Személyes ",
                                    "Rendelések száma": "138"
                                },
                                {
                                    "Felhasználó név": "aniko",
                                    "Rendelési mód": "Összesen",
                                    "Rendelések száma": "403"
                                },
                                {
                                    "Felhasználó név": "aniko4",
                                    "Rendelési mód": "GLS",
                                    "Rendelések száma": "6"
                                },
                                {
                                    "Felhasználó név": "aniko4",
                                    "Rendelési mód": "Posta",
                                    "Rendelések száma": "6"
                                },
                                {
                                    "Felhasználó név": "aniko4",
                                    "Rendelési mód": "Személyes ",
                                    "Rendelések száma": "3"
                                },
                                {
                                    "Felhasználó név": "aniko4",
                                    "Rendelési mód": "Összesen",
                                    "Rendelések száma": "15"
                                },
                                {
                                    "Felhasználó név": "ANIKOS",
                                    "Rendelési mód": "GLS",
                                    "Rendelések száma": "128"
                                },
                                {
                                    "Felhasználó név": "ANIKOS",
                                    "Rendelési mód": "Posta",
                                    "Rendelések száma": "126"
                                },
                                {
                                    "Felhasználó név": "ANIKOS",
                                    "Rendelési mód": "Személyes ",
                                    "Rendelések száma": "150"
                                },
                                {
                                    "Felhasználó név": "ANIKOS",
                                    "Rendelési mód": "Összesen",
                                    "Rendelések száma": "404"
                                },
                                {
                                    "Felhasználó név": "anita",
                                    "Rendelési mód": "GLS",
                                    "Rendelések száma": "5"
                                },
                                {
                                    "Felhasználó név": "anita",
                                    "Rendelési mód": "Posta",
                                    "Rendelések száma": "2"
                                },
                                {
                                    "Felhasználó név": "anita",
                                    "Rendelési mód": "Személyes ",
                                    "Rendelések száma": "5"
                                },
                                {
                                    "Felhasználó név": "anita",
                                    "Rendelési mód": "Összesen",
                                    "Rendelések száma": "12"
                                },
                                {
                                    "Felhasználó név": "annamaria1",
                                    "Rendelési mód": "GLS",
                                    "Rendelések száma": "5"
                                },
                                {
                                    "Felhasználó név": "annamaria1",
                                    "Rendelési mód": "Posta",
                                    "Rendelések száma": "4"
                                },
                                {
                                    "Felhasználó név": "annamaria1",
                                    "Rendelési mód": "Személyes ",
                                    "Rendelések száma": "7"
                                },
                                {
                                    "Felhasználó név": "annamaria1",
                                    "Rendelési mód": "Összesen",
                                    "Rendelések száma": "16"
                                },
                                {
                                    "Felhasználó név": "ANNAMARIAR",
                                    "Rendelési mód": "GLS",
                                    "Rendelések száma": "8"
                                },
                                {
                                    "Felhasználó név": "ANNAMARIAR",
                                    "Rendelési mód": "Posta",
                                    "Rendelések száma": "2"
                                },
                                {
                                    "Felhasználó név": "ANNAMARIAR",
                                    "Rendelési mód": "Személyes ",
                                    "Rendelések száma": "3"
                                },
                                {
                                    "Felhasználó név": "ANNAMARIAR",
                                    "Rendelési mód": "Összesen",
                                    "Rendelések száma": "13"
                                },
                                {
                                    "Felhasználó név": "aron2",
                                    "Rendelési mód": "GLS",
                                    "Rendelések száma": "132"
                                },
                                {
                                    "Felhasználó név": "aron2",
                                    "Rendelési mód": "Posta",
                                    "Rendelések száma": "133"
                                },
                                {
                                    "Felhasználó név": "aron2",
                                    "Rendelési mód": "Személyes ",
                                    "Rendelések száma": "144"
                                },
                                {
                                    "Felhasználó név": "aron2",
                                    "Rendelési mód": "Összesen",
                                    "Rendelések száma": "409"
                                },
                                {
                                    "Felhasználó név": "ARONK",
                                    "Rendelési mód": "GLS",
                                    "Rendelések száma": "155"
                                },
                                {
                                    "Felhasználó név": "ARONK",
                                    "Rendelési mód": "Posta",
                                    "Rendelések száma": "120"
                                },
                                {
                                    "Felhasználó név": "ARONK",
                                    "Rendelési mód": "Személyes ",
                                    "Rendelések száma": "155"
                                },
                                {
                                    "Felhasználó név": "ARONK",
                                    "Rendelési mód": "Összesen",
                                    "Rendelések száma": "430"
                                },
                                {
                                    "Felhasználó név": "arpad2",
                                    "Rendelési mód": "GLS",
                                    "Rendelések száma": "6"
                                },
                                {
                                    "Felhasználó név": "arpad2",
                                    "Rendelési mód": "Posta",
                                    "Rendelések száma": "1"
                                },
                                {
                                    "Felhasználó név": "arpad2",
                                    "Rendelési mód": "Személyes ",
                                    "Rendelések száma": "10"
                                },
                                {
                                    "Felhasználó név": "arpad2",
                                    "Rendelési mód": "Összesen",
                                    "Rendelések száma": "17"
                                },
                                {
                                    "Felhasználó név": "ARPADH",
                                    "Rendelési mód": "GLS",
                                    "Rendelések száma": "6"
                                },
                                {
                                    "Felhasználó név": "ARPADH",
                                    "Rendelési mód": "Posta",
                                    "Rendelések száma": "3"
                                },
                                {
                                    "Felhasználó név": "ARPADH",
                                    "Rendelési mód": "Személyes ",
                                    "Rendelések száma": "5"
                                },
                                {
                                    "Felhasználó név": "ARPADH",
                                    "Rendelési mód": "Összesen",
                                    "Rendelések száma": "14"
                                },
                                {
                                    "Felhasználó név": "ARPADM",
                                    "Rendelési mód": "GLS",
                                    "Rendelések száma": "6"
                                },
                                {
                                    "Felhasználó név": "ARPADM",
                                    "Rendelési mód": "Posta",
                                    "Rendelések száma": "3"
                                },
                                {
                                    "Felhasználó név": "ARPADM",
                                    "Rendelési mód": "Személyes ",
                                    "Rendelések száma": "7"
                                },
                                {
                                    "Felhasználó név": "ARPADM",
                                    "Rendelési mód": "Összesen",
                                    "Rendelések száma": "16"
                                },
                                {
                                    "Felhasználó név": "attila1",
                                    "Rendelési mód": "GLS",
                                    "Rendelések száma": "5"
                                },
                                {
                                    "Felhasználó név": "attila1",
                                    "Rendelési mód": "Posta",
                                    "Rendelések száma": "7"
                                },
                                {
                                    "Felhasználó név": "attila1",
                                    "Rendelési mód": "Személyes ",
                                    "Rendelések száma": "6"
                                },
                                {
                                    "Felhasználó név": "attila1",
                                    "Rendelési mód": "Összesen",
                                    "Rendelések száma": "18"
                                },
                                {
                                    "Felhasználó név": "attila4",
                                    "Rendelési mód": "GLS",
                                    "Rendelések száma": "135"
                                },
                                {
                                    "Felhasználó név": "attila4",
                                    "Rendelési mód": "Posta",
                                    "Rendelések száma": "125"
                                },
                                {
                                    "Felhasználó név": "attila4",
                                    "Rendelési mód": "Személyes ",
                                    "Rendelések száma": "141"
                                },
                                {
                                    "Felhasználó név": "attila4",
                                    "Rendelési mód": "Összesen",
                                    "Rendelések száma": "401"
                                },
                                {
                                    "Felhasználó név": "ATTILAO",
                                    "Rendelési mód": "GLS",
                                    "Rendelések száma": "4"
                                },
                                {
                                    "Felhasználó név": "ATTILAO",
                                    "Rendelési mód": "Posta",
                                    "Rendelések száma": "4"
                                },
                                {
                                    "Felhasználó név": "ATTILAO",
                                    "Rendelési mód": "Személyes ",
                                    "Rendelések száma": "6"
                                },
                                {
                                    "Felhasználó név": "ATTILAO",
                                    "Rendelési mód": "Összesen",
                                    "Rendelések száma": "14"
                                },
                                {
                                    "Felhasználó név": "balazs1",
                                    "Rendelési mód": "GLS",
                                    "Rendelések száma": "128"
                                },
                                {
                                    "Felhasználó név": "balazs1",
                                    "Rendelési mód": "Posta",
                                    "Rendelések száma": "136"
                                },
                                {
                                    "Felhasználó név": "balazs1",
                                    "Rendelési mód": "Személyes ",
                                    "Rendelések száma": "155"
                                },
                                {
                                    "Felhasználó név": "balazs1",
                                    "Rendelési mód": "Összesen",
                                    "Rendelések száma": "419"
                                },
                                {
                                    "Felhasználó név": "balazs2",
                                    "Rendelési mód": "GLS",
                                    "Rendelések száma": "5"
                                },
                                {
                                    "Felhasználó név": "balazs2",
                                    "Rendelési mód": "Posta",
                                    "Rendelések száma": "7"
                                },
                                {
                                    "Felhasználó név": "balazs2",
                                    "Rendelési mód": "Személyes ",
                                    "Rendelések száma": "5"
                                },
                                {
                                    "Felhasználó név": "balazs2",
                                    "Rendelési mód": "Összesen",
                                    "Rendelések száma": "17"
                                },
                                {
                                    "Felhasználó név": "balazs3",
                                    "Rendelési mód": "GLS",
                                    "Rendelések száma": "6"
                                },
                                {
                                    "Felhasználó név": "balazs3",
                                    "Rendelési mód": "Posta",
                                    "Rendelések száma": "6"
                                },
                                {
                                    "Felhasználó név": "balazs3",
                                    "Rendelési mód": "Személyes ",
                                    "Rendelések száma": "3"
                                },
                                {
                                    "Felhasználó név": "balazs3",
                                    "Rendelési mód": "Összesen",
                                    "Rendelések száma": "15"
                                },
                                {
                                    "Felhasználó név": "balint",
                                    "Rendelési mód": "GLS",
                                    "Rendelések száma": "10"
                                },
                                {
                                    "Felhasználó név": "balint",
                                    "Rendelési mód": "Posta",
                                    "Rendelések száma": "4"
                                },
                                {
                                    "Felhasználó név": "balint",
                                    "Rendelési mód": "Személyes ",
                                    "Rendelések száma": "2"
                                },
                                {
                                    "Felhasználó név": "balint",
                                    "Rendelési mód": "Összesen",
                                    "Rendelések száma": "16"
                                },
                                {
                                    "Felhasználó név": "balint1",
                                    "Rendelési mód": "GLS",
                                    "Rendelések száma": "158"
                                },
                                {
                                    "Felhasználó név": "balint1",
                                    "Rendelési mód": "Posta",
                                    "Rendelések száma": "152"
                                },
                                {
                                    "Felhasználó név": "balint1",
                                    "Rendelési mód": "Személyes ",
                                    "Rendelések száma": "152"
                                },
                                {
                                    "Felhasználó név": "balint1",
                                    "Rendelési mód": "Összesen",
                                    "Rendelések száma": "462"
                                },
                                {
                                    "Felhasználó név": "balint2",
                                    "Rendelési mód": "GLS",
                                    "Rendelések száma": "8"
                                },
                                {
                                    "Felhasználó név": "balint2",
                                    "Rendelési mód": "Posta",
                                    "Rendelések száma": "6"
                                },
                                {
                                    "Felhasználó név": "balint2",
                                    "Rendelési mód": "Személyes ",
                                    "Rendelések száma": "3"
                                },
                                {
                                    "Felhasználó név": "balint2",
                                    "Rendelési mód": "Összesen",
                                    "Rendelések száma": "17"
                                },
                                {
                                    "Felhasználó név": "balu",
                                    "Rendelési mód": "GLS",
                                    "Rendelések száma": "127"
                                },
                                {
                                    "Felhasználó név": "balu",
                                    "Rendelési mód": "Posta",
                                    "Rendelések száma": "137"
                                },
                                {
                                    "Felhasználó név": "balu",
                                    "Rendelési mód": "Személyes ",
                                    "Rendelések száma": "123"
                                },
                                {
                                    "Felhasználó név": "balu",
                                    "Rendelési mód": "Összesen",
                                    "Rendelések száma": "387"
                                },
                                {
                                    "Felhasználó név": "BEATRIXK",
                                    "Rendelési mód": "GLS",
                                    "Rendelések száma": "135"
                                },
                                {
                                    "Felhasználó név": "BEATRIXK",
                                    "Rendelési mód": "Posta",
                                    "Rendelések száma": "155"
                                },
                                {
                                    "Felhasználó név": "BEATRIXK",
                                    "Rendelési mód": "Személyes ",
                                    "Rendelések száma": "145"
                                },
                                {
                                    "Felhasználó név": "BEATRIXK",
                                    "Rendelési mód": "Összesen",
                                    "Rendelések száma": "435"
                                },
                                {
                                    "Felhasználó név": "BEATRIXS",
                                    "Rendelési mód": "GLS",
                                    "Rendelések száma": "146"
                                },
                                {
                                    "Felhasználó név": "BEATRIXS",
                                    "Rendelési mód": "Posta",
                                    "Rendelések száma": "141"
                                },
                                {
                                    "Felhasználó név": "BEATRIXS",
                                    "Rendelési mód": "Személyes ",
                                    "Rendelések száma": "133"
                                },
                                {
                                    "Felhasználó név": "BEATRIXS",
                                    "Rendelési mód": "Összesen",
                                    "Rendelések száma": "420"
                                },
                                {
                                    "Felhasználó név": "BELAF",
                                    "Rendelési mód": "GLS",
                                    "Rendelések száma": "11"
                                },
                                {
                                    "Felhasználó név": "BELAF",
                                    "Rendelési mód": "Posta",
                                    "Rendelések száma": "2"
                                },
                                {
                                    "Felhasználó név": "BELAF",
                                    "Rendelési mód": "Személyes ",
                                    "Rendelések száma": "5"
                                },
                                {
                                    "Felhasználó név": "BELAF",
                                    "Rendelési mód": "Összesen",
                                    "Rendelések száma": "18"
                                },
                                {
                                    "Felhasználó név": "bence",
                                    "Rendelési mód": "GLS",
                                    "Rendelések száma": "4"
                                },
                                {
                                    "Felhasználó név": "bence",
                                    "Rendelési mód": "Posta",
                                    "Rendelések száma": "6"
                                },
                                {
                                    "Felhasználó név": "bence",
                                    "Rendelési mód": "Személyes ",
                                    "Rendelések száma": "8"
                                },
                                {
                                    "Felhasználó név": "bence",
                                    "Rendelési mód": "Összesen",
                                    "Rendelések száma": "18"
                                },
                                {
                                    "Felhasználó név": "BENCEB",
                                    "Rendelési mód": "GLS",
                                    "Rendelések száma": "5"
                                },
                                {
                                    "Felhasználó név": "BENCEB",
                                    "Rendelési mód": "Posta",
                                    "Rendelések száma": "7"
                                },
                                {
                                    "Felhasználó név": "BENCEB",
                                    "Rendelési mód": "Személyes ",
                                    "Rendelések száma": "5"
                                },
                                {
                                    "Felhasználó név": "BENCEB",
                                    "Rendelési mód": "Összesen",
                                    "Rendelések száma": "17"
                                },
                                {
                                    "Felhasználó név": "bernadett1",
                                    "Rendelési mód": "GLS",
                                    "Rendelések száma": "10"
                                },
                                {
                                    "Felhasználó név": "bernadett1",
                                    "Rendelési mód": "Posta",
                                    "Rendelések száma": "5"
                                },
                                {
                                    "Felhasználó név": "bernadett1",
                                    "Rendelési mód": "Személyes ",
                                    "Rendelések száma": "5"
                                },
                                {
                                    "Felhasználó név": "bernadett1",
                                    "Rendelési mód": "Összesen",
                                    "Rendelések száma": "20"
                                },
                                {
                                    "Felhasználó név": "bernadett2",
                                    "Rendelési mód": "GLS",
                                    "Rendelések száma": "6"
                                },
                                {
                                    "Felhasználó név": "bernadett2",
                                    "Rendelési mód": "Posta",
                                    "Rendelések száma": "2"
                                },
                                {
                                    "Felhasználó név": "bernadett2",
                                    "Rendelési mód": "Személyes ",
                                    "Rendelések száma": "7"
                                },
                                {
                                    "Felhasználó név": "bernadett2",
                                    "Rendelési mód": "Összesen",
                                    "Rendelések száma": "15"
                                },
                                {
                                    "Felhasználó név": "BERNADETTO",
                                    "Rendelési mód": "GLS",
                                    "Rendelések száma": "7"
                                },
                                {
                                    "Felhasználó név": "BERNADETTO",
                                    "Rendelési mód": "Posta",
                                    "Rendelések száma": "2"
                                },
                                {
                                    "Felhasználó név": "BERNADETTO",
                                    "Rendelési mód": "Személyes ",
                                    "Rendelések száma": "7"
                                },
                                {
                                    "Felhasználó név": "BERNADETTO",
                                    "Rendelési mód": "Összesen",
                                    "Rendelések száma": "16"
                                },
                                {
                                    "Felhasználó név": "bertalan",
                                    "Rendelési mód": "GLS",
                                    "Rendelések száma": "128"
                                },
                                {
                                    "Felhasználó név": "bertalan",
                                    "Rendelési mód": "Posta",
                                    "Rendelések száma": "124"
                                },
                                {
                                    "Felhasználó név": "bertalan",
                                    "Rendelési mód": "Személyes ",
                                    "Rendelések száma": "101"
                                },
                                {
                                    "Felhasználó név": "bertalan",
                                    "Rendelési mód": "Összesen",
                                    "Rendelések száma": "353"
                                },
                                {
                                    "Felhasználó név": "brigitta",
                                    "Rendelési mód": "GLS",
                                    "Rendelések száma": "137"
                                },
                                {
                                    "Felhasználó név": "brigitta",
                                    "Rendelési mód": "Posta",
                                    "Rendelések száma": "137"
                                },
                                {
                                    "Felhasználó név": "brigitta",
                                    "Rendelési mód": "Személyes ",
                                    "Rendelések száma": "119"
                                },
                                {
                                    "Felhasználó név": "brigitta",
                                    "Rendelési mód": "Összesen",
                                    "Rendelések száma": "393"
                                },
                                {
                                    "Felhasználó név": "brigitta3",
                                    "Rendelési mód": "GLS",
                                    "Rendelések száma": "144"
                                },
                                {
                                    "Felhasználó név": "brigitta3",
                                    "Rendelési mód": "Posta",
                                    "Rendelések száma": "130"
                                },
                                {
                                    "Felhasználó név": "brigitta3",
                                    "Rendelési mód": "Személyes ",
                                    "Rendelések száma": "139"
                                },
                                {
                                    "Felhasználó név": "brigitta3",
                                    "Rendelési mód": "Összesen",
                                    "Rendelések száma": "413"
                                },
                                {
                                    "Felhasználó név": "csongor3",
                                    "Rendelési mód": "GLS",
                                    "Rendelések száma": "5"
                                },
                                {
                                    "Felhasználó név": "csongor3",
                                    "Rendelési mód": "Posta",
                                    "Rendelések száma": "2"
                                },
                                {
                                    "Felhasználó név": "csongor3",
                                    "Rendelési mód": "Személyes ",
                                    "Rendelések száma": "8"
                                },
                                {
                                    "Felhasználó név": "csongor3",
                                    "Rendelési mód": "Összesen",
                                    "Rendelések száma": "15"
                                },
                                {
                                    "Felhasználó név": "dani",
                                    "Rendelési mód": "GLS",
                                    "Rendelések száma": "5"
                                },
                                {
                                    "Felhasználó név": "dani",
                                    "Rendelési mód": "Személyes ",
                                    "Rendelések száma": "8"
                                },
                                {
                                    "Felhasználó név": "dani",
                                    "Rendelési mód": "Összesen",
                                    "Rendelések száma": "13"
                                },
                                {
                                    "Felhasználó név": "daniel",
                                    "Rendelési mód": "GLS",
                                    "Rendelések száma": "7"
                                },
                                {
                                    "Felhasználó név": "daniel",
                                    "Rendelési mód": "Posta",
                                    "Rendelések száma": "2"
                                },
                                {
                                    "Felhasználó név": "daniel",
                                    "Rendelési mód": "Személyes ",
                                    "Rendelések száma": "4"
                                },
                                {
                                    "Felhasználó név": "daniel",
                                    "Rendelési mód": "Összesen",
                                    "Rendelések száma": "13"
                                },
                                {
                                    "Felhasználó név": "daniel1",
                                    "Rendelési mód": "GLS",
                                    "Rendelések száma": "156"
                                },
                                {
                                    "Felhasználó név": "daniel1",
                                    "Rendelési mód": "Posta",
                                    "Rendelések száma": "131"
                                },
                                {
                                    "Felhasználó név": "daniel1",
                                    "Rendelési mód": "Személyes ",
                                    "Rendelések száma": "132"
                                },
                                {
                                    "Felhasználó név": "daniel1",
                                    "Rendelési mód": "Összesen",
                                    "Rendelések száma": "419"
                                },
                                {
                                    "Felhasználó név": "david",
                                    "Rendelési mód": "GLS",
                                    "Rendelések száma": "161"
                                },
                                {
                                    "Felhasználó név": "david",
                                    "Rendelési mód": "Posta",
                                    "Rendelések száma": "144"
                                },
                                {
                                    "Felhasználó név": "david",
                                    "Rendelési mód": "Személyes ",
                                    "Rendelések száma": "146"
                                },
                                {
                                    "Felhasználó név": "david",
                                    "Rendelési mód": "Összesen",
                                    "Rendelések száma": "451"
                                },
                                {
                                    "Felhasználó név": "david1",
                                    "Rendelési mód": "GLS",
                                    "Rendelések száma": "8"
                                },
                                {
                                    "Felhasználó név": "david1",
                                    "Rendelési mód": "Posta",
                                    "Rendelések száma": "1"
                                },
                                {
                                    "Felhasználó név": "david1",
                                    "Rendelési mód": "Személyes ",
                                    "Rendelések száma": "8"
                                },
                                {
                                    "Felhasználó név": "david1",
                                    "Rendelési mód": "Összesen",
                                    "Rendelések száma": "17"
                                },
                                {
                                    "Felhasználó név": "david4",
                                    "Rendelési mód": "GLS",
                                    "Rendelések száma": "3"
                                },
                                {
                                    "Felhasználó név": "david4",
                                    "Rendelési mód": "Posta",
                                    "Rendelések száma": "8"
                                },
                                {
                                    "Felhasználó név": "david4",
                                    "Rendelési mód": "Személyes ",
                                    "Rendelések száma": "10"
                                },
                                {
                                    "Felhasználó név": "david4",
                                    "Rendelési mód": "Összesen",
                                    "Rendelések száma": "21"
                                },
                                {
                                    "Felhasználó név": "debora",
                                    "Rendelési mód": "GLS",
                                    "Rendelések száma": "7"
                                },
                                {
                                    "Felhasználó név": "debora",
                                    "Rendelési mód": "Posta",
                                    "Rendelések száma": "6"
                                },
                                {
                                    "Felhasználó név": "debora",
                                    "Rendelési mód": "Személyes ",
                                    "Rendelések száma": "3"
                                },
                                {
                                    "Felhasználó név": "debora",
                                    "Rendelési mód": "Összesen",
                                    "Rendelések száma": "16"
                                },
                                {
                                    "Felhasználó név": "denes",
                                    "Rendelési mód": "GLS",
                                    "Rendelések száma": "3"
                                },
                                {
                                    "Felhasználó név": "denes",
                                    "Rendelési mód": "Posta",
                                    "Rendelések száma": "2"
                                },
                                {
                                    "Felhasználó név": "denes",
                                    "Rendelési mód": "Személyes ",
                                    "Rendelések száma": "4"
                                },
                                {
                                    "Felhasználó név": "denes",
                                    "Rendelési mód": "Összesen",
                                    "Rendelések száma": "9"
                                },
                                {
                                    "Felhasználó név": "dora3",
                                    "Rendelési mód": "GLS",
                                    "Rendelések száma": "144"
                                },
                                {
                                    "Felhasználó név": "dora3",
                                    "Rendelési mód": "Posta",
                                    "Rendelések száma": "124"
                                },
                                {
                                    "Felhasználó név": "dora3",
                                    "Rendelési mód": "Személyes ",
                                    "Rendelések száma": "164"
                                },
                                {
                                    "Felhasználó név": "dora3",
                                    "Rendelési mód": "Összesen",
                                    "Rendelések száma": "432"
                                },
                                {
                                    "Felhasználó név": "edit",
                                    "Rendelési mód": "GLS",
                                    "Rendelések száma": "7"
                                },
                                {
                                    "Felhasználó név": "edit",
                                    "Rendelési mód": "Posta",
                                    "Rendelések száma": "2"
                                },
                                {
                                    "Felhasználó név": "edit",
                                    "Rendelési mód": "Személyes ",
                                    "Rendelések száma": "4"
                                },
                                {
                                    "Felhasználó név": "edit",
                                    "Rendelési mód": "Összesen",
                                    "Rendelések száma": "13"
                                },
                                {
                                    "Felhasználó név": "emese",
                                    "Rendelési mód": "GLS",
                                    "Rendelések száma": "128"
                                },
                                {
                                    "Felhasználó név": "emese",
                                    "Rendelési mód": "Posta",
                                    "Rendelések száma": "136"
                                },
                                {
                                    "Felhasználó név": "emese",
                                    "Rendelési mód": "Személyes ",
                                    "Rendelések száma": "142"
                                },
                                {
                                    "Felhasználó név": "emese",
                                    "Rendelési mód": "Összesen",
                                    "Rendelések száma": "406"
                                },
                                {
                                    "Felhasználó név": "eszter2",
                                    "Rendelési mód": "GLS",
                                    "Rendelések száma": "127"
                                },
                                {
                                    "Felhasználó név": "eszter2",
                                    "Rendelési mód": "Posta",
                                    "Rendelések száma": "136"
                                },
                                {
                                    "Felhasználó név": "eszter2",
                                    "Rendelési mód": "Személyes ",
                                    "Rendelések száma": "152"
                                },
                                {
                                    "Felhasználó név": "eszter2",
                                    "Rendelési mód": "Összesen",
                                    "Rendelések száma": "415"
                                },
                                {
                                    "Felhasználó név": "eszter4",
                                    "Rendelési mód": "GLS",
                                    "Rendelések száma": "141"
                                },
                                {
                                    "Felhasználó név": "eszter4",
                                    "Rendelési mód": "Posta",
                                    "Rendelések száma": "134"
                                },
                                {
                                    "Felhasználó név": "eszter4",
                                    "Rendelési mód": "Személyes ",
                                    "Rendelések száma": "149"
                                },
                                {
                                    "Felhasználó név": "eszter4",
                                    "Rendelési mód": "Összesen",
                                    "Rendelések száma": "424"
                                },
                                {
                                    "Felhasználó név": "ESZTERE",
                                    "Rendelési mód": "GLS",
                                    "Rendelések száma": "6"
                                },
                                {
                                    "Felhasználó név": "ESZTERE",
                                    "Rendelési mód": "Posta",
                                    "Rendelések száma": "9"
                                },
                                {
                                    "Felhasználó név": "ESZTERE",
                                    "Rendelési mód": "Személyes ",
                                    "Rendelések száma": "7"
                                },
                                {
                                    "Felhasználó név": "ESZTERE",
                                    "Rendelési mód": "Összesen",
                                    "Rendelések száma": "22"
                                },
                                {
                                    "Felhasználó név": "eva",
                                    "Rendelési mód": "GLS",
                                    "Rendelések száma": "125"
                                },
                                {
                                    "Felhasználó név": "eva",
                                    "Rendelési mód": "Posta",
                                    "Rendelések száma": "140"
                                },
                                {
                                    "Felhasználó név": "eva",
                                    "Rendelési mód": "Személyes ",
                                    "Rendelések száma": "139"
                                },
                                {
                                    "Felhasználó név": "eva",
                                    "Rendelési mód": "Összesen",
                                    "Rendelések száma": "404"
                                },
                                {
                                    "Felhasználó név": "eva2",
                                    "Rendelési mód": "GLS",
                                    "Rendelések száma": "154"
                                },
                                {
                                    "Felhasználó név": "eva2",
                                    "Rendelési mód": "Posta",
                                    "Rendelések száma": "138"
                                },
                                {
                                    "Felhasználó név": "eva2",
                                    "Rendelési mód": "Személyes ",
                                    "Rendelések száma": "170"
                                },
                                {
                                    "Felhasználó név": "eva2",
                                    "Rendelési mód": "Összesen",
                                    "Rendelések száma": "462"
                                },
                                {
                                    "Felhasználó név": "EVAV",
                                    "Rendelési mód": "GLS",
                                    "Rendelések száma": "2"
                                },
                                {
                                    "Felhasználó név": "EVAV",
                                    "Rendelési mód": "Posta",
                                    "Rendelések száma": "1"
                                },
                                {
                                    "Felhasználó név": "EVAV",
                                    "Rendelési mód": "Személyes ",
                                    "Rendelések száma": "4"
                                },
                                {
                                    "Felhasználó név": "EVAV",
                                    "Rendelési mód": "Összesen",
                                    "Rendelések száma": "7"
                                },
                                {
                                    "Felhasználó név": "ferenc1",
                                    "Rendelési mód": "GLS",
                                    "Rendelések száma": "144"
                                },
                                {
                                    "Felhasználó név": "ferenc1",
                                    "Rendelési mód": "Posta",
                                    "Rendelések száma": "158"
                                },
                                {
                                    "Felhasználó név": "ferenc1",
                                    "Rendelési mód": "Személyes ",
                                    "Rendelések száma": "135"
                                },
                                {
                                    "Felhasználó név": "ferenc1",
                                    "Rendelési mód": "Összesen",
                                    "Rendelések száma": "437"
                                },
                                {
                                    "Felhasználó név": "fruzsina4",
                                    "Rendelési mód": "GLS",
                                    "Rendelések száma": "8"
                                },
                                {
                                    "Felhasználó név": "fruzsina4",
                                    "Rendelési mód": "Posta",
                                    "Rendelések száma": "3"
                                },
                                {
                                    "Felhasználó név": "fruzsina4",
                                    "Rendelési mód": "Személyes ",
                                    "Rendelések száma": "7"
                                },
                                {
                                    "Felhasználó név": "fruzsina4",
                                    "Rendelési mód": "Összesen",
                                    "Rendelések száma": "18"
                                },
                                {
                                    "Felhasználó név": "gabor1",
                                    "Rendelési mód": "GLS",
                                    "Rendelések száma": "9"
                                },
                                {
                                    "Felhasználó név": "gabor1",
                                    "Rendelési mód": "Posta",
                                    "Rendelések száma": "5"
                                },
                                {
                                    "Felhasználó név": "gabor1",
                                    "Rendelési mód": "Személyes ",
                                    "Rendelések száma": "5"
                                },
                                {
                                    "Felhasználó név": "gabor1",
                                    "Rendelési mód": "Összesen",
                                    "Rendelések száma": "19"
                                },
                                {
                                    "Felhasználó név": "gabor4",
                                    "Rendelési mód": "GLS",
                                    "Rendelések száma": "7"
                                },
                                {
                                    "Felhasználó név": "gabor4",
                                    "Rendelési mód": "Posta",
                                    "Rendelések száma": "9"
                                },
                                {
                                    "Felhasználó név": "gabor4",
                                    "Rendelési mód": "Személyes ",
                                    "Rendelések száma": "4"
                                },
                                {
                                    "Felhasználó név": "gabor4",
                                    "Rendelési mód": "Összesen",
                                    "Rendelések száma": "20"
                                },
                                {
                                    "Felhasználó név": "GABORS",
                                    "Rendelési mód": "GLS",
                                    "Rendelések száma": "5"
                                },
                                {
                                    "Felhasználó név": "GABORS",
                                    "Rendelési mód": "Posta",
                                    "Rendelések száma": "6"
                                },
                                {
                                    "Felhasználó név": "GABORS",
                                    "Rendelési mód": "Személyes ",
                                    "Rendelések száma": "4"
                                },
                                {
                                    "Felhasználó név": "GABORS",
                                    "Rendelési mód": "Összesen",
                                    "Rendelések száma": "15"
                                },
                                {
                                    "Felhasználó név": "gabriella1",
                                    "Rendelési mód": "GLS",
                                    "Rendelések száma": "5"
                                },
                                {
                                    "Felhasználó név": "gabriella1",
                                    "Rendelési mód": "Posta",
                                    "Rendelések száma": "4"
                                },
                                {
                                    "Felhasználó név": "gabriella1",
                                    "Rendelési mód": "Személyes ",
                                    "Rendelések száma": "5"
                                },
                                {
                                    "Felhasználó név": "gabriella1",
                                    "Rendelési mód": "Összesen",
                                    "Rendelések száma": "14"
                                },
                                {
                                    "Felhasználó név": "gabriella1",
                                    "Rendelési mód": "GLS",
                                    "Rendelések száma": "4"
                                },
                                {
                                    "Felhasználó név": "gabriella1",
                                    "Rendelési mód": "Posta",
                                    "Rendelések száma": "5"
                                },
                                {
                                    "Felhasználó név": "gabriella1",
                                    "Rendelési mód": "Személyes ",
                                    "Rendelések száma": "7"
                                },
                                {
                                    "Felhasználó név": "gabriella1",
                                    "Rendelési mód": "Összesen",
                                    "Rendelések száma": "16"
                                },
                                {
                                    "Felhasználó név": "georgij",
                                    "Rendelési mód": "GLS",
                                    "Rendelések száma": "9"
                                },
                                {
                                    "Felhasználó név": "georgij",
                                    "Rendelési mód": "Posta",
                                    "Rendelések száma": "2"
                                },
                                {
                                    "Felhasználó név": "georgij",
                                    "Rendelési mód": "Személyes ",
                                    "Rendelések száma": "10"
                                },
                                {
                                    "Felhasználó név": "georgij",
                                    "Rendelési mód": "Összesen",
                                    "Rendelések száma": "21"
                                },
                                {
                                    "Felhasználó név": "gusztav",
                                    "Rendelési mód": "GLS",
                                    "Rendelések száma": "5"
                                },
                                {
                                    "Felhasználó név": "gusztav",
                                    "Rendelési mód": "Posta",
                                    "Rendelések száma": "4"
                                },
                                {
                                    "Felhasználó név": "gusztav",
                                    "Rendelési mód": "Személyes ",
                                    "Rendelések száma": "5"
                                },
                                {
                                    "Felhasználó név": "gusztav",
                                    "Rendelési mód": "Összesen",
                                    "Rendelések száma": "14"
                                },
                                {
                                    "Felhasználó név": "GYONGYIK",
                                    "Rendelési mód": "GLS",
                                    "Rendelések száma": "6"
                                },
                                {
                                    "Felhasználó név": "GYONGYIK",
                                    "Rendelési mód": "Posta",
                                    "Rendelések száma": "6"
                                },
                                {
                                    "Felhasználó név": "GYONGYIK",
                                    "Rendelési mód": "Személyes ",
                                    "Rendelések száma": "3"
                                },
                                {
                                    "Felhasználó név": "GYONGYIK",
                                    "Rendelési mód": "Összesen",
                                    "Rendelések száma": "15"
                                },
                                {
                                    "Felhasználó név": "GYORGYO",
                                    "Rendelési mód": "GLS",
                                    "Rendelések száma": "7"
                                },
                                {
                                    "Felhasználó név": "GYORGYO",
                                    "Rendelési mód": "Posta",
                                    "Rendelések száma": "4"
                                },
                                {
                                    "Felhasználó név": "GYORGYO",
                                    "Rendelési mód": "Személyes ",
                                    "Rendelések száma": "5"
                                },
                                {
                                    "Felhasználó név": "GYORGYO",
                                    "Rendelési mód": "Összesen",
                                    "Rendelések száma": "16"
                                },
                                {
                                    "Felhasználó név": "henrik3",
                                    "Rendelési mód": "GLS",
                                    "Rendelések száma": "7"
                                },
                                {
                                    "Felhasználó név": "henrik3",
                                    "Rendelési mód": "Posta",
                                    "Rendelések száma": "4"
                                },
                                {
                                    "Felhasználó név": "henrik3",
                                    "Rendelési mód": "Személyes ",
                                    "Rendelések száma": "5"
                                },
                                {
                                    "Felhasználó név": "henrik3",
                                    "Rendelési mód": "Összesen",
                                    "Rendelések száma": "16"
                                },
                                {
                                    "Felhasználó név": "IBOLYAA",
                                    "Rendelési mód": "GLS",
                                    "Rendelések száma": "140"
                                },
                                {
                                    "Felhasználó név": "IBOLYAA",
                                    "Rendelési mód": "Posta",
                                    "Rendelések száma": "125"
                                },
                                {
                                    "Felhasználó név": "IBOLYAA",
                                    "Rendelési mód": "Személyes ",
                                    "Rendelések száma": "157"
                                },
                                {
                                    "Felhasználó név": "IBOLYAA",
                                    "Rendelési mód": "Összesen",
                                    "Rendelések száma": "422"
                                },
                                {
                                    "Felhasználó név": "ilona3",
                                    "Rendelési mód": "GLS",
                                    "Rendelések száma": "9"
                                },
                                {
                                    "Felhasználó név": "ilona3",
                                    "Rendelési mód": "Posta",
                                    "Rendelések száma": "2"
                                },
                                {
                                    "Felhasználó név": "ilona3",
                                    "Rendelési mód": "Személyes ",
                                    "Rendelések száma": "7"
                                },
                                {
                                    "Felhasználó név": "ilona3",
                                    "Rendelési mód": "Összesen",
                                    "Rendelések száma": "18"
                                },
                                {
                                    "Felhasználó név": "imre",
                                    "Rendelési mód": "GLS",
                                    "Rendelések száma": "5"
                                },
                                {
                                    "Felhasználó név": "imre",
                                    "Rendelési mód": "Posta",
                                    "Rendelések száma": "4"
                                },
                                {
                                    "Felhasználó név": "imre",
                                    "Rendelési mód": "Személyes ",
                                    "Rendelések száma": "6"
                                },
                                {
                                    "Felhasználó név": "imre",
                                    "Rendelési mód": "Összesen",
                                    "Rendelések száma": "15"
                                },
                                {
                                    "Felhasználó név": "imre1",
                                    "Rendelési mód": "GLS",
                                    "Rendelések száma": "8"
                                },
                                {
                                    "Felhasználó név": "imre1",
                                    "Rendelési mód": "Posta",
                                    "Rendelések száma": "4"
                                },
                                {
                                    "Felhasználó név": "imre1",
                                    "Rendelési mód": "Személyes ",
                                    "Rendelések száma": "3"
                                },
                                {
                                    "Felhasználó név": "imre1",
                                    "Rendelési mód": "Összesen",
                                    "Rendelések száma": "15"
                                },
                                {
                                    "Felhasználó név": "istvan",
                                    "Rendelési mód": "GLS",
                                    "Rendelések száma": "3"
                                },
                                {
                                    "Felhasználó név": "istvan",
                                    "Rendelési mód": "Posta",
                                    "Rendelések száma": "4"
                                },
                                {
                                    "Felhasználó név": "istvan",
                                    "Rendelési mód": "Személyes ",
                                    "Rendelések száma": "4"
                                },
                                {
                                    "Felhasználó név": "istvan",
                                    "Rendelési mód": "Összesen",
                                    "Rendelések száma": "11"
                                },
                                {
                                    "Felhasználó név": "istvan1",
                                    "Rendelési mód": "GLS",
                                    "Rendelések száma": "8"
                                },
                                {
                                    "Felhasználó név": "istvan1",
                                    "Rendelési mód": "Posta",
                                    "Rendelések száma": "4"
                                },
                                {
                                    "Felhasználó név": "istvan1",
                                    "Rendelési mód": "Személyes ",
                                    "Rendelések száma": "7"
                                },
                                {
                                    "Felhasználó név": "istvan1",
                                    "Rendelési mód": "Összesen",
                                    "Rendelések száma": "19"
                                },
                                {
                                    "Felhasználó név": "ISTVANV",
                                    "Rendelési mód": "GLS",
                                    "Rendelések száma": "4"
                                },
                                {
                                    "Felhasználó név": "ISTVANV",
                                    "Rendelési mód": "Posta",
                                    "Rendelések száma": "9"
                                },
                                {
                                    "Felhasználó név": "ISTVANV",
                                    "Rendelési mód": "Személyes ",
                                    "Rendelések száma": "8"
                                },
                                {
                                    "Felhasználó név": "ISTVANV",
                                    "Rendelési mód": "Összesen",
                                    "Rendelések száma": "21"
                                },
                                {
                                    "Felhasználó név": "janos3",
                                    "Rendelési mód": "GLS",
                                    "Rendelések száma": "5"
                                },
                                {
                                    "Felhasználó név": "janos3",
                                    "Rendelési mód": "Posta",
                                    "Rendelések száma": "2"
                                },
                                {
                                    "Felhasználó név": "janos3",
                                    "Rendelési mód": "Személyes ",
                                    "Rendelések száma": "6"
                                },
                                {
                                    "Felhasználó név": "janos3",
                                    "Rendelési mód": "Összesen",
                                    "Rendelések száma": "13"
                                },
                                {
                                    "Felhasználó név": "JANOSG",
                                    "Rendelési mód": "GLS",
                                    "Rendelések száma": "3"
                                },
                                {
                                    "Felhasználó név": "JANOSG",
                                    "Rendelési mód": "Posta",
                                    "Rendelések száma": "3"
                                },
                                {
                                    "Felhasználó név": "JANOSG",
                                    "Rendelési mód": "Személyes ",
                                    "Rendelések száma": "4"
                                },
                                {
                                    "Felhasználó név": "JANOSG",
                                    "Rendelési mód": "Összesen",
                                    "Rendelések száma": "10"
                                },
                                {
                                    "Felhasználó név": "JANOSP",
                                    "Rendelési mód": "GLS",
                                    "Rendelések száma": "7"
                                },
                                {
                                    "Felhasználó név": "JANOSP",
                                    "Rendelési mód": "Posta",
                                    "Rendelések száma": "7"
                                },
                                {
                                    "Felhasználó név": "JANOSP",
                                    "Rendelési mód": "Személyes ",
                                    "Rendelések száma": "3"
                                },
                                {
                                    "Felhasználó név": "JANOSP",
                                    "Rendelési mód": "Összesen",
                                    "Rendelések száma": "17"
                                },
                                {
                                    "Felhasználó név": "jozsef",
                                    "Rendelési mód": "GLS",
                                    "Rendelések száma": "116"
                                },
                                {
                                    "Felhasználó név": "jozsef",
                                    "Rendelési mód": "Posta",
                                    "Rendelések száma": "132"
                                },
                                {
                                    "Felhasználó név": "jozsef",
                                    "Rendelési mód": "Személyes ",
                                    "Rendelések száma": "134"
                                },
                                {
                                    "Felhasználó név": "jozsef",
                                    "Rendelési mód": "Összesen",
                                    "Rendelések száma": "382"
                                },
                                {
                                    "Felhasználó név": "jozsef2",
                                    "Rendelési mód": "GLS",
                                    "Rendelések száma": "7"
                                },
                                {
                                    "Felhasználó név": "jozsef2",
                                    "Rendelési mód": "Posta",
                                    "Rendelések száma": "2"
                                },
                                {
                                    "Felhasználó név": "jozsef2",
                                    "Rendelési mód": "Személyes ",
                                    "Rendelések száma": "4"
                                },
                                {
                                    "Felhasználó név": "jozsef2",
                                    "Rendelési mód": "Összesen",
                                    "Rendelések száma": "13"
                                },
                                {
                                    "Felhasználó név": "JOZSEFG",
                                    "Rendelési mód": "GLS",
                                    "Rendelések száma": "11"
                                },
                                {
                                    "Felhasználó név": "JOZSEFG",
                                    "Rendelési mód": "Posta",
                                    "Rendelések száma": "1"
                                },
                                {
                                    "Felhasználó név": "JOZSEFG",
                                    "Rendelési mód": "Személyes ",
                                    "Rendelések száma": "9"
                                },
                                {
                                    "Felhasználó név": "JOZSEFG",
                                    "Rendelési mód": "Összesen",
                                    "Rendelések száma": "21"
                                },
                                {
                                    "Felhasználó név": "JUDITH",
                                    "Rendelési mód": "GLS",
                                    "Rendelések száma": "170"
                                },
                                {
                                    "Felhasználó név": "JUDITH",
                                    "Rendelési mód": "Posta",
                                    "Rendelések száma": "130"
                                },
                                {
                                    "Felhasználó név": "JUDITH",
                                    "Rendelési mód": "Személyes ",
                                    "Rendelések száma": "150"
                                },
                                {
                                    "Felhasználó név": "JUDITH",
                                    "Rendelési mód": "Összesen",
                                    "Rendelések száma": "450"
                                },
                                {
                                    "Felhasználó név": "julia",
                                    "Rendelési mód": "GLS",
                                    "Rendelések száma": "137"
                                },
                                {
                                    "Felhasználó név": "julia",
                                    "Rendelési mód": "Posta",
                                    "Rendelések száma": "160"
                                },
                                {
                                    "Felhasználó név": "julia",
                                    "Rendelési mód": "Személyes ",
                                    "Rendelések száma": "138"
                                },
                                {
                                    "Felhasználó név": "julia",
                                    "Rendelési mód": "Összesen",
                                    "Rendelések száma": "435"
                                },
                                {
                                    "Felhasználó név": "julia4",
                                    "Rendelési mód": "GLS",
                                    "Rendelések száma": "2"
                                },
                                {
                                    "Felhasználó név": "julia4",
                                    "Rendelési mód": "Posta",
                                    "Rendelések száma": "4"
                                },
                                {
                                    "Felhasználó név": "julia4",
                                    "Rendelési mód": "Személyes ",
                                    "Rendelések száma": "8"
                                },
                                {
                                    "Felhasználó név": "julia4",
                                    "Rendelési mód": "Összesen",
                                    "Rendelések száma": "14"
                                },
                                {
                                    "Felhasználó név": "julianna4",
                                    "Rendelési mód": "GLS",
                                    "Rendelések száma": "8"
                                },
                                {
                                    "Felhasználó név": "julianna4",
                                    "Rendelési mód": "Posta",
                                    "Rendelések száma": "12"
                                },
                                {
                                    "Felhasználó név": "julianna4",
                                    "Rendelési mód": "Személyes ",
                                    "Rendelések száma": "7"
                                },
                                {
                                    "Felhasználó név": "julianna4",
                                    "Rendelési mód": "Összesen",
                                    "Rendelések száma": "27"
                                },
                                {
                                    "Felhasználó név": "kata",
                                    "Rendelési mód": "GLS",
                                    "Rendelések száma": "5"
                                },
                                {
                                    "Felhasználó név": "kata",
                                    "Rendelési mód": "Posta",
                                    "Rendelések száma": "4"
                                },
                                {
                                    "Felhasználó név": "kata",
                                    "Rendelési mód": "Személyes ",
                                    "Rendelések száma": "3"
                                },
                                {
                                    "Felhasználó név": "kata",
                                    "Rendelési mód": "Összesen",
                                    "Rendelések száma": "12"
                                },
                                {
                                    "Felhasználó név": "katalin",
                                    "Rendelési mód": "GLS",
                                    "Rendelések száma": "7"
                                },
                                {
                                    "Felhasználó név": "katalin",
                                    "Rendelési mód": "Posta",
                                    "Rendelések száma": "7"
                                },
                                {
                                    "Felhasználó név": "katalin",
                                    "Rendelési mód": "Személyes ",
                                    "Rendelések száma": "5"
                                },
                                {
                                    "Felhasználó név": "katalin",
                                    "Rendelési mód": "Összesen",
                                    "Rendelések száma": "19"
                                },
                                {
                                    "Felhasználó név": "katalin4",
                                    "Rendelési mód": "GLS",
                                    "Rendelések száma": "7"
                                },
                                {
                                    "Felhasználó név": "katalin4",
                                    "Rendelési mód": "Posta",
                                    "Rendelések száma": "5"
                                },
                                {
                                    "Felhasználó név": "katalin4",
                                    "Rendelési mód": "Személyes ",
                                    "Rendelések száma": "11"
                                },
                                {
                                    "Felhasználó név": "katalin4",
                                    "Rendelési mód": "Összesen",
                                    "Rendelések száma": "23"
                                },
                                {
                                    "Felhasználó név": "kati",
                                    "Rendelési mód": "GLS",
                                    "Rendelések száma": "4"
                                },
                                {
                                    "Felhasználó név": "kati",
                                    "Rendelési mód": "Posta",
                                    "Rendelések száma": "5"
                                },
                                {
                                    "Felhasználó név": "kati",
                                    "Rendelési mód": "Személyes ",
                                    "Rendelések száma": "4"
                                },
                                {
                                    "Felhasználó név": "kati",
                                    "Rendelési mód": "Összesen",
                                    "Rendelések száma": "13"
                                },
                                {
                                    "Felhasználó név": "katka",
                                    "Rendelési mód": "GLS",
                                    "Rendelések száma": "6"
                                },
                                {
                                    "Felhasználó név": "katka",
                                    "Rendelési mód": "Posta",
                                    "Rendelések száma": "6"
                                },
                                {
                                    "Felhasználó név": "katka",
                                    "Rendelési mód": "Személyes ",
                                    "Rendelések száma": "10"
                                },
                                {
                                    "Felhasználó név": "katka",
                                    "Rendelési mód": "Összesen",
                                    "Rendelések száma": "22"
                                },
                                {
                                    "Felhasználó név": "klaudia2",
                                    "Rendelési mód": "GLS",
                                    "Rendelések száma": "3"
                                },
                                {
                                    "Felhasználó név": "klaudia2",
                                    "Rendelési mód": "Posta",
                                    "Rendelések száma": "9"
                                },
                                {
                                    "Felhasználó név": "klaudia2",
                                    "Rendelési mód": "Személyes ",
                                    "Rendelések száma": "5"
                                },
                                {
                                    "Felhasználó név": "klaudia2",
                                    "Rendelési mód": "Összesen",
                                    "Rendelések száma": "17"
                                },
                                {
                                    "Felhasználó név": "kornel4",
                                    "Rendelési mód": "GLS",
                                    "Rendelések száma": "3"
                                },
                                {
                                    "Felhasználó név": "kornel4",
                                    "Rendelési mód": "Posta",
                                    "Rendelések száma": "1"
                                },
                                {
                                    "Felhasználó név": "kornel4",
                                    "Rendelési mód": "Személyes ",
                                    "Rendelések száma": "7"
                                },
                                {
                                    "Felhasználó név": "kornel4",
                                    "Rendelési mód": "Összesen",
                                    "Rendelések száma": "11"
                                },
                                {
                                    "Felhasználó név": "kristof4",
                                    "Rendelési mód": "GLS",
                                    "Rendelések száma": "9"
                                },
                                {
                                    "Felhasználó név": "kristof4",
                                    "Rendelési mód": "Posta",
                                    "Rendelések száma": "4"
                                },
                                {
                                    "Felhasználó név": "kristof4",
                                    "Rendelési mód": "Személyes ",
                                    "Rendelések száma": "8"
                                },
                                {
                                    "Felhasználó név": "kristof4",
                                    "Rendelési mód": "Összesen",
                                    "Rendelések száma": "21"
                                },
                                {
                                    "Felhasználó név": "kriszti",
                                    "Rendelési mód": "GLS",
                                    "Rendelések száma": "3"
                                },
                                {
                                    "Felhasználó név": "kriszti",
                                    "Rendelési mód": "Posta",
                                    "Rendelések száma": "5"
                                },
                                {
                                    "Felhasználó név": "kriszti",
                                    "Rendelési mód": "Személyes ",
                                    "Rendelések száma": "5"
                                },
                                {
                                    "Felhasználó név": "kriszti",
                                    "Rendelési mód": "Összesen",
                                    "Rendelések száma": "13"
                                },
                                {
                                    "Felhasználó név": "krisztian4",
                                    "Rendelési mód": "GLS",
                                    "Rendelések száma": "5"
                                },
                                {
                                    "Felhasználó név": "krisztian4",
                                    "Rendelési mód": "Posta",
                                    "Rendelések száma": "6"
                                },
                                {
                                    "Felhasználó név": "krisztian4",
                                    "Rendelési mód": "Személyes ",
                                    "Rendelések száma": "6"
                                },
                                {
                                    "Felhasználó név": "krisztian4",
                                    "Rendelési mód": "Összesen",
                                    "Rendelések száma": "17"
                                },
                                {
                                    "Felhasználó név": "KRISZTIANM",
                                    "Rendelési mód": "GLS",
                                    "Rendelések száma": "118"
                                },
                                {
                                    "Felhasználó név": "KRISZTIANM",
                                    "Rendelési mód": "Posta",
                                    "Rendelések száma": "136"
                                },
                                {
                                    "Felhasználó név": "KRISZTIANM",
                                    "Rendelési mód": "Személyes ",
                                    "Rendelések száma": "130"
                                },
                                {
                                    "Felhasználó név": "KRISZTIANM",
                                    "Rendelési mód": "Összesen",
                                    "Rendelések száma": "384"
                                },
                                {
                                    "Felhasználó név": "krisztina",
                                    "Rendelési mód": "GLS",
                                    "Rendelések száma": "149"
                                },
                                {
                                    "Felhasználó név": "krisztina",
                                    "Rendelési mód": "Posta",
                                    "Rendelések száma": "150"
                                },
                                {
                                    "Felhasználó név": "krisztina",
                                    "Rendelési mód": "Személyes ",
                                    "Rendelések száma": "157"
                                },
                                {
                                    "Felhasználó név": "krisztina",
                                    "Rendelési mód": "Összesen",
                                    "Rendelések száma": "456"
                                },
                                {
                                    "Felhasználó név": "krisztina1",
                                    "Rendelési mód": "GLS",
                                    "Rendelések száma": "10"
                                },
                                {
                                    "Felhasználó név": "krisztina1",
                                    "Rendelési mód": "Posta",
                                    "Rendelések száma": "4"
                                },
                                {
                                    "Felhasználó név": "krisztina1",
                                    "Rendelési mód": "Személyes ",
                                    "Rendelések száma": "8"
                                },
                                {
                                    "Felhasználó név": "krisztina1",
                                    "Rendelési mód": "Összesen",
                                    "Rendelések száma": "22"
                                },
                                {
                                    "Felhasználó név": "KRISZTINAG",
                                    "Rendelési mód": "GLS",
                                    "Rendelések száma": "6"
                                },
                                {
                                    "Felhasználó név": "KRISZTINAG",
                                    "Rendelési mód": "Posta",
                                    "Rendelések száma": "6"
                                },
                                {
                                    "Felhasználó név": "KRISZTINAG",
                                    "Rendelési mód": "Személyes ",
                                    "Rendelések száma": "10"
                                },
                                {
                                    "Felhasználó név": "KRISZTINAG",
                                    "Rendelési mód": "Összesen",
                                    "Rendelések száma": "22"
                                },
                                {
                                    "Felhasználó név": "lajos",
                                    "Rendelési mód": "GLS",
                                    "Rendelések száma": "5"
                                },
                                {
                                    "Felhasználó név": "lajos",
                                    "Rendelési mód": "Posta",
                                    "Rendelések száma": "2"
                                },
                                {
                                    "Felhasználó név": "lajos",
                                    "Rendelési mód": "Személyes ",
                                    "Rendelések száma": "9"
                                },
                                {
                                    "Felhasználó név": "lajos",
                                    "Rendelési mód": "Összesen",
                                    "Rendelések száma": "16"
                                },
                                {
                                    "Felhasználó név": "lala",
                                    "Rendelési mód": "GLS",
                                    "Rendelések száma": "5"
                                },
                                {
                                    "Felhasználó név": "lala",
                                    "Rendelési mód": "Posta",
                                    "Rendelések száma": "3"
                                },
                                {
                                    "Felhasználó név": "lala",
                                    "Rendelési mód": "Személyes ",
                                    "Rendelések száma": "9"
                                },
                                {
                                    "Felhasználó név": "lala",
                                    "Rendelési mód": "Összesen",
                                    "Rendelések száma": "17"
                                },
                                {
                                    "Felhasználó név": "laszlo1",
                                    "Rendelési mód": "GLS",
                                    "Rendelések száma": "130"
                                },
                                {
                                    "Felhasználó név": "laszlo1",
                                    "Rendelési mód": "Posta",
                                    "Rendelések száma": "129"
                                },
                                {
                                    "Felhasználó név": "laszlo1",
                                    "Rendelési mód": "Személyes ",
                                    "Rendelések száma": "135"
                                },
                                {
                                    "Felhasználó név": "laszlo1",
                                    "Rendelési mód": "Összesen",
                                    "Rendelések száma": "394"
                                },
                                {
                                    "Felhasználó név": "laszlo2",
                                    "Rendelési mód": "GLS",
                                    "Rendelések száma": "12"
                                },
                                {
                                    "Felhasználó név": "laszlo2",
                                    "Rendelési mód": "Posta",
                                    "Rendelések száma": "6"
                                },
                                {
                                    "Felhasználó név": "laszlo2",
                                    "Rendelési mód": "Személyes ",
                                    "Rendelések száma": "7"
                                },
                                {
                                    "Felhasználó név": "laszlo2",
                                    "Rendelési mód": "Összesen",
                                    "Rendelések száma": "25"
                                },
                                {
                                    "Felhasználó név": "LASZLOA",
                                    "Rendelési mód": "GLS",
                                    "Rendelések száma": "156"
                                },
                                {
                                    "Felhasználó név": "LASZLOA",
                                    "Rendelési mód": "Posta",
                                    "Rendelések száma": "136"
                                },
                                {
                                    "Felhasználó név": "LASZLOA",
                                    "Rendelési mód": "Személyes ",
                                    "Rendelések száma": "154"
                                },
                                {
                                    "Felhasználó név": "LASZLOA",
                                    "Rendelési mód": "Összesen",
                                    "Rendelések száma": "446"
                                },
                                {
                                    "Felhasználó név": "LASZLON",
                                    "Rendelési mód": "GLS",
                                    "Rendelések száma": "126"
                                },
                                {
                                    "Felhasználó név": "LASZLON",
                                    "Rendelési mód": "Posta",
                                    "Rendelések száma": "131"
                                },
                                {
                                    "Felhasználó név": "LASZLON",
                                    "Rendelési mód": "Személyes ",
                                    "Rendelések száma": "143"
                                },
                                {
                                    "Felhasználó név": "LASZLON",
                                    "Rendelési mód": "Összesen",
                                    "Rendelések száma": "400"
                                },
                                {
                                    "Felhasználó név": "maria1",
                                    "Rendelési mód": "GLS",
                                    "Rendelések száma": "4"
                                },
                                {
                                    "Felhasználó név": "maria1",
                                    "Rendelési mód": "Posta",
                                    "Rendelések száma": "5"
                                },
                                {
                                    "Felhasználó név": "maria1",
                                    "Rendelési mód": "Személyes ",
                                    "Rendelések száma": "1"
                                },
                                {
                                    "Felhasználó név": "maria1",
                                    "Rendelési mód": "Összesen",
                                    "Rendelések száma": "10"
                                },
                                {
                                    "Felhasználó név": "MARKH",
                                    "Rendelési mód": "GLS",
                                    "Rendelések száma": "128"
                                },
                                {
                                    "Felhasználó név": "MARKH",
                                    "Rendelési mód": "Posta",
                                    "Rendelések száma": "142"
                                },
                                {
                                    "Felhasználó név": "MARKH",
                                    "Rendelési mód": "Személyes ",
                                    "Rendelések száma": "142"
                                },
                                {
                                    "Felhasználó név": "MARKH",
                                    "Rendelési mód": "Összesen",
                                    "Rendelések száma": "412"
                                },
                                {
                                    "Felhasználó név": "marton",
                                    "Rendelési mód": "GLS",
                                    "Rendelések száma": "5"
                                },
                                {
                                    "Felhasználó név": "marton",
                                    "Rendelési mód": "Posta",
                                    "Rendelések száma": "4"
                                },
                                {
                                    "Felhasználó név": "marton",
                                    "Rendelési mód": "Személyes ",
                                    "Rendelések száma": "5"
                                },
                                {
                                    "Felhasználó név": "marton",
                                    "Rendelési mód": "Összesen",
                                    "Rendelések száma": "14"
                                },
                                {
                                    "Felhasználó név": "MATEK",
                                    "Rendelési mód": "GLS",
                                    "Rendelések száma": "6"
                                },
                                {
                                    "Felhasználó név": "MATEK",
                                    "Rendelési mód": "Posta",
                                    "Rendelések száma": "10"
                                },
                                {
                                    "Felhasználó név": "MATEK",
                                    "Rendelési mód": "Személyes ",
                                    "Rendelések száma": "9"
                                },
                                {
                                    "Felhasználó név": "MATEK",
                                    "Rendelési mód": "Összesen",
                                    "Rendelések száma": "25"
                                },
                                {
                                    "Felhasználó név": "matyas2",
                                    "Rendelési mód": "GLS",
                                    "Rendelések száma": "138"
                                },
                                {
                                    "Felhasználó név": "matyas2",
                                    "Rendelési mód": "Posta",
                                    "Rendelések száma": "131"
                                },
                                {
                                    "Felhasználó név": "matyas2",
                                    "Rendelési mód": "Személyes ",
                                    "Rendelések száma": "164"
                                },
                                {
                                    "Felhasználó név": "matyas2",
                                    "Rendelési mód": "Összesen",
                                    "Rendelések száma": "433"
                                },
                                {
                                    "Felhasználó név": "MATYASS",
                                    "Rendelési mód": "GLS",
                                    "Rendelések száma": "4"
                                },
                                {
                                    "Felhasználó név": "MATYASS",
                                    "Rendelési mód": "Posta",
                                    "Rendelések száma": "5"
                                },
                                {
                                    "Felhasználó név": "MATYASS",
                                    "Rendelési mód": "Személyes ",
                                    "Rendelések száma": "3"
                                },
                                {
                                    "Felhasználó név": "MATYASS",
                                    "Rendelési mód": "Összesen",
                                    "Rendelések száma": "12"
                                },
                                {
                                    "Felhasználó név": "MIHALYJ",
                                    "Rendelési mód": "GLS",
                                    "Rendelések száma": "3"
                                },
                                {
                                    "Felhasználó név": "MIHALYJ",
                                    "Rendelési mód": "Posta",
                                    "Rendelések száma": "4"
                                },
                                {
                                    "Felhasználó név": "MIHALYJ",
                                    "Rendelési mód": "Személyes ",
                                    "Rendelések száma": "6"
                                },
                                {
                                    "Felhasználó név": "MIHALYJ",
                                    "Rendelési mód": "Összesen",
                                    "Rendelések száma": "13"
                                },
                                {
                                    "Felhasználó név": "miklos2",
                                    "Rendelési mód": "GLS",
                                    "Rendelések száma": "7"
                                },
                                {
                                    "Felhasználó név": "miklos2",
                                    "Rendelési mód": "Posta",
                                    "Rendelések száma": "4"
                                },
                                {
                                    "Felhasználó név": "miklos2",
                                    "Rendelési mód": "Személyes ",
                                    "Rendelések száma": "2"
                                },
                                {
                                    "Felhasználó név": "miklos2",
                                    "Rendelési mód": "Összesen",
                                    "Rendelések száma": "13"
                                },
                                {
                                    "Felhasználó név": "MIKLOSB",
                                    "Rendelési mód": "GLS",
                                    "Rendelések száma": "6"
                                },
                                {
                                    "Felhasználó név": "MIKLOSB",
                                    "Rendelési mód": "Posta",
                                    "Rendelések száma": "1"
                                },
                                {
                                    "Felhasználó név": "MIKLOSB",
                                    "Rendelési mód": "Személyes ",
                                    "Rendelések száma": "8"
                                },
                                {
                                    "Felhasználó név": "MIKLOSB",
                                    "Rendelési mód": "Összesen",
                                    "Rendelések száma": "15"
                                },
                                {
                                    "Felhasználó név": "MONIKAM",
                                    "Rendelési mód": "GLS",
                                    "Rendelések száma": "133"
                                },
                                {
                                    "Felhasználó név": "MONIKAM",
                                    "Rendelési mód": "Posta",
                                    "Rendelések száma": "151"
                                },
                                {
                                    "Felhasználó név": "MONIKAM",
                                    "Rendelési mód": "Személyes ",
                                    "Rendelések száma": "123"
                                },
                                {
                                    "Felhasználó név": "MONIKAM",
                                    "Rendelési mód": "Összesen",
                                    "Rendelések száma": "407"
                                },
                                {
                                    "Felhasználó név": "NANDORF",
                                    "Rendelési mód": "GLS",
                                    "Rendelések száma": "147"
                                },
                                {
                                    "Felhasználó név": "NANDORF",
                                    "Rendelési mód": "Posta",
                                    "Rendelések száma": "139"
                                },
                                {
                                    "Felhasználó név": "NANDORF",
                                    "Rendelési mód": "Személyes ",
                                    "Rendelések száma": "134"
                                },
                                {
                                    "Felhasználó név": "NANDORF",
                                    "Rendelési mód": "Összesen",
                                    "Rendelések száma": "420"
                                },
                                {
                                    "Felhasználó név": "nikolett3",
                                    "Rendelési mód": "GLS",
                                    "Rendelések száma": "4"
                                },
                                {
                                    "Felhasználó név": "nikolett3",
                                    "Rendelési mód": "Posta",
                                    "Rendelések száma": "3"
                                },
                                {
                                    "Felhasználó név": "nikolett3",
                                    "Rendelési mód": "Személyes ",
                                    "Rendelések száma": "10"
                                },
                                {
                                    "Felhasználó név": "nikolett3",
                                    "Rendelési mód": "Összesen",
                                    "Rendelések száma": "17"
                                },
                                {
                                    "Felhasználó név": "nikoletta4",
                                    "Rendelési mód": "GLS",
                                    "Rendelések száma": "137"
                                },
                                {
                                    "Felhasználó név": "nikoletta4",
                                    "Rendelési mód": "Posta",
                                    "Rendelések száma": "158"
                                },
                                {
                                    "Felhasználó név": "nikoletta4",
                                    "Rendelési mód": "Személyes ",
                                    "Rendelések száma": "119"
                                },
                                {
                                    "Felhasználó név": "nikoletta4",
                                    "Rendelési mód": "Összesen",
                                    "Rendelések száma": "414"
                                },
                                {
                                    "Felhasználó név": "NIKOLETTAT",
                                    "Rendelési mód": "GLS",
                                    "Rendelések száma": "13"
                                },
                                {
                                    "Felhasználó név": "NIKOLETTAT",
                                    "Rendelési mód": "Posta",
                                    "Rendelések száma": "7"
                                },
                                {
                                    "Felhasználó név": "NIKOLETTAT",
                                    "Rendelési mód": "Személyes ",
                                    "Rendelések száma": "5"
                                },
                                {
                                    "Felhasználó név": "NIKOLETTAT",
                                    "Rendelési mód": "Összesen",
                                    "Rendelések száma": "25"
                                },
                                {
                                    "Felhasználó név": "norbert2",
                                    "Rendelési mód": "GLS",
                                    "Rendelések száma": "7"
                                },
                                {
                                    "Felhasználó név": "norbert2",
                                    "Rendelési mód": "Posta",
                                    "Rendelések száma": "4"
                                },
                                {
                                    "Felhasználó név": "norbert2",
                                    "Rendelési mód": "Összesen",
                                    "Rendelések száma": "11"
                                },
                                {
                                    "Felhasználó név": "norbert4",
                                    "Rendelési mód": "GLS",
                                    "Rendelések száma": "1"
                                },
                                {
                                    "Felhasználó név": "norbert4",
                                    "Rendelési mód": "Posta",
                                    "Rendelések száma": "3"
                                },
                                {
                                    "Felhasználó név": "norbert4",
                                    "Rendelési mód": "Személyes ",
                                    "Rendelések száma": "9"
                                },
                                {
                                    "Felhasználó név": "norbert4",
                                    "Rendelési mód": "Összesen",
                                    "Rendelések száma": "13"
                                },
                                {
                                    "Felhasználó név": "norbert5",
                                    "Rendelési mód": "GLS",
                                    "Rendelések száma": "1"
                                },
                                {
                                    "Felhasználó név": "norbert5",
                                    "Rendelési mód": "Posta",
                                    "Rendelések száma": "6"
                                },
                                {
                                    "Felhasználó név": "norbert5",
                                    "Rendelési mód": "Személyes ",
                                    "Rendelések száma": "9"
                                },
                                {
                                    "Felhasználó név": "norbert5",
                                    "Rendelési mód": "Összesen",
                                    "Rendelések száma": "16"
                                },
                                {
                                    "Felhasználó név": "pal",
                                    "Rendelési mód": "GLS",
                                    "Rendelések száma": "152"
                                },
                                {
                                    "Felhasználó név": "pal",
                                    "Rendelési mód": "Posta",
                                    "Rendelések száma": "132"
                                },
                                {
                                    "Felhasználó név": "pal",
                                    "Rendelési mód": "Személyes ",
                                    "Rendelések száma": "154"
                                },
                                {
                                    "Felhasználó név": "pal",
                                    "Rendelési mód": "Összesen",
                                    "Rendelések száma": "438"
                                },
                                {
                                    "Felhasználó név": "peter1",
                                    "Rendelési mód": "GLS",
                                    "Rendelések száma": "151"
                                },
                                {
                                    "Felhasználó név": "peter1",
                                    "Rendelési mód": "Posta",
                                    "Rendelések száma": "135"
                                },
                                {
                                    "Felhasználó név": "peter1",
                                    "Rendelési mód": "Személyes ",
                                    "Rendelések száma": "126"
                                },
                                {
                                    "Felhasználó név": "peter1",
                                    "Rendelési mód": "Összesen",
                                    "Rendelések száma": "412"
                                },
                                {
                                    "Felhasználó név": "peter2",
                                    "Rendelési mód": "GLS",
                                    "Rendelések száma": "7"
                                },
                                {
                                    "Felhasználó név": "peter2",
                                    "Rendelési mód": "Posta",
                                    "Rendelések száma": "4"
                                },
                                {
                                    "Felhasználó név": "peter2",
                                    "Rendelési mód": "Személyes ",
                                    "Rendelések száma": "7"
                                },
                                {
                                    "Felhasználó név": "peter2",
                                    "Rendelési mód": "Összesen",
                                    "Rendelések száma": "18"
                                },
                                {
                                    "Felhasználó név": "peter3",
                                    "Rendelési mód": "GLS",
                                    "Rendelések száma": "8"
                                },
                                {
                                    "Felhasználó név": "peter3",
                                    "Rendelési mód": "Posta",
                                    "Rendelések száma": "7"
                                },
                                {
                                    "Felhasználó név": "peter3",
                                    "Rendelési mód": "Személyes ",
                                    "Rendelések száma": "10"
                                },
                                {
                                    "Felhasználó név": "peter3",
                                    "Rendelési mód": "Összesen",
                                    "Rendelések száma": "25"
                                },
                                {
                                    "Felhasználó név": "peter4",
                                    "Rendelési mód": "GLS",
                                    "Rendelések száma": "266"
                                },
                                {
                                    "Felhasználó név": "peter4",
                                    "Rendelési mód": "Posta",
                                    "Rendelések száma": "293"
                                },
                                {
                                    "Felhasználó név": "peter4",
                                    "Rendelési mód": "Személyes ",
                                    "Rendelések száma": "293"
                                },
                                {
                                    "Felhasználó név": "peter4",
                                    "Rendelési mód": "Összesen",
                                    "Rendelések száma": "852"
                                },
                                {
                                    "Felhasználó név": "PETERB",
                                    "Rendelési mód": "GLS",
                                    "Rendelések száma": "2"
                                },
                                {
                                    "Felhasználó név": "PETERB",
                                    "Rendelési mód": "Posta",
                                    "Rendelések száma": "4"
                                },
                                {
                                    "Felhasználó név": "PETERB",
                                    "Rendelési mód": "Személyes ",
                                    "Rendelések száma": "9"
                                },
                                {
                                    "Felhasználó név": "PETERB",
                                    "Rendelési mód": "Összesen",
                                    "Rendelések száma": "15"
                                },
                                {
                                    "Felhasználó név": "polla",
                                    "Rendelési mód": "GLS",
                                    "Rendelések száma": "9"
                                },
                                {
                                    "Felhasználó név": "polla",
                                    "Rendelési mód": "Posta",
                                    "Rendelések száma": "6"
                                },
                                {
                                    "Felhasználó név": "polla",
                                    "Rendelési mód": "Személyes ",
                                    "Rendelések száma": "7"
                                },
                                {
                                    "Felhasználó név": "polla",
                                    "Rendelési mód": "Összesen",
                                    "Rendelések száma": "22"
                                },
                                {
                                    "Felhasználó név": "rajmond4",
                                    "Rendelési mód": "GLS",
                                    "Rendelések száma": "6"
                                },
                                {
                                    "Felhasználó név": "rajmond4",
                                    "Rendelési mód": "Posta",
                                    "Rendelések száma": "5"
                                },
                                {
                                    "Felhasználó név": "rajmond4",
                                    "Rendelési mód": "Személyes ",
                                    "Rendelések száma": "6"
                                },
                                {
                                    "Felhasználó név": "rajmond4",
                                    "Rendelési mód": "Összesen",
                                    "Rendelések száma": "17"
                                },
                                {
                                    "Felhasználó név": "reka4",
                                    "Rendelési mód": "GLS",
                                    "Rendelések száma": "5"
                                },
                                {
                                    "Felhasználó név": "reka4",
                                    "Rendelési mód": "Posta",
                                    "Rendelések száma": "4"
                                },
                                {
                                    "Felhasználó név": "reka4",
                                    "Rendelési mód": "Személyes ",
                                    "Rendelések száma": "11"
                                },
                                {
                                    "Felhasználó név": "reka4",
                                    "Rendelési mód": "Összesen",
                                    "Rendelések száma": "20"
                                },
                                {
                                    "Felhasználó név": "RENATAK",
                                    "Rendelési mód": "GLS",
                                    "Rendelések száma": "135"
                                },
                                {
                                    "Felhasználó név": "RENATAK",
                                    "Rendelési mód": "Posta",
                                    "Rendelések száma": "140"
                                },
                                {
                                    "Felhasználó név": "RENATAK",
                                    "Rendelési mód": "Személyes ",
                                    "Rendelések száma": "147"
                                },
                                {
                                    "Felhasználó név": "RENATAK",
                                    "Rendelési mód": "Összesen",
                                    "Rendelések száma": "422"
                                },
                                {
                                    "Felhasználó név": "RENATAS",
                                    "Rendelési mód": "GLS",
                                    "Rendelések száma": "6"
                                },
                                {
                                    "Felhasználó név": "RENATAS",
                                    "Rendelési mód": "Posta",
                                    "Rendelések száma": "5"
                                },
                                {
                                    "Felhasználó név": "RENATAS",
                                    "Rendelési mód": "Személyes ",
                                    "Rendelések száma": "5"
                                },
                                {
                                    "Felhasználó név": "RENATAS",
                                    "Rendelési mód": "Összesen",
                                    "Rendelések száma": "16"
                                },
                                {
                                    "Felhasználó név": "robert2",
                                    "Rendelési mód": "GLS",
                                    "Rendelések száma": "5"
                                },
                                {
                                    "Felhasználó név": "robert2",
                                    "Rendelési mód": "Posta",
                                    "Rendelések száma": "1"
                                },
                                {
                                    "Felhasználó név": "robert2",
                                    "Rendelési mód": "Személyes ",
                                    "Rendelések száma": "7"
                                },
                                {
                                    "Felhasználó név": "robert2",
                                    "Rendelési mód": "Összesen",
                                    "Rendelések száma": "13"
                                },
                                {
                                    "Felhasználó név": "ROBERTI",
                                    "Rendelési mód": "GLS",
                                    "Rendelések száma": "5"
                                },
                                {
                                    "Felhasználó név": "ROBERTI",
                                    "Rendelési mód": "Posta",
                                    "Rendelések száma": "3"
                                },
                                {
                                    "Felhasználó név": "ROBERTI",
                                    "Rendelési mód": "Személyes ",
                                    "Rendelések száma": "5"
                                },
                                {
                                    "Felhasználó név": "ROBERTI",
                                    "Rendelési mód": "Összesen",
                                    "Rendelések száma": "13"
                                },
                                {
                                    "Felhasználó név": "ROBERTP",
                                    "Rendelési mód": "GLS",
                                    "Rendelések száma": "8"
                                },
                                {
                                    "Felhasználó név": "ROBERTP",
                                    "Rendelési mód": "Posta",
                                    "Rendelések száma": "8"
                                },
                                {
                                    "Felhasználó név": "ROBERTP",
                                    "Rendelési mód": "Személyes ",
                                    "Rendelések száma": "10"
                                },
                                {
                                    "Felhasználó név": "ROBERTP",
                                    "Rendelési mód": "Összesen",
                                    "Rendelések száma": "26"
                                },
                                {
                                    "Felhasználó név": "roland",
                                    "Rendelési mód": "GLS",
                                    "Rendelések száma": "132"
                                },
                                {
                                    "Felhasználó név": "roland",
                                    "Rendelési mód": "Posta",
                                    "Rendelések száma": "157"
                                },
                                {
                                    "Felhasználó név": "roland",
                                    "Rendelési mód": "Személyes ",
                                    "Rendelések száma": "125"
                                },
                                {
                                    "Felhasználó név": "roland",
                                    "Rendelési mód": "Összesen",
                                    "Rendelések száma": "414"
                                },
                                {
                                    "Felhasználó név": "roland1",
                                    "Rendelési mód": "GLS",
                                    "Rendelések száma": "142"
                                },
                                {
                                    "Felhasználó név": "roland1",
                                    "Rendelési mód": "Posta",
                                    "Rendelések száma": "155"
                                },
                                {
                                    "Felhasználó név": "roland1",
                                    "Rendelési mód": "Személyes ",
                                    "Rendelések száma": "135"
                                },
                                {
                                    "Felhasználó név": "roland1",
                                    "Rendelési mód": "Összesen",
                                    "Rendelések száma": "432"
                                },
                                {
                                    "Felhasználó név": "roza2",
                                    "Rendelési mód": "GLS",
                                    "Rendelések száma": "3"
                                },
                                {
                                    "Felhasználó név": "roza2",
                                    "Rendelési mód": "Posta",
                                    "Rendelések száma": "2"
                                },
                                {
                                    "Felhasználó név": "roza2",
                                    "Rendelési mód": "Személyes ",
                                    "Rendelések száma": "3"
                                },
                                {
                                    "Felhasználó név": "roza2",
                                    "Rendelési mód": "Összesen",
                                    "Rendelések száma": "8"
                                },
                                {
                                    "Felhasználó név": "sandor",
                                    "Rendelési mód": "GLS",
                                    "Rendelések száma": "4"
                                },
                                {
                                    "Felhasználó név": "sandor",
                                    "Rendelési mód": "Posta",
                                    "Rendelések száma": "6"
                                },
                                {
                                    "Felhasználó név": "sandor",
                                    "Rendelési mód": "Személyes ",
                                    "Rendelések száma": "7"
                                },
                                {
                                    "Felhasználó név": "sandor",
                                    "Rendelési mód": "Összesen",
                                    "Rendelések száma": "17"
                                },
                                {
                                    "Felhasználó név": "sandor3",
                                    "Rendelési mód": "GLS",
                                    "Rendelések száma": "4"
                                },
                                {
                                    "Felhasználó név": "sandor3",
                                    "Rendelési mód": "Posta",
                                    "Rendelések száma": "4"
                                },
                                {
                                    "Felhasználó név": "sandor3",
                                    "Rendelési mód": "Személyes ",
                                    "Rendelések száma": "6"
                                },
                                {
                                    "Felhasználó név": "sandor3",
                                    "Rendelési mód": "Összesen",
                                    "Rendelések száma": "14"
                                },
                                {
                                    "Felhasználó név": "sandor4",
                                    "Rendelési mód": "GLS",
                                    "Rendelések száma": "4"
                                },
                                {
                                    "Felhasználó név": "sandor4",
                                    "Rendelési mód": "Posta",
                                    "Rendelések száma": "2"
                                },
                                {
                                    "Felhasználó név": "sandor4",
                                    "Rendelési mód": "Személyes ",
                                    "Rendelések száma": "5"
                                },
                                {
                                    "Felhasználó név": "sandor4",
                                    "Rendelési mód": "Összesen",
                                    "Rendelések száma": "11"
                                },
                                {
                                    "Felhasználó név": "sara",
                                    "Rendelési mód": "GLS",
                                    "Rendelések száma": "4"
                                },
                                {
                                    "Felhasználó név": "sara",
                                    "Rendelési mód": "Posta",
                                    "Rendelések száma": "7"
                                },
                                {
                                    "Felhasználó név": "sara",
                                    "Rendelési mód": "Személyes ",
                                    "Rendelések száma": "9"
                                },
                                {
                                    "Felhasználó név": "sara",
                                    "Rendelési mód": "Összesen",
                                    "Rendelések száma": "20"
                                },
                                {
                                    "Felhasználó név": "SEBASTIANF",
                                    "Rendelési mód": "GLS",
                                    "Rendelések száma": "6"
                                },
                                {
                                    "Felhasználó név": "SEBASTIANF",
                                    "Rendelési mód": "Posta",
                                    "Rendelések száma": "3"
                                },
                                {
                                    "Felhasználó név": "SEBASTIANF",
                                    "Rendelési mód": "Személyes ",
                                    "Rendelések száma": "6"
                                },
                                {
                                    "Felhasználó név": "SEBASTIANF",
                                    "Rendelési mód": "Összesen",
                                    "Rendelések száma": "15"
                                },
                                {
                                    "Felhasználó név": "sebestyen",
                                    "Rendelési mód": "GLS",
                                    "Rendelések száma": "4"
                                },
                                {
                                    "Felhasználó név": "sebestyen",
                                    "Rendelési mód": "Posta",
                                    "Rendelések száma": "6"
                                },
                                {
                                    "Felhasználó név": "sebestyen",
                                    "Rendelési mód": "Személyes ",
                                    "Rendelések száma": "6"
                                },
                                {
                                    "Felhasználó név": "sebestyen",
                                    "Rendelési mód": "Összesen",
                                    "Rendelések száma": "16"
                                },
                                {
                                    "Felhasználó név": "szabolcs",
                                    "Rendelési mód": "GLS",
                                    "Rendelések száma": "145"
                                },
                                {
                                    "Felhasználó név": "szabolcs",
                                    "Rendelési mód": "Posta",
                                    "Rendelések száma": "157"
                                },
                                {
                                    "Felhasználó név": "szabolcs",
                                    "Rendelési mód": "Személyes ",
                                    "Rendelések száma": "169"
                                },
                                {
                                    "Felhasználó név": "szabolcs",
                                    "Rendelési mód": "Összesen",
                                    "Rendelések száma": "471"
                                },
                                {
                                    "Felhasználó név": "SZABOLCSM",
                                    "Rendelési mód": "GLS",
                                    "Rendelések száma": "126"
                                },
                                {
                                    "Felhasználó név": "SZABOLCSM",
                                    "Rendelési mód": "Posta",
                                    "Rendelések száma": "153"
                                },
                                {
                                    "Felhasználó név": "SZABOLCSM",
                                    "Rendelési mód": "Személyes ",
                                    "Rendelések száma": "129"
                                },
                                {
                                    "Felhasználó név": "SZABOLCSM",
                                    "Rendelési mód": "Összesen",
                                    "Rendelések száma": "408"
                                },
                                {
                                    "Felhasználó név": "SZILARDS",
                                    "Rendelési mód": "GLS",
                                    "Rendelések száma": "144"
                                },
                                {
                                    "Felhasználó név": "SZILARDS",
                                    "Rendelési mód": "Posta",
                                    "Rendelések száma": "131"
                                },
                                {
                                    "Felhasználó név": "SZILARDS",
                                    "Rendelési mód": "Személyes ",
                                    "Rendelések száma": "111"
                                },
                                {
                                    "Felhasználó név": "SZILARDS",
                                    "Rendelési mód": "Összesen",
                                    "Rendelések száma": "386"
                                },
                                {
                                    "Felhasználó név": "szilvia1",
                                    "Rendelési mód": "GLS",
                                    "Rendelések száma": "156"
                                },
                                {
                                    "Felhasználó név": "szilvia1",
                                    "Rendelési mód": "Posta",
                                    "Rendelések száma": "151"
                                },
                                {
                                    "Felhasználó név": "szilvia1",
                                    "Rendelési mód": "Személyes ",
                                    "Rendelések száma": "138"
                                },
                                {
                                    "Felhasználó név": "szilvia1",
                                    "Rendelési mód": "Összesen",
                                    "Rendelések száma": "445"
                                },
                                {
                                    "Felhasználó név": "tamara2",
                                    "Rendelési mód": "GLS",
                                    "Rendelések száma": "6"
                                },
                                {
                                    "Felhasználó név": "tamara2",
                                    "Rendelési mód": "Posta",
                                    "Rendelések száma": "4"
                                },
                                {
                                    "Felhasználó név": "tamara2",
                                    "Rendelési mód": "Személyes ",
                                    "Rendelések száma": "3"
                                },
                                {
                                    "Felhasználó név": "tamara2",
                                    "Rendelési mód": "Összesen",
                                    "Rendelések száma": "13"
                                },
                                {
                                    "Felhasználó név": "tamas",
                                    "Rendelési mód": "GLS",
                                    "Rendelések száma": "143"
                                },
                                {
                                    "Felhasználó név": "tamas",
                                    "Rendelési mód": "Posta",
                                    "Rendelések száma": "156"
                                },
                                {
                                    "Felhasználó név": "tamas",
                                    "Rendelési mód": "Személyes ",
                                    "Rendelések száma": "122"
                                },
                                {
                                    "Felhasználó név": "tamas",
                                    "Rendelési mód": "Összesen",
                                    "Rendelések száma": "421"
                                },
                                {
                                    "Felhasználó név": "TAMASF",
                                    "Rendelési mód": "GLS",
                                    "Rendelések száma": "159"
                                },
                                {
                                    "Felhasználó név": "TAMASF",
                                    "Rendelési mód": "Posta",
                                    "Rendelések száma": "145"
                                },
                                {
                                    "Felhasználó név": "TAMASF",
                                    "Rendelési mód": "Személyes ",
                                    "Rendelések száma": "129"
                                },
                                {
                                    "Felhasználó név": "TAMASF",
                                    "Rendelési mód": "Összesen",
                                    "Rendelések száma": "433"
                                },
                                {
                                    "Felhasználó név": "tibor",
                                    "Rendelési mód": "GLS",
                                    "Rendelések száma": "115"
                                },
                                {
                                    "Felhasználó név": "tibor",
                                    "Rendelési mód": "Posta",
                                    "Rendelések száma": "129"
                                },
                                {
                                    "Felhasználó név": "tibor",
                                    "Rendelési mód": "Személyes ",
                                    "Rendelések száma": "130"
                                },
                                {
                                    "Felhasználó név": "tibor",
                                    "Rendelési mód": "Összesen",
                                    "Rendelések száma": "374"
                                },
                                {
                                    "Felhasználó név": "tibor2",
                                    "Rendelési mód": "GLS",
                                    "Rendelések száma": "7"
                                },
                                {
                                    "Felhasználó név": "tibor2",
                                    "Rendelési mód": "Posta",
                                    "Rendelések száma": "7"
                                },
                                {
                                    "Felhasználó név": "tibor2",
                                    "Rendelési mód": "Személyes ",
                                    "Rendelések száma": "11"
                                },
                                {
                                    "Felhasználó név": "tibor2",
                                    "Rendelési mód": "Összesen",
                                    "Rendelések száma": "25"
                                },
                                {
                                    "Felhasználó név": "tihamer",
                                    "Rendelési mód": "GLS",
                                    "Rendelések száma": "9"
                                },
                                {
                                    "Felhasználó név": "tihamer",
                                    "Rendelési mód": "Posta",
                                    "Rendelések száma": "6"
                                },
                                {
                                    "Felhasználó név": "tihamer",
                                    "Rendelési mód": "Személyes ",
                                    "Rendelések száma": "5"
                                },
                                {
                                    "Felhasználó név": "tihamer",
                                    "Rendelési mód": "Összesen",
                                    "Rendelések száma": "20"
                                },
                                {
                                    "Felhasználó név": "timea",
                                    "Rendelési mód": "GLS",
                                    "Rendelések száma": "14"
                                },
                                {
                                    "Felhasználó név": "timea",
                                    "Rendelési mód": "Posta",
                                    "Rendelések száma": "23"
                                },
                                {
                                    "Felhasználó név": "timea",
                                    "Rendelési mód": "Személyes ",
                                    "Rendelések száma": "18"
                                },
                                {
                                    "Felhasználó név": "timea",
                                    "Rendelési mód": "Összesen",
                                    "Rendelések száma": "55"
                                },
                                {
                                    "Felhasználó név": "timea2",
                                    "Rendelési mód": "GLS",
                                    "Rendelések száma": "1"
                                },
                                {
                                    "Felhasználó név": "timea2",
                                    "Rendelési mód": "Posta",
                                    "Rendelések száma": "5"
                                },
                                {
                                    "Felhasználó név": "timea2",
                                    "Rendelési mód": "Személyes ",
                                    "Rendelések száma": "10"
                                },
                                {
                                    "Felhasználó név": "timea2",
                                    "Rendelési mód": "Összesen",
                                    "Rendelések száma": "16"
                                },
                                {
                                    "Felhasználó név": "tunde",
                                    "Rendelési mód": "GLS",
                                    "Rendelések száma": "6"
                                },
                                {
                                    "Felhasználó név": "tunde",
                                    "Rendelési mód": "Posta",
                                    "Rendelések száma": "6"
                                },
                                {
                                    "Felhasználó név": "tunde",
                                    "Rendelési mód": "Személyes ",
                                    "Rendelések száma": "4"
                                },
                                {
                                    "Felhasználó név": "tunde",
                                    "Rendelési mód": "Összesen",
                                    "Rendelések száma": "16"
                                },
                                {
                                    "Felhasználó név": "valentin",
                                    "Rendelési mód": "GLS",
                                    "Rendelések száma": "5"
                                },
                                {
                                    "Felhasználó név": "valentin",
                                    "Rendelési mód": "Posta",
                                    "Rendelések száma": "5"
                                },
                                {
                                    "Felhasználó név": "valentin",
                                    "Rendelési mód": "Személyes ",
                                    "Rendelések száma": "3"
                                },
                                {
                                    "Felhasználó név": "valentin",
                                    "Rendelési mód": "Összesen",
                                    "Rendelések száma": "13"
                                },
                                {
                                    "Felhasználó név": "veronika4",
                                    "Rendelési mód": "GLS",
                                    "Rendelések száma": "5"
                                },
                                {
                                    "Felhasználó név": "veronika4",
                                    "Rendelési mód": "Posta",
                                    "Rendelések száma": "6"
                                },
                                {
                                    "Felhasználó név": "veronika4",
                                    "Rendelési mód": "Személyes ",
                                    "Rendelések száma": "7"
                                },
                                {
                                    "Felhasználó név": "veronika4",
                                    "Rendelési mód": "Összesen",
                                    "Rendelések száma": "18"
                                },
                                {
                                    "Felhasználó név": "VIKTORIAU",
                                    "Rendelési mód": "GLS",
                                    "Rendelések száma": "5"
                                },
                                {
                                    "Felhasználó név": "VIKTORIAU",
                                    "Rendelési mód": "Posta",
                                    "Rendelések száma": "4"
                                },
                                {
                                    "Felhasználó név": "VIKTORIAU",
                                    "Rendelési mód": "Személyes ",
                                    "Rendelések száma": "5"
                                },
                                {
                                    "Felhasználó név": "VIKTORIAU",
                                    "Rendelési mód": "Összesen",
                                    "Rendelések száma": "14"
                                },
                                {
                                    "Felhasználó név": "VIKTORK",
                                    "Rendelési mód": "GLS",
                                    "Rendelések száma": "8"
                                },
                                {
                                    "Felhasználó név": "VIKTORK",
                                    "Rendelési mód": "Posta",
                                    "Rendelések száma": "6"
                                },
                                {
                                    "Felhasználó név": "VIKTORK",
                                    "Rendelési mód": "Személyes ",
                                    "Rendelések száma": "6"
                                },
                                {
                                    "Felhasználó név": "VIKTORK",
                                    "Rendelési mód": "Összesen",
                                    "Rendelések száma": "20"
                                },
                                {
                                    "Felhasználó név": "vivien3",
                                    "Rendelési mód": "GLS",
                                    "Rendelések száma": "9"
                                },
                                {
                                    "Felhasználó név": "vivien3",
                                    "Rendelési mód": "Posta",
                                    "Rendelések száma": "6"
                                },
                                {
                                    "Felhasználó név": "vivien3",
                                    "Rendelési mód": "Személyes ",
                                    "Rendelések száma": "7"
                                },
                                {
                                    "Felhasználó név": "vivien3",
                                    "Rendelési mód": "Összesen",
                                    "Rendelések száma": "22"
                                },
                                {
                                    "Felhasználó név": "zoltan",
                                    "Rendelési mód": "GLS",
                                    "Rendelések száma": "5"
                                },
                                {
                                    "Felhasználó név": "zoltan",
                                    "Rendelési mód": "Posta",
                                    "Rendelések száma": "3"
                                },
                                {
                                    "Felhasználó név": "zoltan",
                                    "Rendelési mód": "Személyes ",
                                    "Rendelések száma": "7"
                                },
                                {
                                    "Felhasználó név": "zoltan",
                                    "Rendelési mód": "Összesen",
                                    "Rendelések száma": "15"
                                },
                                {
                                    "Felhasználó név": "zoltan4",
                                    "Rendelési mód": "GLS",
                                    "Rendelések száma": "129"
                                },
                                {
                                    "Felhasználó név": "zoltan4",
                                    "Rendelési mód": "Posta",
                                    "Rendelések száma": "124"
                                },
                                {
                                    "Felhasználó név": "zoltan4",
                                    "Rendelési mód": "Személyes ",
                                    "Rendelések száma": "171"
                                },
                                {
                                    "Felhasználó név": "zoltan4",
                                    "Rendelési mód": "Összesen",
                                    "Rendelések száma": "424"
                                },
                                {
                                    "Felhasználó név": "ZOLTANP",
                                    "Rendelési mód": "GLS",
                                    "Rendelések száma": "6"
                                },
                                {
                                    "Felhasználó név": "ZOLTANP",
                                    "Rendelési mód": "Posta",
                                    "Rendelések száma": "3"
                                },
                                {
                                    "Felhasználó név": "ZOLTANP",
                                    "Rendelési mód": "Személyes ",
                                    "Rendelések száma": "4"
                                },
                                {
                                    "Felhasználó név": "ZOLTANP",
                                    "Rendelési mód": "Összesen",
                                    "Rendelések száma": "13"
                                },
                                {
                                    "Felhasználó név": "ZOLTANT",
                                    "Rendelési mód": "GLS",
                                    "Rendelések száma": "127"
                                },
                                {
                                    "Felhasználó név": "ZOLTANT",
                                    "Rendelési mód": "Posta",
                                    "Rendelések száma": "107"
                                },
                                {
                                    "Felhasználó név": "ZOLTANT",
                                    "Rendelési mód": "Személyes ",
                                    "Rendelések száma": "123"
                                },
                                {
                                    "Felhasználó név": "ZOLTANT",
                                    "Rendelési mód": "Összesen",
                                    "Rendelések száma": "357"
                                },
                                {
                                    "Felhasználó név": "zsofi1",
                                    "Rendelési mód": "GLS",
                                    "Rendelések száma": "7"
                                },
                                {
                                    "Felhasználó név": "zsofi1",
                                    "Rendelési mód": "Posta",
                                    "Rendelések száma": "6"
                                },
                                {
                                    "Felhasználó név": "zsofi1",
                                    "Rendelési mód": "Személyes ",
                                    "Rendelések száma": "6"
                                },
                                {
                                    "Felhasználó név": "zsofi1",
                                    "Rendelési mód": "Összesen",
                                    "Rendelések száma": "19"
                                },
                                {
                                    "Felhasználó név": "zsolt1",
                                    "Rendelési mód": "GLS",
                                    "Rendelések száma": "11"
                                },
                                {
                                    "Felhasználó név": "zsolt1",
                                    "Rendelési mód": "Posta",
                                    "Rendelések száma": "6"
                                },
                                {
                                    "Felhasználó név": "zsolt1",
                                    "Rendelési mód": "Személyes ",
                                    "Rendelések száma": "3"
                                },
                                {
                                    "Felhasználó név": "zsolt1",
                                    "Rendelési mód": "Összesen",
                                    "Rendelések száma": "20"
                                },
                                {
                                    "Felhasználó név": "ZSOLTJ",
                                    "Rendelési mód": "GLS",
                                    "Rendelések száma": "1"
                                },
                                {
                                    "Felhasználó név": "ZSOLTJ",
                                    "Rendelési mód": "Posta",
                                    "Rendelések száma": "8"
                                },
                                {
                                    "Felhasználó név": "ZSOLTJ",
                                    "Rendelési mód": "Személyes ",
                                    "Rendelések száma": "9"
                                },
                                {
                                    "Felhasználó név": "ZSOLTJ",
                                    "Rendelési mód": "Összesen",
                                    "Rendelések száma": "18"
                                },
                                {
                                    "Felhasználó név": "zsuzsa",
                                    "Rendelési mód": "GLS",
                                    "Rendelések száma": "8"
                                },
                                {
                                    "Felhasználó név": "zsuzsa",
                                    "Rendelési mód": "Posta",
                                    "Rendelések száma": "5"
                                },
                                {
                                    "Felhasználó név": "zsuzsa",
                                    "Rendelési mód": "Személyes ",
                                    "Rendelések száma": "3"
                                },
                                {
                                    "Felhasználó név": "zsuzsa",
                                    "Rendelési mód": "Összesen",
                                    "Rendelések száma": "16"
                                },
                                {
                                    "Felhasználó név": "zsuzsa3",
                                    "Rendelési mód": "GLS",
                                    "Rendelések száma": "5"
                                },
                                {
                                    "Felhasználó név": "zsuzsa3",
                                    "Rendelési mód": "Posta",
                                    "Rendelések száma": "5"
                                },
                                {
                                    "Felhasználó név": "zsuzsa3",
                                    "Rendelési mód": "Személyes ",
                                    "Rendelések száma": "6"
                                },
                                {
                                    "Felhasználó név": "zsuzsa3",
                                    "Rendelési mód": "Összesen",
                                    "Rendelések száma": "16"
                                },
                                {
                                    "Felhasználó név": "zsuzsanna",
                                    "Rendelési mód": "GLS",
                                    "Rendelések száma": "7"
                                },
                                {
                                    "Felhasználó név": "zsuzsanna",
                                    "Rendelési mód": "Posta",
                                    "Rendelések száma": "5"
                                },
                                {
                                    "Felhasználó név": "zsuzsanna",
                                    "Rendelési mód": "Személyes ",
                                    "Rendelések száma": "3"
                                },
                                {
                                    "Felhasználó név": "zsuzsanna",
                                    "Rendelési mód": "Összesen",
                                    "Rendelések száma": "15"
                                },
                                {
                                    "Felhasználó név": "ZSUZSAV",
                                    "Rendelési mód": "GLS",
                                    "Rendelések száma": "139"
                                },
                                {
                                    "Felhasználó név": "ZSUZSAV",
                                    "Rendelési mód": "Posta",
                                    "Rendelések száma": "139"
                                },
                                {
                                    "Felhasználó név": "ZSUZSAV",
                                    "Rendelési mód": "Személyes ",
                                    "Rendelések száma": "142"
                                },
                                {
                                    "Felhasználó név": "ZSUZSAV",
                                    "Rendelési mód": "Összesen",
                                    "Rendelések száma": "420"
                                },
                                {
                                    "Felhasználó név": "Összesen",
                                    "Rendelési mód": "Összesen",
                                    "Rendelések száma": "28085"
                                }
                            ]
                        },
                        "text/html": [
                            "<table>",
                            "<tr><th>Felhasználó név</th><th>Rendelési mód</th><th>Rendelések száma</th></tr>",
                            "<tr><td>adam1</td><td>GLS</td><td>129</td></tr>",
                            "<tr><td>adam1</td><td>Posta</td><td>132</td></tr>",
                            "<tr><td>adam1</td><td>Személyes </td><td>131</td></tr>",
                            "<tr><td>adam1</td><td>Összesen</td><td>392</td></tr>",
                            "<tr><td>adam3</td><td>GLS</td><td>10</td></tr>",
                            "<tr><td>adam3</td><td>Posta</td><td>3</td></tr>",
                            "<tr><td>adam3</td><td>Személyes </td><td>2</td></tr>",
                            "<tr><td>adam3</td><td>Összesen</td><td>15</td></tr>",
                            "<tr><td>adam4</td><td>GLS</td><td>12</td></tr>",
                            "<tr><td>adam4</td><td>Posta</td><td>6</td></tr>",
                            "<tr><td>adam4</td><td>Személyes </td><td>11</td></tr>",
                            "<tr><td>adam4</td><td>Összesen</td><td>29</td></tr>",
                            "<tr><td>agnes</td><td>GLS</td><td>144</td></tr>",
                            "<tr><td>agnes</td><td>Posta</td><td>130</td></tr>",
                            "<tr><td>agnes</td><td>Személyes </td><td>144</td></tr>",
                            "<tr><td>agnes</td><td>Összesen</td><td>418</td></tr>",
                            "<tr><td>agnes3</td><td>GLS</td><td>148</td></tr>",
                            "<tr><td>agnes3</td><td>Posta</td><td>146</td></tr>",
                            "<tr><td>agnes3</td><td>Személyes </td><td>136</td></tr>",
                            "<tr><td>agnes3</td><td>Összesen</td><td>430</td></tr>",
                            "<tr><td>AGNESH</td><td>GLS</td><td>2</td></tr>",
                            "<tr><td>AGNESH</td><td>Posta</td><td>3</td></tr>",
                            "<tr><td>AGNESH</td><td>Személyes </td><td>6</td></tr>",
                            "<tr><td>AGNESH</td><td>Összesen</td><td>11</td></tr>",
                            "<tr><td>AGNESK</td><td>GLS</td><td>1</td></tr>",
                            "<tr><td>AGNESK</td><td>Posta</td><td>7</td></tr>",
                            "<tr><td>AGNESK</td><td>Személyes </td><td>7</td></tr>",
                            "<tr><td>AGNESK</td><td>Összesen</td><td>15</td></tr>",
                            "<tr><td>akos</td><td>GLS</td><td>146</td></tr>",
                            "<tr><td>akos</td><td>Posta</td><td>143</td></tr>",
                            "<tr><td>akos</td><td>Személyes </td><td>140</td></tr>",
                            "<tr><td>akos</td><td>Összesen</td><td>429</td></tr>",
                            "<tr><td>aladar</td><td>GLS</td><td>156</td></tr>",
                            "<tr><td>aladar</td><td>Posta</td><td>134</td></tr>",
                            "<tr><td>aladar</td><td>Személyes </td><td>118</td></tr>",
                            "<tr><td>aladar</td><td>Összesen</td><td>408</td></tr>",
                            "<tr><td>alexandra</td><td>GLS</td><td>5</td></tr>",
                            "<tr><td>alexandra</td><td>Posta</td><td>9</td></tr>",
                            "<tr><td>alexandra</td><td>Személyes </td><td>5</td></tr>",
                            "<tr><td>alexandra</td><td>Összesen</td><td>19</td></tr>",
                            "<tr><td>andi</td><td>GLS</td><td>7</td></tr>",
                            "<tr><td>andi</td><td>Posta</td><td>4</td></tr>",
                            "<tr><td>andi</td><td>Személyes </td><td>7</td></tr>",
                            "<tr><td>andi</td><td>Összesen</td><td>18</td></tr>",
                            "<tr><td>andras2</td><td>GLS</td><td>4</td></tr>",
                            "<tr><td>andras2</td><td>Posta</td><td>7</td></tr>",
                            "<tr><td>andras2</td><td>Személyes </td><td>11</td></tr>",
                            "<tr><td>andras2</td><td>Összesen</td><td>22</td></tr>",
                            "<tr><td>andras21</td><td>GLS</td><td>140</td></tr>",
                            "<tr><td>andras21</td><td>Posta</td><td>124</td></tr>",
                            "<tr><td>andras21</td><td>Személyes </td><td>126</td></tr>",
                            "<tr><td>andras21</td><td>Összesen</td><td>390</td></tr>",
                            "<tr><td>andras3</td><td>GLS</td><td>3</td></tr>",
                            "<tr><td>andras3</td><td>Posta</td><td>1</td></tr>",
                            "<tr><td>andras3</td><td>Személyes </td><td>5</td></tr>",
                            "<tr><td>andras3</td><td>Összesen</td><td>9</td></tr>",
                            "<tr><td>andras4</td><td>GLS</td><td>4</td></tr>",
                            "<tr><td>andras4</td><td>Posta</td><td>4</td></tr>",
                            "<tr><td>andras4</td><td>Személyes </td><td>4</td></tr>",
                            "<tr><td>andras4</td><td>Összesen</td><td>12</td></tr>",
                            "<tr><td>andras41</td><td>GLS</td><td>149</td></tr>",
                            "<tr><td>andras41</td><td>Posta</td><td>137</td></tr>",
                            "<tr><td>andras41</td><td>Személyes </td><td>133</td></tr>",
                            "<tr><td>andras41</td><td>Összesen</td><td>419</td></tr>",
                            "<tr><td>ANDRASE</td><td>GLS</td><td>159</td></tr>",
                            "<tr><td>ANDRASE</td><td>Posta</td><td>141</td></tr>",
                            "<tr><td>ANDRASE</td><td>Személyes </td><td>136</td></tr>",
                            "<tr><td>ANDRASE</td><td>Összesen</td><td>436</td></tr>",
                            "<tr><td>ANDRASN</td><td>GLS</td><td>10</td></tr>",
                            "<tr><td>ANDRASN</td><td>Posta</td><td>9</td></tr>",
                            "<tr><td>ANDRASN</td><td>Személyes </td><td>5</td></tr>",
                            "<tr><td>ANDRASN</td><td>Összesen</td><td>24</td></tr>",
                            "<tr><td>andrea</td><td>GLS</td><td>12</td></tr>",
                            "<tr><td>andrea</td><td>Posta</td><td>4</td></tr>",
                            "<tr><td>andrea</td><td>Személyes </td><td>8</td></tr>",
                            "<tr><td>andrea</td><td>Összesen</td><td>24</td></tr>",
                            "<tr><td>andrea3</td><td>GLS</td><td>131</td></tr>",
                            "<tr><td>andrea3</td><td>Posta</td><td>136</td></tr>",
                            "<tr><td>andrea3</td><td>Személyes </td><td>146</td></tr>",
                            "<tr><td>andrea3</td><td>Összesen</td><td>413</td></tr>",
                            "<tr><td>andrea4</td><td>GLS</td><td>7</td></tr>",
                            "<tr><td>andrea4</td><td>Posta</td><td>4</td></tr>",
                            "<tr><td>andrea4</td><td>Személyes </td><td>7</td></tr>",
                            "<tr><td>andrea4</td><td>Összesen</td><td>18</td></tr>",
                            "<tr><td>ANDREAT</td><td>GLS</td><td>3</td></tr>",
                            "<tr><td>ANDREAT</td><td>Posta</td><td>6</td></tr>",
                            "<tr><td>ANDREAT</td><td>Személyes </td><td>12</td></tr>",
                            "<tr><td>ANDREAT</td><td>Összesen</td><td>21</td></tr>",
                            "<tr><td>anett3</td><td>GLS</td><td>3</td></tr>",
                            "<tr><td>anett3</td><td>Posta</td><td>6</td></tr>",
                            "<tr><td>anett3</td><td>Személyes </td><td>9</td></tr>",
                            "<tr><td>anett3</td><td>Összesen</td><td>18</td></tr>",
                            "<tr><td>aniko</td><td>GLS</td><td>128</td></tr>",
                            "<tr><td>aniko</td><td>Posta</td><td>137</td></tr>",
                            "<tr><td>aniko</td><td>Személyes </td><td>138</td></tr>",
                            "<tr><td>aniko</td><td>Összesen</td><td>403</td></tr>",
                            "<tr><td>aniko4</td><td>GLS</td><td>6</td></tr>",
                            "<tr><td>aniko4</td><td>Posta</td><td>6</td></tr>",
                            "<tr><td>aniko4</td><td>Személyes </td><td>3</td></tr>",
                            "<tr><td>aniko4</td><td>Összesen</td><td>15</td></tr>",
                            "<tr><td>ANIKOS</td><td>GLS</td><td>128</td></tr>",
                            "<tr><td>ANIKOS</td><td>Posta</td><td>126</td></tr>",
                            "<tr><td>ANIKOS</td><td>Személyes </td><td>150</td></tr>",
                            "<tr><td>ANIKOS</td><td>Összesen</td><td>404</td></tr>",
                            "<tr><td>anita</td><td>GLS</td><td>5</td></tr>",
                            "<tr><td>anita</td><td>Posta</td><td>2</td></tr>",
                            "<tr><td>anita</td><td>Személyes </td><td>5</td></tr>",
                            "<tr><td>anita</td><td>Összesen</td><td>12</td></tr>",
                            "<tr><td>annamaria1</td><td>GLS</td><td>5</td></tr>",
                            "<tr><td>annamaria1</td><td>Posta</td><td>4</td></tr>",
                            "<tr><td>annamaria1</td><td>Személyes </td><td>7</td></tr>",
                            "<tr><td>annamaria1</td><td>Összesen</td><td>16</td></tr>",
                            "<tr><td>ANNAMARIAR</td><td>GLS</td><td>8</td></tr>",
                            "<tr><td>ANNAMARIAR</td><td>Posta</td><td>2</td></tr>",
                            "<tr><td>ANNAMARIAR</td><td>Személyes </td><td>3</td></tr>",
                            "<tr><td>ANNAMARIAR</td><td>Összesen</td><td>13</td></tr>",
                            "<tr><td>aron2</td><td>GLS</td><td>132</td></tr>",
                            "<tr><td>aron2</td><td>Posta</td><td>133</td></tr>",
                            "<tr><td>aron2</td><td>Személyes </td><td>144</td></tr>",
                            "<tr><td>aron2</td><td>Összesen</td><td>409</td></tr>",
                            "<tr><td>ARONK</td><td>GLS</td><td>155</td></tr>",
                            "<tr><td>ARONK</td><td>Posta</td><td>120</td></tr>",
                            "<tr><td>ARONK</td><td>Személyes </td><td>155</td></tr>",
                            "<tr><td>ARONK</td><td>Összesen</td><td>430</td></tr>",
                            "<tr><td>arpad2</td><td>GLS</td><td>6</td></tr>",
                            "<tr><td>arpad2</td><td>Posta</td><td>1</td></tr>",
                            "<tr><td>arpad2</td><td>Személyes </td><td>10</td></tr>",
                            "<tr><td>arpad2</td><td>Összesen</td><td>17</td></tr>",
                            "<tr><td>ARPADH</td><td>GLS</td><td>6</td></tr>",
                            "<tr><td>ARPADH</td><td>Posta</td><td>3</td></tr>",
                            "<tr><td>ARPADH</td><td>Személyes </td><td>5</td></tr>",
                            "<tr><td>ARPADH</td><td>Összesen</td><td>14</td></tr>",
                            "<tr><td>ARPADM</td><td>GLS</td><td>6</td></tr>",
                            "<tr><td>ARPADM</td><td>Posta</td><td>3</td></tr>",
                            "<tr><td>ARPADM</td><td>Személyes </td><td>7</td></tr>",
                            "<tr><td>ARPADM</td><td>Összesen</td><td>16</td></tr>",
                            "<tr><td>attila1</td><td>GLS</td><td>5</td></tr>",
                            "<tr><td>attila1</td><td>Posta</td><td>7</td></tr>",
                            "<tr><td>attila1</td><td>Személyes </td><td>6</td></tr>",
                            "<tr><td>attila1</td><td>Összesen</td><td>18</td></tr>",
                            "<tr><td>attila4</td><td>GLS</td><td>135</td></tr>",
                            "<tr><td>attila4</td><td>Posta</td><td>125</td></tr>",
                            "<tr><td>attila4</td><td>Személyes </td><td>141</td></tr>",
                            "<tr><td>attila4</td><td>Összesen</td><td>401</td></tr>",
                            "<tr><td>ATTILAO</td><td>GLS</td><td>4</td></tr>",
                            "<tr><td>ATTILAO</td><td>Posta</td><td>4</td></tr>",
                            "<tr><td>ATTILAO</td><td>Személyes </td><td>6</td></tr>",
                            "<tr><td>ATTILAO</td><td>Összesen</td><td>14</td></tr>",
                            "<tr><td>balazs1</td><td>GLS</td><td>128</td></tr>",
                            "<tr><td>balazs1</td><td>Posta</td><td>136</td></tr>",
                            "<tr><td>balazs1</td><td>Személyes </td><td>155</td></tr>",
                            "<tr><td>balazs1</td><td>Összesen</td><td>419</td></tr>",
                            "<tr><td>balazs2</td><td>GLS</td><td>5</td></tr>",
                            "<tr><td>balazs2</td><td>Posta</td><td>7</td></tr>",
                            "<tr><td>balazs2</td><td>Személyes </td><td>5</td></tr>",
                            "<tr><td>balazs2</td><td>Összesen</td><td>17</td></tr>",
                            "<tr><td>balazs3</td><td>GLS</td><td>6</td></tr>",
                            "<tr><td>balazs3</td><td>Posta</td><td>6</td></tr>",
                            "<tr><td>balazs3</td><td>Személyes </td><td>3</td></tr>",
                            "<tr><td>balazs3</td><td>Összesen</td><td>15</td></tr>",
                            "<tr><td>balint</td><td>GLS</td><td>10</td></tr>",
                            "<tr><td>balint</td><td>Posta</td><td>4</td></tr>",
                            "<tr><td>balint</td><td>Személyes </td><td>2</td></tr>",
                            "<tr><td>balint</td><td>Összesen</td><td>16</td></tr>",
                            "<tr><td>balint1</td><td>GLS</td><td>158</td></tr>",
                            "<tr><td>balint1</td><td>Posta</td><td>152</td></tr>",
                            "<tr><td>balint1</td><td>Személyes </td><td>152</td></tr>",
                            "<tr><td>balint1</td><td>Összesen</td><td>462</td></tr>",
                            "<tr><td>balint2</td><td>GLS</td><td>8</td></tr>",
                            "<tr><td>balint2</td><td>Posta</td><td>6</td></tr>",
                            "<tr><td>balint2</td><td>Személyes </td><td>3</td></tr>",
                            "<tr><td>balint2</td><td>Összesen</td><td>17</td></tr>",
                            "<tr><td>balu</td><td>GLS</td><td>127</td></tr>",
                            "<tr><td>balu</td><td>Posta</td><td>137</td></tr>",
                            "<tr><td>balu</td><td>Személyes </td><td>123</td></tr>",
                            "<tr><td>balu</td><td>Összesen</td><td>387</td></tr>",
                            "<tr><td>BEATRIXK</td><td>GLS</td><td>135</td></tr>",
                            "<tr><td>BEATRIXK</td><td>Posta</td><td>155</td></tr>",
                            "<tr><td>BEATRIXK</td><td>Személyes </td><td>145</td></tr>",
                            "<tr><td>BEATRIXK</td><td>Összesen</td><td>435</td></tr>",
                            "<tr><td>BEATRIXS</td><td>GLS</td><td>146</td></tr>",
                            "<tr><td>BEATRIXS</td><td>Posta</td><td>141</td></tr>",
                            "<tr><td>BEATRIXS</td><td>Személyes </td><td>133</td></tr>",
                            "<tr><td>BEATRIXS</td><td>Összesen</td><td>420</td></tr>",
                            "<tr><td>BELAF</td><td>GLS</td><td>11</td></tr>",
                            "<tr><td>BELAF</td><td>Posta</td><td>2</td></tr>",
                            "<tr><td>BELAF</td><td>Személyes </td><td>5</td></tr>",
                            "<tr><td>BELAF</td><td>Összesen</td><td>18</td></tr>",
                            "<tr><td>bence</td><td>GLS</td><td>4</td></tr>",
                            "<tr><td>bence</td><td>Posta</td><td>6</td></tr>",
                            "<tr><td>bence</td><td>Személyes </td><td>8</td></tr>",
                            "<tr><td>bence</td><td>Összesen</td><td>18</td></tr>",
                            "<tr><td>BENCEB</td><td>GLS</td><td>5</td></tr>",
                            "<tr><td>BENCEB</td><td>Posta</td><td>7</td></tr>",
                            "<tr><td>BENCEB</td><td>Személyes </td><td>5</td></tr>",
                            "<tr><td>BENCEB</td><td>Összesen</td><td>17</td></tr>",
                            "<tr><td>bernadett1</td><td>GLS</td><td>10</td></tr>",
                            "<tr><td>bernadett1</td><td>Posta</td><td>5</td></tr>",
                            "<tr><td>bernadett1</td><td>Személyes </td><td>5</td></tr>",
                            "<tr><td>bernadett1</td><td>Összesen</td><td>20</td></tr>",
                            "<tr><td>bernadett2</td><td>GLS</td><td>6</td></tr>",
                            "<tr><td>bernadett2</td><td>Posta</td><td>2</td></tr>",
                            "<tr><td>bernadett2</td><td>Személyes </td><td>7</td></tr>",
                            "<tr><td>bernadett2</td><td>Összesen</td><td>15</td></tr>",
                            "<tr><td>BERNADETTO</td><td>GLS</td><td>7</td></tr>",
                            "<tr><td>BERNADETTO</td><td>Posta</td><td>2</td></tr>",
                            "<tr><td>BERNADETTO</td><td>Személyes </td><td>7</td></tr>",
                            "<tr><td>BERNADETTO</td><td>Összesen</td><td>16</td></tr>",
                            "<tr><td>bertalan</td><td>GLS</td><td>128</td></tr>",
                            "<tr><td>bertalan</td><td>Posta</td><td>124</td></tr>",
                            "<tr><td>bertalan</td><td>Személyes </td><td>101</td></tr>",
                            "<tr><td>bertalan</td><td>Összesen</td><td>353</td></tr>",
                            "<tr><td>brigitta</td><td>GLS</td><td>137</td></tr>",
                            "<tr><td>brigitta</td><td>Posta</td><td>137</td></tr>",
                            "<tr><td>brigitta</td><td>Személyes </td><td>119</td></tr>",
                            "<tr><td>brigitta</td><td>Összesen</td><td>393</td></tr>",
                            "<tr><td>brigitta3</td><td>GLS</td><td>144</td></tr>",
                            "<tr><td>brigitta3</td><td>Posta</td><td>130</td></tr>",
                            "<tr><td>brigitta3</td><td>Személyes </td><td>139</td></tr>",
                            "<tr><td>brigitta3</td><td>Összesen</td><td>413</td></tr>",
                            "<tr><td>csongor3</td><td>GLS</td><td>5</td></tr>",
                            "<tr><td>csongor3</td><td>Posta</td><td>2</td></tr>",
                            "<tr><td>csongor3</td><td>Személyes </td><td>8</td></tr>",
                            "<tr><td>csongor3</td><td>Összesen</td><td>15</td></tr>",
                            "<tr><td>dani</td><td>GLS</td><td>5</td></tr>",
                            "<tr><td>dani</td><td>Személyes </td><td>8</td></tr>",
                            "<tr><td>dani</td><td>Összesen</td><td>13</td></tr>",
                            "<tr><td>daniel</td><td>GLS</td><td>7</td></tr>",
                            "<tr><td>daniel</td><td>Posta</td><td>2</td></tr>",
                            "<tr><td>daniel</td><td>Személyes </td><td>4</td></tr>",
                            "<tr><td>daniel</td><td>Összesen</td><td>13</td></tr>",
                            "<tr><td>daniel1</td><td>GLS</td><td>156</td></tr>",
                            "<tr><td>daniel1</td><td>Posta</td><td>131</td></tr>",
                            "<tr><td>daniel1</td><td>Személyes </td><td>132</td></tr>",
                            "<tr><td>daniel1</td><td>Összesen</td><td>419</td></tr>",
                            "<tr><td>david</td><td>GLS</td><td>161</td></tr>",
                            "<tr><td>david</td><td>Posta</td><td>144</td></tr>",
                            "<tr><td>david</td><td>Személyes </td><td>146</td></tr>",
                            "<tr><td>david</td><td>Összesen</td><td>451</td></tr>",
                            "<tr><td>david1</td><td>GLS</td><td>8</td></tr>",
                            "<tr><td>david1</td><td>Posta</td><td>1</td></tr>",
                            "<tr><td>david1</td><td>Személyes </td><td>8</td></tr>",
                            "<tr><td>david1</td><td>Összesen</td><td>17</td></tr>",
                            "<tr><td>david4</td><td>GLS</td><td>3</td></tr>",
                            "<tr><td>david4</td><td>Posta</td><td>8</td></tr>",
                            "<tr><td>david4</td><td>Személyes </td><td>10</td></tr>",
                            "<tr><td>david4</td><td>Összesen</td><td>21</td></tr>",
                            "<tr><td>debora</td><td>GLS</td><td>7</td></tr>",
                            "<tr><td>debora</td><td>Posta</td><td>6</td></tr>",
                            "<tr><td>debora</td><td>Személyes </td><td>3</td></tr>",
                            "<tr><td>debora</td><td>Összesen</td><td>16</td></tr>",
                            "<tr><td>denes</td><td>GLS</td><td>3</td></tr>",
                            "<tr><td>denes</td><td>Posta</td><td>2</td></tr>",
                            "<tr><td>denes</td><td>Személyes </td><td>4</td></tr>",
                            "<tr><td>denes</td><td>Összesen</td><td>9</td></tr>",
                            "<tr><td>dora3</td><td>GLS</td><td>144</td></tr>",
                            "<tr><td>dora3</td><td>Posta</td><td>124</td></tr>",
                            "<tr><td>dora3</td><td>Személyes </td><td>164</td></tr>",
                            "<tr><td>dora3</td><td>Összesen</td><td>432</td></tr>",
                            "<tr><td>edit</td><td>GLS</td><td>7</td></tr>",
                            "<tr><td>edit</td><td>Posta</td><td>2</td></tr>",
                            "<tr><td>edit</td><td>Személyes </td><td>4</td></tr>",
                            "<tr><td>edit</td><td>Összesen</td><td>13</td></tr>",
                            "<tr><td>emese</td><td>GLS</td><td>128</td></tr>",
                            "<tr><td>emese</td><td>Posta</td><td>136</td></tr>",
                            "<tr><td>emese</td><td>Személyes </td><td>142</td></tr>",
                            "<tr><td>emese</td><td>Összesen</td><td>406</td></tr>",
                            "<tr><td>eszter2</td><td>GLS</td><td>127</td></tr>",
                            "<tr><td>eszter2</td><td>Posta</td><td>136</td></tr>",
                            "<tr><td>eszter2</td><td>Személyes </td><td>152</td></tr>",
                            "<tr><td>eszter2</td><td>Összesen</td><td>415</td></tr>",
                            "<tr><td>eszter4</td><td>GLS</td><td>141</td></tr>",
                            "<tr><td>eszter4</td><td>Posta</td><td>134</td></tr>",
                            "<tr><td>eszter4</td><td>Személyes </td><td>149</td></tr>",
                            "<tr><td>eszter4</td><td>Összesen</td><td>424</td></tr>",
                            "<tr><td>ESZTERE</td><td>GLS</td><td>6</td></tr>",
                            "<tr><td>ESZTERE</td><td>Posta</td><td>9</td></tr>",
                            "<tr><td>ESZTERE</td><td>Személyes </td><td>7</td></tr>",
                            "<tr><td>ESZTERE</td><td>Összesen</td><td>22</td></tr>",
                            "<tr><td>eva</td><td>GLS</td><td>125</td></tr>",
                            "<tr><td>eva</td><td>Posta</td><td>140</td></tr>",
                            "<tr><td>eva</td><td>Személyes </td><td>139</td></tr>",
                            "<tr><td>eva</td><td>Összesen</td><td>404</td></tr>",
                            "<tr><td>eva2</td><td>GLS</td><td>154</td></tr>",
                            "<tr><td>eva2</td><td>Posta</td><td>138</td></tr>",
                            "<tr><td>eva2</td><td>Személyes </td><td>170</td></tr>",
                            "<tr><td>eva2</td><td>Összesen</td><td>462</td></tr>",
                            "<tr><td>EVAV</td><td>GLS</td><td>2</td></tr>",
                            "<tr><td>EVAV</td><td>Posta</td><td>1</td></tr>",
                            "<tr><td>EVAV</td><td>Személyes </td><td>4</td></tr>",
                            "<tr><td>EVAV</td><td>Összesen</td><td>7</td></tr>",
                            "<tr><td>ferenc1</td><td>GLS</td><td>144</td></tr>",
                            "<tr><td>ferenc1</td><td>Posta</td><td>158</td></tr>",
                            "<tr><td>ferenc1</td><td>Személyes </td><td>135</td></tr>",
                            "<tr><td>ferenc1</td><td>Összesen</td><td>437</td></tr>",
                            "<tr><td>fruzsina4</td><td>GLS</td><td>8</td></tr>",
                            "<tr><td>fruzsina4</td><td>Posta</td><td>3</td></tr>",
                            "<tr><td>fruzsina4</td><td>Személyes </td><td>7</td></tr>",
                            "<tr><td>fruzsina4</td><td>Összesen</td><td>18</td></tr>",
                            "<tr><td>gabor1</td><td>GLS</td><td>9</td></tr>",
                            "<tr><td>gabor1</td><td>Posta</td><td>5</td></tr>",
                            "<tr><td>gabor1</td><td>Személyes </td><td>5</td></tr>",
                            "<tr><td>gabor1</td><td>Összesen</td><td>19</td></tr>",
                            "<tr><td>gabor4</td><td>GLS</td><td>7</td></tr>",
                            "<tr><td>gabor4</td><td>Posta</td><td>9</td></tr>",
                            "<tr><td>gabor4</td><td>Személyes </td><td>4</td></tr>",
                            "<tr><td>gabor4</td><td>Összesen</td><td>20</td></tr>",
                            "<tr><td>GABORS</td><td>GLS</td><td>5</td></tr>",
                            "<tr><td>GABORS</td><td>Posta</td><td>6</td></tr>",
                            "<tr><td>GABORS</td><td>Személyes </td><td>4</td></tr>",
                            "<tr><td>GABORS</td><td>Összesen</td><td>15</td></tr>",
                            "<tr><td>gabriella1</td><td>GLS</td><td>5</td></tr>",
                            "<tr><td>gabriella1</td><td>Posta</td><td>4</td></tr>",
                            "<tr><td>gabriella1</td><td>Személyes </td><td>5</td></tr>",
                            "<tr><td>gabriella1</td><td>Összesen</td><td>14</td></tr>",
                            "<tr><td>gabriella1</td><td>GLS</td><td>4</td></tr>",
                            "<tr><td>gabriella1</td><td>Posta</td><td>5</td></tr>",
                            "<tr><td>gabriella1</td><td>Személyes </td><td>7</td></tr>",
                            "<tr><td>gabriella1</td><td>Összesen</td><td>16</td></tr>",
                            "<tr><td>georgij</td><td>GLS</td><td>9</td></tr>",
                            "<tr><td>georgij</td><td>Posta</td><td>2</td></tr>",
                            "<tr><td>georgij</td><td>Személyes </td><td>10</td></tr>",
                            "<tr><td>georgij</td><td>Összesen</td><td>21</td></tr>",
                            "<tr><td>gusztav</td><td>GLS</td><td>5</td></tr>",
                            "<tr><td>gusztav</td><td>Posta</td><td>4</td></tr>",
                            "<tr><td>gusztav</td><td>Személyes </td><td>5</td></tr>",
                            "<tr><td>gusztav</td><td>Összesen</td><td>14</td></tr>",
                            "<tr><td>GYONGYIK</td><td>GLS</td><td>6</td></tr>",
                            "<tr><td>GYONGYIK</td><td>Posta</td><td>6</td></tr>",
                            "<tr><td>GYONGYIK</td><td>Személyes </td><td>3</td></tr>",
                            "<tr><td>GYONGYIK</td><td>Összesen</td><td>15</td></tr>",
                            "<tr><td>GYORGYO</td><td>GLS</td><td>7</td></tr>",
                            "<tr><td>GYORGYO</td><td>Posta</td><td>4</td></tr>",
                            "<tr><td>GYORGYO</td><td>Személyes </td><td>5</td></tr>",
                            "<tr><td>GYORGYO</td><td>Összesen</td><td>16</td></tr>",
                            "<tr><td>henrik3</td><td>GLS</td><td>7</td></tr>",
                            "<tr><td>henrik3</td><td>Posta</td><td>4</td></tr>",
                            "<tr><td>henrik3</td><td>Személyes </td><td>5</td></tr>",
                            "<tr><td>henrik3</td><td>Összesen</td><td>16</td></tr>",
                            "<tr><td>IBOLYAA</td><td>GLS</td><td>140</td></tr>",
                            "<tr><td>IBOLYAA</td><td>Posta</td><td>125</td></tr>",
                            "<tr><td>IBOLYAA</td><td>Személyes </td><td>157</td></tr>",
                            "<tr><td>IBOLYAA</td><td>Összesen</td><td>422</td></tr>",
                            "<tr><td>ilona3</td><td>GLS</td><td>9</td></tr>",
                            "<tr><td>ilona3</td><td>Posta</td><td>2</td></tr>",
                            "<tr><td>ilona3</td><td>Személyes </td><td>7</td></tr>",
                            "<tr><td>ilona3</td><td>Összesen</td><td>18</td></tr>",
                            "<tr><td>imre</td><td>GLS</td><td>5</td></tr>",
                            "<tr><td>imre</td><td>Posta</td><td>4</td></tr>",
                            "<tr><td>imre</td><td>Személyes </td><td>6</td></tr>",
                            "<tr><td>imre</td><td>Összesen</td><td>15</td></tr>",
                            "<tr><td>imre1</td><td>GLS</td><td>8</td></tr>",
                            "<tr><td>imre1</td><td>Posta</td><td>4</td></tr>",
                            "<tr><td>imre1</td><td>Személyes </td><td>3</td></tr>",
                            "<tr><td>imre1</td><td>Összesen</td><td>15</td></tr>",
                            "<tr><td>istvan</td><td>GLS</td><td>3</td></tr>",
                            "<tr><td>istvan</td><td>Posta</td><td>4</td></tr>",
                            "<tr><td>istvan</td><td>Személyes </td><td>4</td></tr>",
                            "<tr><td>istvan</td><td>Összesen</td><td>11</td></tr>",
                            "<tr><td>istvan1</td><td>GLS</td><td>8</td></tr>",
                            "<tr><td>istvan1</td><td>Posta</td><td>4</td></tr>",
                            "<tr><td>istvan1</td><td>Személyes </td><td>7</td></tr>",
                            "<tr><td>istvan1</td><td>Összesen</td><td>19</td></tr>",
                            "<tr><td>ISTVANV</td><td>GLS</td><td>4</td></tr>",
                            "<tr><td>ISTVANV</td><td>Posta</td><td>9</td></tr>",
                            "<tr><td>ISTVANV</td><td>Személyes </td><td>8</td></tr>",
                            "<tr><td>ISTVANV</td><td>Összesen</td><td>21</td></tr>",
                            "<tr><td>janos3</td><td>GLS</td><td>5</td></tr>",
                            "<tr><td>janos3</td><td>Posta</td><td>2</td></tr>",
                            "<tr><td>janos3</td><td>Személyes </td><td>6</td></tr>",
                            "<tr><td>janos3</td><td>Összesen</td><td>13</td></tr>",
                            "<tr><td>JANOSG</td><td>GLS</td><td>3</td></tr>",
                            "<tr><td>JANOSG</td><td>Posta</td><td>3</td></tr>",
                            "<tr><td>JANOSG</td><td>Személyes </td><td>4</td></tr>",
                            "<tr><td>JANOSG</td><td>Összesen</td><td>10</td></tr>",
                            "<tr><td>JANOSP</td><td>GLS</td><td>7</td></tr>",
                            "<tr><td>JANOSP</td><td>Posta</td><td>7</td></tr>",
                            "<tr><td>JANOSP</td><td>Személyes </td><td>3</td></tr>",
                            "<tr><td>JANOSP</td><td>Összesen</td><td>17</td></tr>",
                            "<tr><td>jozsef</td><td>GLS</td><td>116</td></tr>",
                            "<tr><td>jozsef</td><td>Posta</td><td>132</td></tr>",
                            "<tr><td>jozsef</td><td>Személyes </td><td>134</td></tr>",
                            "<tr><td>jozsef</td><td>Összesen</td><td>382</td></tr>",
                            "<tr><td>jozsef2</td><td>GLS</td><td>7</td></tr>",
                            "<tr><td>jozsef2</td><td>Posta</td><td>2</td></tr>",
                            "<tr><td>jozsef2</td><td>Személyes </td><td>4</td></tr>",
                            "<tr><td>jozsef2</td><td>Összesen</td><td>13</td></tr>",
                            "<tr><td>JOZSEFG</td><td>GLS</td><td>11</td></tr>",
                            "<tr><td>JOZSEFG</td><td>Posta</td><td>1</td></tr>",
                            "<tr><td>JOZSEFG</td><td>Személyes </td><td>9</td></tr>",
                            "<tr><td>JOZSEFG</td><td>Összesen</td><td>21</td></tr>",
                            "<tr><td>JUDITH</td><td>GLS</td><td>170</td></tr>",
                            "<tr><td>JUDITH</td><td>Posta</td><td>130</td></tr>",
                            "<tr><td>JUDITH</td><td>Személyes </td><td>150</td></tr>",
                            "<tr><td>JUDITH</td><td>Összesen</td><td>450</td></tr>",
                            "<tr><td>julia</td><td>GLS</td><td>137</td></tr>",
                            "<tr><td>julia</td><td>Posta</td><td>160</td></tr>",
                            "<tr><td>julia</td><td>Személyes </td><td>138</td></tr>",
                            "<tr><td>julia</td><td>Összesen</td><td>435</td></tr>",
                            "<tr><td>julia4</td><td>GLS</td><td>2</td></tr>",
                            "<tr><td>julia4</td><td>Posta</td><td>4</td></tr>",
                            "<tr><td>julia4</td><td>Személyes </td><td>8</td></tr>",
                            "<tr><td>julia4</td><td>Összesen</td><td>14</td></tr>",
                            "<tr><td>julianna4</td><td>GLS</td><td>8</td></tr>",
                            "<tr><td>julianna4</td><td>Posta</td><td>12</td></tr>",
                            "<tr><td>julianna4</td><td>Személyes </td><td>7</td></tr>",
                            "<tr><td>julianna4</td><td>Összesen</td><td>27</td></tr>",
                            "<tr><td>kata</td><td>GLS</td><td>5</td></tr>",
                            "<tr><td>kata</td><td>Posta</td><td>4</td></tr>",
                            "<tr><td>kata</td><td>Személyes </td><td>3</td></tr>",
                            "<tr><td>kata</td><td>Összesen</td><td>12</td></tr>",
                            "<tr><td>katalin</td><td>GLS</td><td>7</td></tr>",
                            "<tr><td>katalin</td><td>Posta</td><td>7</td></tr>",
                            "<tr><td>katalin</td><td>Személyes </td><td>5</td></tr>",
                            "<tr><td>katalin</td><td>Összesen</td><td>19</td></tr>",
                            "<tr><td>katalin4</td><td>GLS</td><td>7</td></tr>",
                            "<tr><td>katalin4</td><td>Posta</td><td>5</td></tr>",
                            "<tr><td>katalin4</td><td>Személyes </td><td>11</td></tr>",
                            "<tr><td>katalin4</td><td>Összesen</td><td>23</td></tr>",
                            "<tr><td>kati</td><td>GLS</td><td>4</td></tr>",
                            "<tr><td>kati</td><td>Posta</td><td>5</td></tr>",
                            "<tr><td>kati</td><td>Személyes </td><td>4</td></tr>",
                            "<tr><td>kati</td><td>Összesen</td><td>13</td></tr>",
                            "<tr><td>katka</td><td>GLS</td><td>6</td></tr>",
                            "<tr><td>katka</td><td>Posta</td><td>6</td></tr>",
                            "<tr><td>katka</td><td>Személyes </td><td>10</td></tr>",
                            "<tr><td>katka</td><td>Összesen</td><td>22</td></tr>",
                            "<tr><td>klaudia2</td><td>GLS</td><td>3</td></tr>",
                            "<tr><td>klaudia2</td><td>Posta</td><td>9</td></tr>",
                            "<tr><td>klaudia2</td><td>Személyes </td><td>5</td></tr>",
                            "<tr><td>klaudia2</td><td>Összesen</td><td>17</td></tr>",
                            "<tr><td>kornel4</td><td>GLS</td><td>3</td></tr>",
                            "<tr><td>kornel4</td><td>Posta</td><td>1</td></tr>",
                            "<tr><td>kornel4</td><td>Személyes </td><td>7</td></tr>",
                            "<tr><td>kornel4</td><td>Összesen</td><td>11</td></tr>",
                            "<tr><td>kristof4</td><td>GLS</td><td>9</td></tr>",
                            "<tr><td>kristof4</td><td>Posta</td><td>4</td></tr>",
                            "<tr><td>kristof4</td><td>Személyes </td><td>8</td></tr>",
                            "<tr><td>kristof4</td><td>Összesen</td><td>21</td></tr>",
                            "<tr><td>kriszti</td><td>GLS</td><td>3</td></tr>",
                            "<tr><td>kriszti</td><td>Posta</td><td>5</td></tr>",
                            "<tr><td>kriszti</td><td>Személyes </td><td>5</td></tr>",
                            "<tr><td>kriszti</td><td>Összesen</td><td>13</td></tr>",
                            "<tr><td>krisztian4</td><td>GLS</td><td>5</td></tr>",
                            "<tr><td>krisztian4</td><td>Posta</td><td>6</td></tr>",
                            "<tr><td>krisztian4</td><td>Személyes </td><td>6</td></tr>",
                            "<tr><td>krisztian4</td><td>Összesen</td><td>17</td></tr>",
                            "<tr><td>KRISZTIANM</td><td>GLS</td><td>118</td></tr>",
                            "<tr><td>KRISZTIANM</td><td>Posta</td><td>136</td></tr>",
                            "<tr><td>KRISZTIANM</td><td>Személyes </td><td>130</td></tr>",
                            "<tr><td>KRISZTIANM</td><td>Összesen</td><td>384</td></tr>",
                            "<tr><td>krisztina</td><td>GLS</td><td>149</td></tr>",
                            "<tr><td>krisztina</td><td>Posta</td><td>150</td></tr>",
                            "<tr><td>krisztina</td><td>Személyes </td><td>157</td></tr>",
                            "<tr><td>krisztina</td><td>Összesen</td><td>456</td></tr>",
                            "<tr><td>krisztina1</td><td>GLS</td><td>10</td></tr>",
                            "<tr><td>krisztina1</td><td>Posta</td><td>4</td></tr>",
                            "<tr><td>krisztina1</td><td>Személyes </td><td>8</td></tr>",
                            "<tr><td>krisztina1</td><td>Összesen</td><td>22</td></tr>",
                            "<tr><td>KRISZTINAG</td><td>GLS</td><td>6</td></tr>",
                            "<tr><td>KRISZTINAG</td><td>Posta</td><td>6</td></tr>",
                            "<tr><td>KRISZTINAG</td><td>Személyes </td><td>10</td></tr>",
                            "<tr><td>KRISZTINAG</td><td>Összesen</td><td>22</td></tr>",
                            "<tr><td>lajos</td><td>GLS</td><td>5</td></tr>",
                            "<tr><td>lajos</td><td>Posta</td><td>2</td></tr>",
                            "<tr><td>lajos</td><td>Személyes </td><td>9</td></tr>",
                            "<tr><td>lajos</td><td>Összesen</td><td>16</td></tr>",
                            "<tr><td>lala</td><td>GLS</td><td>5</td></tr>",
                            "<tr><td>lala</td><td>Posta</td><td>3</td></tr>",
                            "<tr><td>lala</td><td>Személyes </td><td>9</td></tr>",
                            "<tr><td>lala</td><td>Összesen</td><td>17</td></tr>",
                            "<tr><td>laszlo1</td><td>GLS</td><td>130</td></tr>",
                            "<tr><td>laszlo1</td><td>Posta</td><td>129</td></tr>",
                            "<tr><td>laszlo1</td><td>Személyes </td><td>135</td></tr>",
                            "<tr><td>laszlo1</td><td>Összesen</td><td>394</td></tr>",
                            "<tr><td>laszlo2</td><td>GLS</td><td>12</td></tr>",
                            "<tr><td>laszlo2</td><td>Posta</td><td>6</td></tr>",
                            "<tr><td>laszlo2</td><td>Személyes </td><td>7</td></tr>",
                            "<tr><td>laszlo2</td><td>Összesen</td><td>25</td></tr>",
                            "<tr><td>LASZLOA</td><td>GLS</td><td>156</td></tr>",
                            "<tr><td>LASZLOA</td><td>Posta</td><td>136</td></tr>",
                            "<tr><td>LASZLOA</td><td>Személyes </td><td>154</td></tr>",
                            "<tr><td>LASZLOA</td><td>Összesen</td><td>446</td></tr>",
                            "<tr><td>LASZLON</td><td>GLS</td><td>126</td></tr>",
                            "<tr><td>LASZLON</td><td>Posta</td><td>131</td></tr>",
                            "<tr><td>LASZLON</td><td>Személyes </td><td>143</td></tr>",
                            "<tr><td>LASZLON</td><td>Összesen</td><td>400</td></tr>",
                            "<tr><td>maria1</td><td>GLS</td><td>4</td></tr>",
                            "<tr><td>maria1</td><td>Posta</td><td>5</td></tr>",
                            "<tr><td>maria1</td><td>Személyes </td><td>1</td></tr>",
                            "<tr><td>maria1</td><td>Összesen</td><td>10</td></tr>",
                            "<tr><td>MARKH</td><td>GLS</td><td>128</td></tr>",
                            "<tr><td>MARKH</td><td>Posta</td><td>142</td></tr>",
                            "<tr><td>MARKH</td><td>Személyes </td><td>142</td></tr>",
                            "<tr><td>MARKH</td><td>Összesen</td><td>412</td></tr>",
                            "<tr><td>marton</td><td>GLS</td><td>5</td></tr>",
                            "<tr><td>marton</td><td>Posta</td><td>4</td></tr>",
                            "<tr><td>marton</td><td>Személyes </td><td>5</td></tr>",
                            "<tr><td>marton</td><td>Összesen</td><td>14</td></tr>",
                            "<tr><td>MATEK</td><td>GLS</td><td>6</td></tr>",
                            "<tr><td>MATEK</td><td>Posta</td><td>10</td></tr>",
                            "<tr><td>MATEK</td><td>Személyes </td><td>9</td></tr>",
                            "<tr><td>MATEK</td><td>Összesen</td><td>25</td></tr>",
                            "<tr><td>matyas2</td><td>GLS</td><td>138</td></tr>",
                            "<tr><td>matyas2</td><td>Posta</td><td>131</td></tr>",
                            "<tr><td>matyas2</td><td>Személyes </td><td>164</td></tr>",
                            "<tr><td>matyas2</td><td>Összesen</td><td>433</td></tr>",
                            "<tr><td>MATYASS</td><td>GLS</td><td>4</td></tr>",
                            "<tr><td>MATYASS</td><td>Posta</td><td>5</td></tr>",
                            "<tr><td>MATYASS</td><td>Személyes </td><td>3</td></tr>",
                            "<tr><td>MATYASS</td><td>Összesen</td><td>12</td></tr>",
                            "<tr><td>MIHALYJ</td><td>GLS</td><td>3</td></tr>",
                            "<tr><td>MIHALYJ</td><td>Posta</td><td>4</td></tr>",
                            "<tr><td>MIHALYJ</td><td>Személyes </td><td>6</td></tr>",
                            "<tr><td>MIHALYJ</td><td>Összesen</td><td>13</td></tr>",
                            "<tr><td>miklos2</td><td>GLS</td><td>7</td></tr>",
                            "<tr><td>miklos2</td><td>Posta</td><td>4</td></tr>",
                            "<tr><td>miklos2</td><td>Személyes </td><td>2</td></tr>",
                            "<tr><td>miklos2</td><td>Összesen</td><td>13</td></tr>",
                            "<tr><td>MIKLOSB</td><td>GLS</td><td>6</td></tr>",
                            "<tr><td>MIKLOSB</td><td>Posta</td><td>1</td></tr>",
                            "<tr><td>MIKLOSB</td><td>Személyes </td><td>8</td></tr>",
                            "<tr><td>MIKLOSB</td><td>Összesen</td><td>15</td></tr>",
                            "<tr><td>MONIKAM</td><td>GLS</td><td>133</td></tr>",
                            "<tr><td>MONIKAM</td><td>Posta</td><td>151</td></tr>",
                            "<tr><td>MONIKAM</td><td>Személyes </td><td>123</td></tr>",
                            "<tr><td>MONIKAM</td><td>Összesen</td><td>407</td></tr>",
                            "<tr><td>NANDORF</td><td>GLS</td><td>147</td></tr>",
                            "<tr><td>NANDORF</td><td>Posta</td><td>139</td></tr>",
                            "<tr><td>NANDORF</td><td>Személyes </td><td>134</td></tr>",
                            "<tr><td>NANDORF</td><td>Összesen</td><td>420</td></tr>",
                            "<tr><td>nikolett3</td><td>GLS</td><td>4</td></tr>",
                            "<tr><td>nikolett3</td><td>Posta</td><td>3</td></tr>",
                            "<tr><td>nikolett3</td><td>Személyes </td><td>10</td></tr>",
                            "<tr><td>nikolett3</td><td>Összesen</td><td>17</td></tr>",
                            "<tr><td>nikoletta4</td><td>GLS</td><td>137</td></tr>",
                            "<tr><td>nikoletta4</td><td>Posta</td><td>158</td></tr>",
                            "<tr><td>nikoletta4</td><td>Személyes </td><td>119</td></tr>",
                            "<tr><td>nikoletta4</td><td>Összesen</td><td>414</td></tr>",
                            "<tr><td>NIKOLETTAT</td><td>GLS</td><td>13</td></tr>",
                            "<tr><td>NIKOLETTAT</td><td>Posta</td><td>7</td></tr>",
                            "<tr><td>NIKOLETTAT</td><td>Személyes </td><td>5</td></tr>",
                            "<tr><td>NIKOLETTAT</td><td>Összesen</td><td>25</td></tr>",
                            "<tr><td>norbert2</td><td>GLS</td><td>7</td></tr>",
                            "<tr><td>norbert2</td><td>Posta</td><td>4</td></tr>",
                            "<tr><td>norbert2</td><td>Összesen</td><td>11</td></tr>",
                            "<tr><td>norbert4</td><td>GLS</td><td>1</td></tr>",
                            "<tr><td>norbert4</td><td>Posta</td><td>3</td></tr>",
                            "<tr><td>norbert4</td><td>Személyes </td><td>9</td></tr>",
                            "<tr><td>norbert4</td><td>Összesen</td><td>13</td></tr>",
                            "<tr><td>norbert5</td><td>GLS</td><td>1</td></tr>",
                            "<tr><td>norbert5</td><td>Posta</td><td>6</td></tr>",
                            "<tr><td>norbert5</td><td>Személyes </td><td>9</td></tr>",
                            "<tr><td>norbert5</td><td>Összesen</td><td>16</td></tr>",
                            "<tr><td>pal</td><td>GLS</td><td>152</td></tr>",
                            "<tr><td>pal</td><td>Posta</td><td>132</td></tr>",
                            "<tr><td>pal</td><td>Személyes </td><td>154</td></tr>",
                            "<tr><td>pal</td><td>Összesen</td><td>438</td></tr>",
                            "<tr><td>peter1</td><td>GLS</td><td>151</td></tr>",
                            "<tr><td>peter1</td><td>Posta</td><td>135</td></tr>",
                            "<tr><td>peter1</td><td>Személyes </td><td>126</td></tr>",
                            "<tr><td>peter1</td><td>Összesen</td><td>412</td></tr>",
                            "<tr><td>peter2</td><td>GLS</td><td>7</td></tr>",
                            "<tr><td>peter2</td><td>Posta</td><td>4</td></tr>",
                            "<tr><td>peter2</td><td>Személyes </td><td>7</td></tr>",
                            "<tr><td>peter2</td><td>Összesen</td><td>18</td></tr>",
                            "<tr><td>peter3</td><td>GLS</td><td>8</td></tr>",
                            "<tr><td>peter3</td><td>Posta</td><td>7</td></tr>",
                            "<tr><td>peter3</td><td>Személyes </td><td>10</td></tr>",
                            "<tr><td>peter3</td><td>Összesen</td><td>25</td></tr>",
                            "<tr><td>peter4</td><td>GLS</td><td>266</td></tr>",
                            "<tr><td>peter4</td><td>Posta</td><td>293</td></tr>",
                            "<tr><td>peter4</td><td>Személyes </td><td>293</td></tr>",
                            "<tr><td>peter4</td><td>Összesen</td><td>852</td></tr>",
                            "<tr><td>PETERB</td><td>GLS</td><td>2</td></tr>",
                            "<tr><td>PETERB</td><td>Posta</td><td>4</td></tr>",
                            "<tr><td>PETERB</td><td>Személyes </td><td>9</td></tr>",
                            "<tr><td>PETERB</td><td>Összesen</td><td>15</td></tr>",
                            "<tr><td>polla</td><td>GLS</td><td>9</td></tr>",
                            "<tr><td>polla</td><td>Posta</td><td>6</td></tr>",
                            "<tr><td>polla</td><td>Személyes </td><td>7</td></tr>",
                            "<tr><td>polla</td><td>Összesen</td><td>22</td></tr>",
                            "<tr><td>rajmond4</td><td>GLS</td><td>6</td></tr>",
                            "<tr><td>rajmond4</td><td>Posta</td><td>5</td></tr>",
                            "<tr><td>rajmond4</td><td>Személyes </td><td>6</td></tr>",
                            "<tr><td>rajmond4</td><td>Összesen</td><td>17</td></tr>",
                            "<tr><td>reka4</td><td>GLS</td><td>5</td></tr>",
                            "<tr><td>reka4</td><td>Posta</td><td>4</td></tr>",
                            "<tr><td>reka4</td><td>Személyes </td><td>11</td></tr>",
                            "<tr><td>reka4</td><td>Összesen</td><td>20</td></tr>",
                            "<tr><td>RENATAK</td><td>GLS</td><td>135</td></tr>",
                            "<tr><td>RENATAK</td><td>Posta</td><td>140</td></tr>",
                            "<tr><td>RENATAK</td><td>Személyes </td><td>147</td></tr>",
                            "<tr><td>RENATAK</td><td>Összesen</td><td>422</td></tr>",
                            "<tr><td>RENATAS</td><td>GLS</td><td>6</td></tr>",
                            "<tr><td>RENATAS</td><td>Posta</td><td>5</td></tr>",
                            "<tr><td>RENATAS</td><td>Személyes </td><td>5</td></tr>",
                            "<tr><td>RENATAS</td><td>Összesen</td><td>16</td></tr>",
                            "<tr><td>robert2</td><td>GLS</td><td>5</td></tr>",
                            "<tr><td>robert2</td><td>Posta</td><td>1</td></tr>",
                            "<tr><td>robert2</td><td>Személyes </td><td>7</td></tr>",
                            "<tr><td>robert2</td><td>Összesen</td><td>13</td></tr>",
                            "<tr><td>ROBERTI</td><td>GLS</td><td>5</td></tr>",
                            "<tr><td>ROBERTI</td><td>Posta</td><td>3</td></tr>",
                            "<tr><td>ROBERTI</td><td>Személyes </td><td>5</td></tr>",
                            "<tr><td>ROBERTI</td><td>Összesen</td><td>13</td></tr>",
                            "<tr><td>ROBERTP</td><td>GLS</td><td>8</td></tr>",
                            "<tr><td>ROBERTP</td><td>Posta</td><td>8</td></tr>",
                            "<tr><td>ROBERTP</td><td>Személyes </td><td>10</td></tr>",
                            "<tr><td>ROBERTP</td><td>Összesen</td><td>26</td></tr>",
                            "<tr><td>roland</td><td>GLS</td><td>132</td></tr>",
                            "<tr><td>roland</td><td>Posta</td><td>157</td></tr>",
                            "<tr><td>roland</td><td>Személyes </td><td>125</td></tr>",
                            "<tr><td>roland</td><td>Összesen</td><td>414</td></tr>",
                            "<tr><td>roland1</td><td>GLS</td><td>142</td></tr>",
                            "<tr><td>roland1</td><td>Posta</td><td>155</td></tr>",
                            "<tr><td>roland1</td><td>Személyes </td><td>135</td></tr>",
                            "<tr><td>roland1</td><td>Összesen</td><td>432</td></tr>",
                            "<tr><td>roza2</td><td>GLS</td><td>3</td></tr>",
                            "<tr><td>roza2</td><td>Posta</td><td>2</td></tr>",
                            "<tr><td>roza2</td><td>Személyes </td><td>3</td></tr>",
                            "<tr><td>roza2</td><td>Összesen</td><td>8</td></tr>",
                            "<tr><td>sandor</td><td>GLS</td><td>4</td></tr>",
                            "<tr><td>sandor</td><td>Posta</td><td>6</td></tr>",
                            "<tr><td>sandor</td><td>Személyes </td><td>7</td></tr>",
                            "<tr><td>sandor</td><td>Összesen</td><td>17</td></tr>",
                            "<tr><td>sandor3</td><td>GLS</td><td>4</td></tr>",
                            "<tr><td>sandor3</td><td>Posta</td><td>4</td></tr>",
                            "<tr><td>sandor3</td><td>Személyes </td><td>6</td></tr>",
                            "<tr><td>sandor3</td><td>Összesen</td><td>14</td></tr>",
                            "<tr><td>sandor4</td><td>GLS</td><td>4</td></tr>",
                            "<tr><td>sandor4</td><td>Posta</td><td>2</td></tr>",
                            "<tr><td>sandor4</td><td>Személyes </td><td>5</td></tr>",
                            "<tr><td>sandor4</td><td>Összesen</td><td>11</td></tr>",
                            "<tr><td>sara</td><td>GLS</td><td>4</td></tr>",
                            "<tr><td>sara</td><td>Posta</td><td>7</td></tr>",
                            "<tr><td>sara</td><td>Személyes </td><td>9</td></tr>",
                            "<tr><td>sara</td><td>Összesen</td><td>20</td></tr>",
                            "<tr><td>SEBASTIANF</td><td>GLS</td><td>6</td></tr>",
                            "<tr><td>SEBASTIANF</td><td>Posta</td><td>3</td></tr>",
                            "<tr><td>SEBASTIANF</td><td>Személyes </td><td>6</td></tr>",
                            "<tr><td>SEBASTIANF</td><td>Összesen</td><td>15</td></tr>",
                            "<tr><td>sebestyen</td><td>GLS</td><td>4</td></tr>",
                            "<tr><td>sebestyen</td><td>Posta</td><td>6</td></tr>",
                            "<tr><td>sebestyen</td><td>Személyes </td><td>6</td></tr>",
                            "<tr><td>sebestyen</td><td>Összesen</td><td>16</td></tr>",
                            "<tr><td>szabolcs</td><td>GLS</td><td>145</td></tr>",
                            "<tr><td>szabolcs</td><td>Posta</td><td>157</td></tr>",
                            "<tr><td>szabolcs</td><td>Személyes </td><td>169</td></tr>",
                            "<tr><td>szabolcs</td><td>Összesen</td><td>471</td></tr>",
                            "<tr><td>SZABOLCSM</td><td>GLS</td><td>126</td></tr>",
                            "<tr><td>SZABOLCSM</td><td>Posta</td><td>153</td></tr>",
                            "<tr><td>SZABOLCSM</td><td>Személyes </td><td>129</td></tr>",
                            "<tr><td>SZABOLCSM</td><td>Összesen</td><td>408</td></tr>",
                            "<tr><td>SZILARDS</td><td>GLS</td><td>144</td></tr>",
                            "<tr><td>SZILARDS</td><td>Posta</td><td>131</td></tr>",
                            "<tr><td>SZILARDS</td><td>Személyes </td><td>111</td></tr>",
                            "<tr><td>SZILARDS</td><td>Összesen</td><td>386</td></tr>",
                            "<tr><td>szilvia1</td><td>GLS</td><td>156</td></tr>",
                            "<tr><td>szilvia1</td><td>Posta</td><td>151</td></tr>",
                            "<tr><td>szilvia1</td><td>Személyes </td><td>138</td></tr>",
                            "<tr><td>szilvia1</td><td>Összesen</td><td>445</td></tr>",
                            "<tr><td>tamara2</td><td>GLS</td><td>6</td></tr>",
                            "<tr><td>tamara2</td><td>Posta</td><td>4</td></tr>",
                            "<tr><td>tamara2</td><td>Személyes </td><td>3</td></tr>",
                            "<tr><td>tamara2</td><td>Összesen</td><td>13</td></tr>",
                            "<tr><td>tamas</td><td>GLS</td><td>143</td></tr>",
                            "<tr><td>tamas</td><td>Posta</td><td>156</td></tr>",
                            "<tr><td>tamas</td><td>Személyes </td><td>122</td></tr>",
                            "<tr><td>tamas</td><td>Összesen</td><td>421</td></tr>",
                            "<tr><td>TAMASF</td><td>GLS</td><td>159</td></tr>",
                            "<tr><td>TAMASF</td><td>Posta</td><td>145</td></tr>",
                            "<tr><td>TAMASF</td><td>Személyes </td><td>129</td></tr>",
                            "<tr><td>TAMASF</td><td>Összesen</td><td>433</td></tr>",
                            "<tr><td>tibor</td><td>GLS</td><td>115</td></tr>",
                            "<tr><td>tibor</td><td>Posta</td><td>129</td></tr>",
                            "<tr><td>tibor</td><td>Személyes </td><td>130</td></tr>",
                            "<tr><td>tibor</td><td>Összesen</td><td>374</td></tr>",
                            "<tr><td>tibor2</td><td>GLS</td><td>7</td></tr>",
                            "<tr><td>tibor2</td><td>Posta</td><td>7</td></tr>",
                            "<tr><td>tibor2</td><td>Személyes </td><td>11</td></tr>",
                            "<tr><td>tibor2</td><td>Összesen</td><td>25</td></tr>",
                            "<tr><td>tihamer</td><td>GLS</td><td>9</td></tr>",
                            "<tr><td>tihamer</td><td>Posta</td><td>6</td></tr>",
                            "<tr><td>tihamer</td><td>Személyes </td><td>5</td></tr>",
                            "<tr><td>tihamer</td><td>Összesen</td><td>20</td></tr>",
                            "<tr><td>timea</td><td>GLS</td><td>14</td></tr>",
                            "<tr><td>timea</td><td>Posta</td><td>23</td></tr>",
                            "<tr><td>timea</td><td>Személyes </td><td>18</td></tr>",
                            "<tr><td>timea</td><td>Összesen</td><td>55</td></tr>",
                            "<tr><td>timea2</td><td>GLS</td><td>1</td></tr>",
                            "<tr><td>timea2</td><td>Posta</td><td>5</td></tr>",
                            "<tr><td>timea2</td><td>Személyes </td><td>10</td></tr>",
                            "<tr><td>timea2</td><td>Összesen</td><td>16</td></tr>",
                            "<tr><td>tunde</td><td>GLS</td><td>6</td></tr>",
                            "<tr><td>tunde</td><td>Posta</td><td>6</td></tr>",
                            "<tr><td>tunde</td><td>Személyes </td><td>4</td></tr>",
                            "<tr><td>tunde</td><td>Összesen</td><td>16</td></tr>",
                            "<tr><td>valentin</td><td>GLS</td><td>5</td></tr>",
                            "<tr><td>valentin</td><td>Posta</td><td>5</td></tr>",
                            "<tr><td>valentin</td><td>Személyes </td><td>3</td></tr>",
                            "<tr><td>valentin</td><td>Összesen</td><td>13</td></tr>",
                            "<tr><td>veronika4</td><td>GLS</td><td>5</td></tr>",
                            "<tr><td>veronika4</td><td>Posta</td><td>6</td></tr>",
                            "<tr><td>veronika4</td><td>Személyes </td><td>7</td></tr>",
                            "<tr><td>veronika4</td><td>Összesen</td><td>18</td></tr>",
                            "<tr><td>VIKTORIAU</td><td>GLS</td><td>5</td></tr>",
                            "<tr><td>VIKTORIAU</td><td>Posta</td><td>4</td></tr>",
                            "<tr><td>VIKTORIAU</td><td>Személyes </td><td>5</td></tr>",
                            "<tr><td>VIKTORIAU</td><td>Összesen</td><td>14</td></tr>",
                            "<tr><td>VIKTORK</td><td>GLS</td><td>8</td></tr>",
                            "<tr><td>VIKTORK</td><td>Posta</td><td>6</td></tr>",
                            "<tr><td>VIKTORK</td><td>Személyes </td><td>6</td></tr>",
                            "<tr><td>VIKTORK</td><td>Összesen</td><td>20</td></tr>",
                            "<tr><td>vivien3</td><td>GLS</td><td>9</td></tr>",
                            "<tr><td>vivien3</td><td>Posta</td><td>6</td></tr>",
                            "<tr><td>vivien3</td><td>Személyes </td><td>7</td></tr>",
                            "<tr><td>vivien3</td><td>Összesen</td><td>22</td></tr>",
                            "<tr><td>zoltan</td><td>GLS</td><td>5</td></tr>",
                            "<tr><td>zoltan</td><td>Posta</td><td>3</td></tr>",
                            "<tr><td>zoltan</td><td>Személyes </td><td>7</td></tr>",
                            "<tr><td>zoltan</td><td>Összesen</td><td>15</td></tr>",
                            "<tr><td>zoltan4</td><td>GLS</td><td>129</td></tr>",
                            "<tr><td>zoltan4</td><td>Posta</td><td>124</td></tr>",
                            "<tr><td>zoltan4</td><td>Személyes </td><td>171</td></tr>",
                            "<tr><td>zoltan4</td><td>Összesen</td><td>424</td></tr>",
                            "<tr><td>ZOLTANP</td><td>GLS</td><td>6</td></tr>",
                            "<tr><td>ZOLTANP</td><td>Posta</td><td>3</td></tr>",
                            "<tr><td>ZOLTANP</td><td>Személyes </td><td>4</td></tr>",
                            "<tr><td>ZOLTANP</td><td>Összesen</td><td>13</td></tr>",
                            "<tr><td>ZOLTANT</td><td>GLS</td><td>127</td></tr>",
                            "<tr><td>ZOLTANT</td><td>Posta</td><td>107</td></tr>",
                            "<tr><td>ZOLTANT</td><td>Személyes </td><td>123</td></tr>",
                            "<tr><td>ZOLTANT</td><td>Összesen</td><td>357</td></tr>",
                            "<tr><td>zsofi1</td><td>GLS</td><td>7</td></tr>",
                            "<tr><td>zsofi1</td><td>Posta</td><td>6</td></tr>",
                            "<tr><td>zsofi1</td><td>Személyes </td><td>6</td></tr>",
                            "<tr><td>zsofi1</td><td>Összesen</td><td>19</td></tr>",
                            "<tr><td>zsolt1</td><td>GLS</td><td>11</td></tr>",
                            "<tr><td>zsolt1</td><td>Posta</td><td>6</td></tr>",
                            "<tr><td>zsolt1</td><td>Személyes </td><td>3</td></tr>",
                            "<tr><td>zsolt1</td><td>Összesen</td><td>20</td></tr>",
                            "<tr><td>ZSOLTJ</td><td>GLS</td><td>1</td></tr>",
                            "<tr><td>ZSOLTJ</td><td>Posta</td><td>8</td></tr>",
                            "<tr><td>ZSOLTJ</td><td>Személyes </td><td>9</td></tr>",
                            "<tr><td>ZSOLTJ</td><td>Összesen</td><td>18</td></tr>",
                            "<tr><td>zsuzsa</td><td>GLS</td><td>8</td></tr>",
                            "<tr><td>zsuzsa</td><td>Posta</td><td>5</td></tr>",
                            "<tr><td>zsuzsa</td><td>Személyes </td><td>3</td></tr>",
                            "<tr><td>zsuzsa</td><td>Összesen</td><td>16</td></tr>",
                            "<tr><td>zsuzsa3</td><td>GLS</td><td>5</td></tr>",
                            "<tr><td>zsuzsa3</td><td>Posta</td><td>5</td></tr>",
                            "<tr><td>zsuzsa3</td><td>Személyes </td><td>6</td></tr>",
                            "<tr><td>zsuzsa3</td><td>Összesen</td><td>16</td></tr>",
                            "<tr><td>zsuzsanna</td><td>GLS</td><td>7</td></tr>",
                            "<tr><td>zsuzsanna</td><td>Posta</td><td>5</td></tr>",
                            "<tr><td>zsuzsanna</td><td>Személyes </td><td>3</td></tr>",
                            "<tr><td>zsuzsanna</td><td>Összesen</td><td>15</td></tr>",
                            "<tr><td>ZSUZSAV</td><td>GLS</td><td>139</td></tr>",
                            "<tr><td>ZSUZSAV</td><td>Posta</td><td>139</td></tr>",
                            "<tr><td>ZSUZSAV</td><td>Személyes </td><td>142</td></tr>",
                            "<tr><td>ZSUZSAV</td><td>Összesen</td><td>420</td></tr>",
                            "<tr><td>Összesen</td><td>Összesen</td><td>28085</td></tr>",
                            "</table>"
                        ]
                    }
                }
            ],
            "execution_count": 18
        },
        {
            "cell_type": "markdown",
            "source": [
                "2. <span style=\"background-color: rgb(255, 255, 255); color: rgb(0, 0, 0); font-family: &quot;Open Sans&quot;, sans-serif; font-size: 14.44px;\">Készítsünk listát a termékek számáról a következő csoportosítási szempontok szerint:<br>kategória azonosító, raktárkód, raktárkód+mennyiségi egység!</span>\n",
                "\n",
                "a. A listát szűrjük azokra a csoportokra, ahol a termékek száma legalább 6!"
            ],
            "metadata": {
                "azdata_cell_guid": "ea75c103-911f-41a3-a32c-3d40fb3e4e4a"
            },
            "attachments": {}
        },
        {
            "cell_type": "code",
            "source": [
                "select KAT_ID, RAKTAR_KOD, MEGYS, count(*)\r\n",
                "from Termek\r\n",
                "GROUP by GROUPING SETS (KAT_ID, RAKTAR_KOD, (RAKTAR_KOD, MEGYS))\r\n",
                "HAVING count(*) > 5\r\n",
                "\r\n",
                "/*select  KAT_ID,\r\n",
                "        RAKTAR_KOD,\r\n",
                "        MEGYS,\r\n",
                "        count(*)\r\n",
                "from termek\r\n",
                "group by GROUPING SETS (KAT_ID, RAKTAR_KOD, (RAKTAR_KOD, MEGYS))\r\n",
                "--GROUPING SETS: annyi csoportosítási szempontot adok meg ahányat akarok. Két szempont után zárójelbe kell tenni a következőket*/"
            ],
            "metadata": {
                "azdata_cell_guid": "222b9618-a8e8-42b4-a8e8-d002257122b7",
                "language": "sql"
            },
            "outputs": [
                {
                    "output_type": "display_data",
                    "data": {
                        "text/html": "(49 rows affected)"
                    },
                    "metadata": {}
                },
                {
                    "output_type": "display_data",
                    "data": {
                        "text/html": "Total execution time: 00:00:00.049"
                    },
                    "metadata": {}
                },
                {
                    "output_type": "execute_result",
                    "metadata": {},
                    "execution_count": 19,
                    "data": {
                        "application/vnd.dataresource+json": {
                            "schema": {
                                "fields": [
                                    {
                                        "name": "KAT_ID"
                                    },
                                    {
                                        "name": "RAKTAR_KOD"
                                    },
                                    {
                                        "name": "MEGYS"
                                    },
                                    {
                                        "name": "(No column name)"
                                    }
                                ]
                            },
                            "data": [
                                {
                                    "KAT_ID": "NULL",
                                    "RAKTAR_KOD": "1",
                                    "MEGYS": "db",
                                    "(No column name)": "11"
                                },
                                {
                                    "KAT_ID": "NULL",
                                    "RAKTAR_KOD": "1",
                                    "MEGYS": "NULL",
                                    "(No column name)": "11"
                                },
                                {
                                    "KAT_ID": "NULL",
                                    "RAKTAR_KOD": "3",
                                    "MEGYS": "db",
                                    "(No column name)": "14"
                                },
                                {
                                    "KAT_ID": "NULL",
                                    "RAKTAR_KOD": "3",
                                    "MEGYS": "NULL",
                                    "(No column name)": "14"
                                },
                                {
                                    "KAT_ID": "NULL",
                                    "RAKTAR_KOD": "5",
                                    "MEGYS": "csomag",
                                    "(No column name)": "7"
                                },
                                {
                                    "KAT_ID": "NULL",
                                    "RAKTAR_KOD": "5",
                                    "MEGYS": "db",
                                    "(No column name)": "72"
                                },
                                {
                                    "KAT_ID": "NULL",
                                    "RAKTAR_KOD": "5",
                                    "MEGYS": "NULL",
                                    "(No column name)": "86"
                                },
                                {
                                    "KAT_ID": "NULL",
                                    "RAKTAR_KOD": "6",
                                    "MEGYS": "csomag",
                                    "(No column name)": "9"
                                },
                                {
                                    "KAT_ID": "NULL",
                                    "RAKTAR_KOD": "6",
                                    "MEGYS": "db",
                                    "(No column name)": "94"
                                },
                                {
                                    "KAT_ID": "NULL",
                                    "RAKTAR_KOD": "6",
                                    "MEGYS": "NULL",
                                    "(No column name)": "106"
                                },
                                {
                                    "KAT_ID": "NULL",
                                    "RAKTAR_KOD": "7",
                                    "MEGYS": "csomag",
                                    "(No column name)": "9"
                                },
                                {
                                    "KAT_ID": "NULL",
                                    "RAKTAR_KOD": "7",
                                    "MEGYS": "db",
                                    "(No column name)": "88"
                                },
                                {
                                    "KAT_ID": "NULL",
                                    "RAKTAR_KOD": "7",
                                    "MEGYS": "NULL",
                                    "(No column name)": "100"
                                },
                                {
                                    "KAT_ID": "NULL",
                                    "RAKTAR_KOD": "8",
                                    "MEGYS": "csomag",
                                    "(No column name)": "8"
                                },
                                {
                                    "KAT_ID": "NULL",
                                    "RAKTAR_KOD": "8",
                                    "MEGYS": "db",
                                    "(No column name)": "109"
                                },
                                {
                                    "KAT_ID": "NULL",
                                    "RAKTAR_KOD": "8",
                                    "MEGYS": "ív",
                                    "(No column name)": "6"
                                },
                                {
                                    "KAT_ID": "NULL",
                                    "RAKTAR_KOD": "8",
                                    "MEGYS": "NULL",
                                    "(No column name)": "123"
                                },
                                {
                                    "KAT_ID": "NULL",
                                    "RAKTAR_KOD": "9",
                                    "MEGYS": "csomag",
                                    "(No column name)": "11"
                                },
                                {
                                    "KAT_ID": "NULL",
                                    "RAKTAR_KOD": "9",
                                    "MEGYS": "db",
                                    "(No column name)": "86"
                                },
                                {
                                    "KAT_ID": "NULL",
                                    "RAKTAR_KOD": "9",
                                    "MEGYS": "NULL",
                                    "(No column name)": "102"
                                },
                                {
                                    "KAT_ID": "4",
                                    "RAKTAR_KOD": "NULL",
                                    "MEGYS": "NULL",
                                    "(No column name)": "15"
                                },
                                {
                                    "KAT_ID": "6",
                                    "RAKTAR_KOD": "NULL",
                                    "MEGYS": "NULL",
                                    "(No column name)": "20"
                                },
                                {
                                    "KAT_ID": "16",
                                    "RAKTAR_KOD": "NULL",
                                    "MEGYS": "NULL",
                                    "(No column name)": "7"
                                },
                                {
                                    "KAT_ID": "19",
                                    "RAKTAR_KOD": "NULL",
                                    "MEGYS": "NULL",
                                    "(No column name)": "19"
                                },
                                {
                                    "KAT_ID": "24",
                                    "RAKTAR_KOD": "NULL",
                                    "MEGYS": "NULL",
                                    "(No column name)": "7"
                                },
                                {
                                    "KAT_ID": "30",
                                    "RAKTAR_KOD": "NULL",
                                    "MEGYS": "NULL",
                                    "(No column name)": "7"
                                },
                                {
                                    "KAT_ID": "35",
                                    "RAKTAR_KOD": "NULL",
                                    "MEGYS": "NULL",
                                    "(No column name)": "7"
                                },
                                {
                                    "KAT_ID": "41",
                                    "RAKTAR_KOD": "NULL",
                                    "MEGYS": "NULL",
                                    "(No column name)": "13"
                                },
                                {
                                    "KAT_ID": "45",
                                    "RAKTAR_KOD": "NULL",
                                    "MEGYS": "NULL",
                                    "(No column name)": "11"
                                },
                                {
                                    "KAT_ID": "46",
                                    "RAKTAR_KOD": "NULL",
                                    "MEGYS": "NULL",
                                    "(No column name)": "7"
                                },
                                {
                                    "KAT_ID": "52",
                                    "RAKTAR_KOD": "NULL",
                                    "MEGYS": "NULL",
                                    "(No column name)": "26"
                                },
                                {
                                    "KAT_ID": "54",
                                    "RAKTAR_KOD": "NULL",
                                    "MEGYS": "NULL",
                                    "(No column name)": "6"
                                },
                                {
                                    "KAT_ID": "66",
                                    "RAKTAR_KOD": "NULL",
                                    "MEGYS": "NULL",
                                    "(No column name)": "7"
                                },
                                {
                                    "KAT_ID": "78",
                                    "RAKTAR_KOD": "NULL",
                                    "MEGYS": "NULL",
                                    "(No column name)": "24"
                                },
                                {
                                    "KAT_ID": "83",
                                    "RAKTAR_KOD": "NULL",
                                    "MEGYS": "NULL",
                                    "(No column name)": "6"
                                },
                                {
                                    "KAT_ID": "85",
                                    "RAKTAR_KOD": "NULL",
                                    "MEGYS": "NULL",
                                    "(No column name)": "16"
                                },
                                {
                                    "KAT_ID": "91",
                                    "RAKTAR_KOD": "NULL",
                                    "MEGYS": "NULL",
                                    "(No column name)": "7"
                                },
                                {
                                    "KAT_ID": "93",
                                    "RAKTAR_KOD": "NULL",
                                    "MEGYS": "NULL",
                                    "(No column name)": "7"
                                },
                                {
                                    "KAT_ID": "96",
                                    "RAKTAR_KOD": "NULL",
                                    "MEGYS": "NULL",
                                    "(No column name)": "9"
                                },
                                {
                                    "KAT_ID": "97",
                                    "RAKTAR_KOD": "NULL",
                                    "MEGYS": "NULL",
                                    "(No column name)": "10"
                                },
                                {
                                    "KAT_ID": "100",
                                    "RAKTAR_KOD": "NULL",
                                    "MEGYS": "NULL",
                                    "(No column name)": "9"
                                },
                                {
                                    "KAT_ID": "118",
                                    "RAKTAR_KOD": "NULL",
                                    "MEGYS": "NULL",
                                    "(No column name)": "9"
                                },
                                {
                                    "KAT_ID": "122",
                                    "RAKTAR_KOD": "NULL",
                                    "MEGYS": "NULL",
                                    "(No column name)": "7"
                                },
                                {
                                    "KAT_ID": "124",
                                    "RAKTAR_KOD": "NULL",
                                    "MEGYS": "NULL",
                                    "(No column name)": "10"
                                },
                                {
                                    "KAT_ID": "133",
                                    "RAKTAR_KOD": "NULL",
                                    "MEGYS": "NULL",
                                    "(No column name)": "6"
                                },
                                {
                                    "KAT_ID": "145",
                                    "RAKTAR_KOD": "NULL",
                                    "MEGYS": "NULL",
                                    "(No column name)": "18"
                                },
                                {
                                    "KAT_ID": "146",
                                    "RAKTAR_KOD": "NULL",
                                    "MEGYS": "NULL",
                                    "(No column name)": "7"
                                },
                                {
                                    "KAT_ID": "149",
                                    "RAKTAR_KOD": "NULL",
                                    "MEGYS": "NULL",
                                    "(No column name)": "6"
                                },
                                {
                                    "KAT_ID": "152",
                                    "RAKTAR_KOD": "NULL",
                                    "MEGYS": "NULL",
                                    "(No column name)": "6"
                                }
                            ]
                        },
                        "text/html": [
                            "<table>",
                            "<tr><th>KAT_ID</th><th>RAKTAR_KOD</th><th>MEGYS</th><th>(No column name)</th></tr>",
                            "<tr><td>NULL</td><td>1</td><td>db</td><td>11</td></tr>",
                            "<tr><td>NULL</td><td>1</td><td>NULL</td><td>11</td></tr>",
                            "<tr><td>NULL</td><td>3</td><td>db</td><td>14</td></tr>",
                            "<tr><td>NULL</td><td>3</td><td>NULL</td><td>14</td></tr>",
                            "<tr><td>NULL</td><td>5</td><td>csomag</td><td>7</td></tr>",
                            "<tr><td>NULL</td><td>5</td><td>db</td><td>72</td></tr>",
                            "<tr><td>NULL</td><td>5</td><td>NULL</td><td>86</td></tr>",
                            "<tr><td>NULL</td><td>6</td><td>csomag</td><td>9</td></tr>",
                            "<tr><td>NULL</td><td>6</td><td>db</td><td>94</td></tr>",
                            "<tr><td>NULL</td><td>6</td><td>NULL</td><td>106</td></tr>",
                            "<tr><td>NULL</td><td>7</td><td>csomag</td><td>9</td></tr>",
                            "<tr><td>NULL</td><td>7</td><td>db</td><td>88</td></tr>",
                            "<tr><td>NULL</td><td>7</td><td>NULL</td><td>100</td></tr>",
                            "<tr><td>NULL</td><td>8</td><td>csomag</td><td>8</td></tr>",
                            "<tr><td>NULL</td><td>8</td><td>db</td><td>109</td></tr>",
                            "<tr><td>NULL</td><td>8</td><td>ív</td><td>6</td></tr>",
                            "<tr><td>NULL</td><td>8</td><td>NULL</td><td>123</td></tr>",
                            "<tr><td>NULL</td><td>9</td><td>csomag</td><td>11</td></tr>",
                            "<tr><td>NULL</td><td>9</td><td>db</td><td>86</td></tr>",
                            "<tr><td>NULL</td><td>9</td><td>NULL</td><td>102</td></tr>",
                            "<tr><td>4</td><td>NULL</td><td>NULL</td><td>15</td></tr>",
                            "<tr><td>6</td><td>NULL</td><td>NULL</td><td>20</td></tr>",
                            "<tr><td>16</td><td>NULL</td><td>NULL</td><td>7</td></tr>",
                            "<tr><td>19</td><td>NULL</td><td>NULL</td><td>19</td></tr>",
                            "<tr><td>24</td><td>NULL</td><td>NULL</td><td>7</td></tr>",
                            "<tr><td>30</td><td>NULL</td><td>NULL</td><td>7</td></tr>",
                            "<tr><td>35</td><td>NULL</td><td>NULL</td><td>7</td></tr>",
                            "<tr><td>41</td><td>NULL</td><td>NULL</td><td>13</td></tr>",
                            "<tr><td>45</td><td>NULL</td><td>NULL</td><td>11</td></tr>",
                            "<tr><td>46</td><td>NULL</td><td>NULL</td><td>7</td></tr>",
                            "<tr><td>52</td><td>NULL</td><td>NULL</td><td>26</td></tr>",
                            "<tr><td>54</td><td>NULL</td><td>NULL</td><td>6</td></tr>",
                            "<tr><td>66</td><td>NULL</td><td>NULL</td><td>7</td></tr>",
                            "<tr><td>78</td><td>NULL</td><td>NULL</td><td>24</td></tr>",
                            "<tr><td>83</td><td>NULL</td><td>NULL</td><td>6</td></tr>",
                            "<tr><td>85</td><td>NULL</td><td>NULL</td><td>16</td></tr>",
                            "<tr><td>91</td><td>NULL</td><td>NULL</td><td>7</td></tr>",
                            "<tr><td>93</td><td>NULL</td><td>NULL</td><td>7</td></tr>",
                            "<tr><td>96</td><td>NULL</td><td>NULL</td><td>9</td></tr>",
                            "<tr><td>97</td><td>NULL</td><td>NULL</td><td>10</td></tr>",
                            "<tr><td>100</td><td>NULL</td><td>NULL</td><td>9</td></tr>",
                            "<tr><td>118</td><td>NULL</td><td>NULL</td><td>9</td></tr>",
                            "<tr><td>122</td><td>NULL</td><td>NULL</td><td>7</td></tr>",
                            "<tr><td>124</td><td>NULL</td><td>NULL</td><td>10</td></tr>",
                            "<tr><td>133</td><td>NULL</td><td>NULL</td><td>6</td></tr>",
                            "<tr><td>145</td><td>NULL</td><td>NULL</td><td>18</td></tr>",
                            "<tr><td>146</td><td>NULL</td><td>NULL</td><td>7</td></tr>",
                            "<tr><td>149</td><td>NULL</td><td>NULL</td><td>6</td></tr>",
                            "<tr><td>152</td><td>NULL</td><td>NULL</td><td>6</td></tr>",
                            "</table>"
                        ]
                    }
                }
            ],
            "execution_count": 19
        },
        {
            "cell_type": "markdown",
            "source": [
                "```\n",
                "3. Készítsünk listát az egyes termékkategóriákban lévő termékek számáról! \n",
                "\n",
                "```\n",
                "\n",
                "a. Elég megjeleníteni a kategóriák azonosítóit és a darabszámokat!   \n",
                "<span style=\"color: var(--vscode-foreground);\">b. A lista megfelelően jelölve tartalmazza a végösszeget is!&nbsp;<br></span> <span style=\"color: var(--vscode-foreground);\">c. Az oszlopokat nevezzük el értelemszerűen!&nbsp;<br></span> <span style=\"color: var(--vscode-foreground);\">d. A listát rendezzük a darabszám szerint növekvő sorrendbe!</span>\n",
                "\n",
                "  \n",
                "\n",
                "![](https://moodle.uni-corvinus.hu/theme/image.php/adaptable/atto_h5p/1709548862/icon)"
            ],
            "metadata": {
                "azdata_cell_guid": "d7876bb9-76d0-4d07-baed-3cb17b2f96c3"
            },
            "attachments": {}
        },
        {
            "cell_type": "code",
            "source": [
                "select IIF(GROUPING_ID(KAT_ID) = 1, 'Összesen', CAST(KAT_ID as nvarchar(10))) as 'kat_ID',\r\n",
                "        count(*) as 'DB'\r\n",
                "from Termek\r\n",
                "GROUP by rollup(KAT_ID)\r\n",
                "order by count(*)\r\n",
                "\r\n",
                "/*select  KAT_ID,\r\n",
                "        IIF(GROUPING_ID(KAT_ID)=1, 'Összesen', CAST(KAT_ID as NVARCHAR(10))),\r\n",
                "        count(*) as 'Darab'\r\n",
                "\r\n",
                "from Termek\r\n",
                "group by ROLLUP(KAT_ID)\r\n",
                "order by count(*)*/"
            ],
            "metadata": {
                "azdata_cell_guid": "56ec19ce-e249-4551-b2a8-f17569765acc",
                "language": "sql"
            },
            "outputs": [
                {
                    "output_type": "display_data",
                    "data": {
                        "text/html": "(144 rows affected)"
                    },
                    "metadata": {}
                },
                {
                    "output_type": "display_data",
                    "data": {
                        "text/html": "Total execution time: 00:00:00.040"
                    },
                    "metadata": {}
                },
                {
                    "output_type": "execute_result",
                    "metadata": {},
                    "execution_count": 20,
                    "data": {
                        "application/vnd.dataresource+json": {
                            "schema": {
                                "fields": [
                                    {
                                        "name": "kat_ID"
                                    },
                                    {
                                        "name": "DB"
                                    }
                                ]
                            },
                            "data": [
                                {
                                    "kat_ID": "10",
                                    "DB": "1"
                                },
                                {
                                    "kat_ID": "11",
                                    "DB": "1"
                                },
                                {
                                    "kat_ID": "12",
                                    "DB": "1"
                                },
                                {
                                    "kat_ID": "15",
                                    "DB": "1"
                                },
                                {
                                    "kat_ID": "17",
                                    "DB": "1"
                                },
                                {
                                    "kat_ID": "26",
                                    "DB": "1"
                                },
                                {
                                    "kat_ID": "29",
                                    "DB": "1"
                                },
                                {
                                    "kat_ID": "31",
                                    "DB": "1"
                                },
                                {
                                    "kat_ID": "33",
                                    "DB": "1"
                                },
                                {
                                    "kat_ID": "34",
                                    "DB": "1"
                                },
                                {
                                    "kat_ID": "37",
                                    "DB": "1"
                                },
                                {
                                    "kat_ID": "38",
                                    "DB": "1"
                                },
                                {
                                    "kat_ID": "40",
                                    "DB": "1"
                                },
                                {
                                    "kat_ID": "42",
                                    "DB": "1"
                                },
                                {
                                    "kat_ID": "44",
                                    "DB": "1"
                                },
                                {
                                    "kat_ID": "50",
                                    "DB": "1"
                                },
                                {
                                    "kat_ID": "53",
                                    "DB": "1"
                                },
                                {
                                    "kat_ID": "61",
                                    "DB": "1"
                                },
                                {
                                    "kat_ID": "74",
                                    "DB": "1"
                                },
                                {
                                    "kat_ID": "80",
                                    "DB": "1"
                                },
                                {
                                    "kat_ID": "82",
                                    "DB": "1"
                                },
                                {
                                    "kat_ID": "84",
                                    "DB": "1"
                                },
                                {
                                    "kat_ID": "86",
                                    "DB": "1"
                                },
                                {
                                    "kat_ID": "99",
                                    "DB": "1"
                                },
                                {
                                    "kat_ID": "101",
                                    "DB": "1"
                                },
                                {
                                    "kat_ID": "103",
                                    "DB": "1"
                                },
                                {
                                    "kat_ID": "105",
                                    "DB": "1"
                                },
                                {
                                    "kat_ID": "107",
                                    "DB": "1"
                                },
                                {
                                    "kat_ID": "108",
                                    "DB": "1"
                                },
                                {
                                    "kat_ID": "109",
                                    "DB": "1"
                                },
                                {
                                    "kat_ID": "114",
                                    "DB": "1"
                                },
                                {
                                    "kat_ID": "115",
                                    "DB": "1"
                                },
                                {
                                    "kat_ID": "126",
                                    "DB": "1"
                                },
                                {
                                    "kat_ID": "130",
                                    "DB": "1"
                                },
                                {
                                    "kat_ID": "131",
                                    "DB": "1"
                                },
                                {
                                    "kat_ID": "132",
                                    "DB": "1"
                                },
                                {
                                    "kat_ID": "135",
                                    "DB": "1"
                                },
                                {
                                    "kat_ID": "139",
                                    "DB": "1"
                                },
                                {
                                    "kat_ID": "140",
                                    "DB": "1"
                                },
                                {
                                    "kat_ID": "142",
                                    "DB": "1"
                                },
                                {
                                    "kat_ID": "147",
                                    "DB": "1"
                                },
                                {
                                    "kat_ID": "148",
                                    "DB": "1"
                                },
                                {
                                    "kat_ID": "153",
                                    "DB": "1"
                                },
                                {
                                    "kat_ID": "155",
                                    "DB": "1"
                                },
                                {
                                    "kat_ID": "150",
                                    "DB": "2"
                                },
                                {
                                    "kat_ID": "144",
                                    "DB": "2"
                                },
                                {
                                    "kat_ID": "141",
                                    "DB": "2"
                                },
                                {
                                    "kat_ID": "136",
                                    "DB": "2"
                                },
                                {
                                    "kat_ID": "123",
                                    "DB": "2"
                                },
                                {
                                    "kat_ID": "134",
                                    "DB": "2"
                                },
                                {
                                    "kat_ID": "127",
                                    "DB": "2"
                                },
                                {
                                    "kat_ID": "128",
                                    "DB": "2"
                                },
                                {
                                    "kat_ID": "129",
                                    "DB": "2"
                                },
                                {
                                    "kat_ID": "116",
                                    "DB": "2"
                                },
                                {
                                    "kat_ID": "117",
                                    "DB": "2"
                                },
                                {
                                    "kat_ID": "112",
                                    "DB": "2"
                                },
                                {
                                    "kat_ID": "121",
                                    "DB": "2"
                                },
                                {
                                    "kat_ID": "110",
                                    "DB": "2"
                                },
                                {
                                    "kat_ID": "104",
                                    "DB": "2"
                                },
                                {
                                    "kat_ID": "94",
                                    "DB": "2"
                                },
                                {
                                    "kat_ID": "95",
                                    "DB": "2"
                                },
                                {
                                    "kat_ID": "88",
                                    "DB": "2"
                                },
                                {
                                    "kat_ID": "90",
                                    "DB": "2"
                                },
                                {
                                    "kat_ID": "92",
                                    "DB": "2"
                                },
                                {
                                    "kat_ID": "71",
                                    "DB": "2"
                                },
                                {
                                    "kat_ID": "72",
                                    "DB": "2"
                                },
                                {
                                    "kat_ID": "73",
                                    "DB": "2"
                                },
                                {
                                    "kat_ID": "75",
                                    "DB": "2"
                                },
                                {
                                    "kat_ID": "62",
                                    "DB": "2"
                                },
                                {
                                    "kat_ID": "55",
                                    "DB": "2"
                                },
                                {
                                    "kat_ID": "65",
                                    "DB": "2"
                                },
                                {
                                    "kat_ID": "67",
                                    "DB": "2"
                                },
                                {
                                    "kat_ID": "68",
                                    "DB": "2"
                                },
                                {
                                    "kat_ID": "57",
                                    "DB": "2"
                                },
                                {
                                    "kat_ID": "48",
                                    "DB": "2"
                                },
                                {
                                    "kat_ID": "49",
                                    "DB": "2"
                                },
                                {
                                    "kat_ID": "39",
                                    "DB": "2"
                                },
                                {
                                    "kat_ID": "22",
                                    "DB": "2"
                                },
                                {
                                    "kat_ID": "18",
                                    "DB": "2"
                                },
                                {
                                    "kat_ID": "9",
                                    "DB": "2"
                                },
                                {
                                    "kat_ID": "13",
                                    "DB": "2"
                                },
                                {
                                    "kat_ID": "5",
                                    "DB": "3"
                                },
                                {
                                    "kat_ID": "7",
                                    "DB": "3"
                                },
                                {
                                    "kat_ID": "8",
                                    "DB": "3"
                                },
                                {
                                    "kat_ID": "20",
                                    "DB": "3"
                                },
                                {
                                    "kat_ID": "27",
                                    "DB": "3"
                                },
                                {
                                    "kat_ID": "32",
                                    "DB": "3"
                                },
                                {
                                    "kat_ID": "43",
                                    "DB": "3"
                                },
                                {
                                    "kat_ID": "58",
                                    "DB": "3"
                                },
                                {
                                    "kat_ID": "51",
                                    "DB": "3"
                                },
                                {
                                    "kat_ID": "70",
                                    "DB": "3"
                                },
                                {
                                    "kat_ID": "89",
                                    "DB": "3"
                                },
                                {
                                    "kat_ID": "111",
                                    "DB": "3"
                                },
                                {
                                    "kat_ID": "119",
                                    "DB": "3"
                                },
                                {
                                    "kat_ID": "137",
                                    "DB": "3"
                                },
                                {
                                    "kat_ID": "143",
                                    "DB": "3"
                                },
                                {
                                    "kat_ID": "151",
                                    "DB": "4"
                                },
                                {
                                    "kat_ID": "154",
                                    "DB": "4"
                                },
                                {
                                    "kat_ID": "125",
                                    "DB": "4"
                                },
                                {
                                    "kat_ID": "79",
                                    "DB": "4"
                                },
                                {
                                    "kat_ID": "98",
                                    "DB": "4"
                                },
                                {
                                    "kat_ID": "56",
                                    "DB": "4"
                                },
                                {
                                    "kat_ID": "64",
                                    "DB": "4"
                                },
                                {
                                    "kat_ID": "59",
                                    "DB": "4"
                                },
                                {
                                    "kat_ID": "47",
                                    "DB": "4"
                                },
                                {
                                    "kat_ID": "25",
                                    "DB": "4"
                                },
                                {
                                    "kat_ID": "14",
                                    "DB": "4"
                                },
                                {
                                    "kat_ID": "21",
                                    "DB": "5"
                                },
                                {
                                    "kat_ID": "36",
                                    "DB": "5"
                                },
                                {
                                    "kat_ID": "28",
                                    "DB": "5"
                                },
                                {
                                    "kat_ID": "60",
                                    "DB": "5"
                                },
                                {
                                    "kat_ID": "76",
                                    "DB": "5"
                                },
                                {
                                    "kat_ID": "106",
                                    "DB": "5"
                                },
                                {
                                    "kat_ID": "138",
                                    "DB": "5"
                                },
                                {
                                    "kat_ID": "133",
                                    "DB": "6"
                                },
                                {
                                    "kat_ID": "152",
                                    "DB": "6"
                                },
                                {
                                    "kat_ID": "149",
                                    "DB": "6"
                                },
                                {
                                    "kat_ID": "83",
                                    "DB": "6"
                                },
                                {
                                    "kat_ID": "54",
                                    "DB": "6"
                                },
                                {
                                    "kat_ID": "46",
                                    "DB": "7"
                                },
                                {
                                    "kat_ID": "66",
                                    "DB": "7"
                                },
                                {
                                    "kat_ID": "24",
                                    "DB": "7"
                                },
                                {
                                    "kat_ID": "30",
                                    "DB": "7"
                                },
                                {
                                    "kat_ID": "35",
                                    "DB": "7"
                                },
                                {
                                    "kat_ID": "16",
                                    "DB": "7"
                                },
                                {
                                    "kat_ID": "146",
                                    "DB": "7"
                                },
                                {
                                    "kat_ID": "122",
                                    "DB": "7"
                                },
                                {
                                    "kat_ID": "93",
                                    "DB": "7"
                                },
                                {
                                    "kat_ID": "91",
                                    "DB": "7"
                                },
                                {
                                    "kat_ID": "100",
                                    "DB": "9"
                                },
                                {
                                    "kat_ID": "96",
                                    "DB": "9"
                                },
                                {
                                    "kat_ID": "118",
                                    "DB": "9"
                                },
                                {
                                    "kat_ID": "97",
                                    "DB": "10"
                                },
                                {
                                    "kat_ID": "124",
                                    "DB": "10"
                                },
                                {
                                    "kat_ID": "45",
                                    "DB": "11"
                                },
                                {
                                    "kat_ID": "41",
                                    "DB": "13"
                                },
                                {
                                    "kat_ID": "4",
                                    "DB": "15"
                                },
                                {
                                    "kat_ID": "85",
                                    "DB": "16"
                                },
                                {
                                    "kat_ID": "145",
                                    "DB": "18"
                                },
                                {
                                    "kat_ID": "19",
                                    "DB": "19"
                                },
                                {
                                    "kat_ID": "6",
                                    "DB": "20"
                                },
                                {
                                    "kat_ID": "78",
                                    "DB": "24"
                                },
                                {
                                    "kat_ID": "52",
                                    "DB": "26"
                                },
                                {
                                    "kat_ID": "Összesen",
                                    "DB": "551"
                                }
                            ]
                        },
                        "text/html": [
                            "<table>",
                            "<tr><th>kat_ID</th><th>DB</th></tr>",
                            "<tr><td>10</td><td>1</td></tr>",
                            "<tr><td>11</td><td>1</td></tr>",
                            "<tr><td>12</td><td>1</td></tr>",
                            "<tr><td>15</td><td>1</td></tr>",
                            "<tr><td>17</td><td>1</td></tr>",
                            "<tr><td>26</td><td>1</td></tr>",
                            "<tr><td>29</td><td>1</td></tr>",
                            "<tr><td>31</td><td>1</td></tr>",
                            "<tr><td>33</td><td>1</td></tr>",
                            "<tr><td>34</td><td>1</td></tr>",
                            "<tr><td>37</td><td>1</td></tr>",
                            "<tr><td>38</td><td>1</td></tr>",
                            "<tr><td>40</td><td>1</td></tr>",
                            "<tr><td>42</td><td>1</td></tr>",
                            "<tr><td>44</td><td>1</td></tr>",
                            "<tr><td>50</td><td>1</td></tr>",
                            "<tr><td>53</td><td>1</td></tr>",
                            "<tr><td>61</td><td>1</td></tr>",
                            "<tr><td>74</td><td>1</td></tr>",
                            "<tr><td>80</td><td>1</td></tr>",
                            "<tr><td>82</td><td>1</td></tr>",
                            "<tr><td>84</td><td>1</td></tr>",
                            "<tr><td>86</td><td>1</td></tr>",
                            "<tr><td>99</td><td>1</td></tr>",
                            "<tr><td>101</td><td>1</td></tr>",
                            "<tr><td>103</td><td>1</td></tr>",
                            "<tr><td>105</td><td>1</td></tr>",
                            "<tr><td>107</td><td>1</td></tr>",
                            "<tr><td>108</td><td>1</td></tr>",
                            "<tr><td>109</td><td>1</td></tr>",
                            "<tr><td>114</td><td>1</td></tr>",
                            "<tr><td>115</td><td>1</td></tr>",
                            "<tr><td>126</td><td>1</td></tr>",
                            "<tr><td>130</td><td>1</td></tr>",
                            "<tr><td>131</td><td>1</td></tr>",
                            "<tr><td>132</td><td>1</td></tr>",
                            "<tr><td>135</td><td>1</td></tr>",
                            "<tr><td>139</td><td>1</td></tr>",
                            "<tr><td>140</td><td>1</td></tr>",
                            "<tr><td>142</td><td>1</td></tr>",
                            "<tr><td>147</td><td>1</td></tr>",
                            "<tr><td>148</td><td>1</td></tr>",
                            "<tr><td>153</td><td>1</td></tr>",
                            "<tr><td>155</td><td>1</td></tr>",
                            "<tr><td>150</td><td>2</td></tr>",
                            "<tr><td>144</td><td>2</td></tr>",
                            "<tr><td>141</td><td>2</td></tr>",
                            "<tr><td>136</td><td>2</td></tr>",
                            "<tr><td>123</td><td>2</td></tr>",
                            "<tr><td>134</td><td>2</td></tr>",
                            "<tr><td>127</td><td>2</td></tr>",
                            "<tr><td>128</td><td>2</td></tr>",
                            "<tr><td>129</td><td>2</td></tr>",
                            "<tr><td>116</td><td>2</td></tr>",
                            "<tr><td>117</td><td>2</td></tr>",
                            "<tr><td>112</td><td>2</td></tr>",
                            "<tr><td>121</td><td>2</td></tr>",
                            "<tr><td>110</td><td>2</td></tr>",
                            "<tr><td>104</td><td>2</td></tr>",
                            "<tr><td>94</td><td>2</td></tr>",
                            "<tr><td>95</td><td>2</td></tr>",
                            "<tr><td>88</td><td>2</td></tr>",
                            "<tr><td>90</td><td>2</td></tr>",
                            "<tr><td>92</td><td>2</td></tr>",
                            "<tr><td>71</td><td>2</td></tr>",
                            "<tr><td>72</td><td>2</td></tr>",
                            "<tr><td>73</td><td>2</td></tr>",
                            "<tr><td>75</td><td>2</td></tr>",
                            "<tr><td>62</td><td>2</td></tr>",
                            "<tr><td>55</td><td>2</td></tr>",
                            "<tr><td>65</td><td>2</td></tr>",
                            "<tr><td>67</td><td>2</td></tr>",
                            "<tr><td>68</td><td>2</td></tr>",
                            "<tr><td>57</td><td>2</td></tr>",
                            "<tr><td>48</td><td>2</td></tr>",
                            "<tr><td>49</td><td>2</td></tr>",
                            "<tr><td>39</td><td>2</td></tr>",
                            "<tr><td>22</td><td>2</td></tr>",
                            "<tr><td>18</td><td>2</td></tr>",
                            "<tr><td>9</td><td>2</td></tr>",
                            "<tr><td>13</td><td>2</td></tr>",
                            "<tr><td>5</td><td>3</td></tr>",
                            "<tr><td>7</td><td>3</td></tr>",
                            "<tr><td>8</td><td>3</td></tr>",
                            "<tr><td>20</td><td>3</td></tr>",
                            "<tr><td>27</td><td>3</td></tr>",
                            "<tr><td>32</td><td>3</td></tr>",
                            "<tr><td>43</td><td>3</td></tr>",
                            "<tr><td>58</td><td>3</td></tr>",
                            "<tr><td>51</td><td>3</td></tr>",
                            "<tr><td>70</td><td>3</td></tr>",
                            "<tr><td>89</td><td>3</td></tr>",
                            "<tr><td>111</td><td>3</td></tr>",
                            "<tr><td>119</td><td>3</td></tr>",
                            "<tr><td>137</td><td>3</td></tr>",
                            "<tr><td>143</td><td>3</td></tr>",
                            "<tr><td>151</td><td>4</td></tr>",
                            "<tr><td>154</td><td>4</td></tr>",
                            "<tr><td>125</td><td>4</td></tr>",
                            "<tr><td>79</td><td>4</td></tr>",
                            "<tr><td>98</td><td>4</td></tr>",
                            "<tr><td>56</td><td>4</td></tr>",
                            "<tr><td>64</td><td>4</td></tr>",
                            "<tr><td>59</td><td>4</td></tr>",
                            "<tr><td>47</td><td>4</td></tr>",
                            "<tr><td>25</td><td>4</td></tr>",
                            "<tr><td>14</td><td>4</td></tr>",
                            "<tr><td>21</td><td>5</td></tr>",
                            "<tr><td>36</td><td>5</td></tr>",
                            "<tr><td>28</td><td>5</td></tr>",
                            "<tr><td>60</td><td>5</td></tr>",
                            "<tr><td>76</td><td>5</td></tr>",
                            "<tr><td>106</td><td>5</td></tr>",
                            "<tr><td>138</td><td>5</td></tr>",
                            "<tr><td>133</td><td>6</td></tr>",
                            "<tr><td>152</td><td>6</td></tr>",
                            "<tr><td>149</td><td>6</td></tr>",
                            "<tr><td>83</td><td>6</td></tr>",
                            "<tr><td>54</td><td>6</td></tr>",
                            "<tr><td>46</td><td>7</td></tr>",
                            "<tr><td>66</td><td>7</td></tr>",
                            "<tr><td>24</td><td>7</td></tr>",
                            "<tr><td>30</td><td>7</td></tr>",
                            "<tr><td>35</td><td>7</td></tr>",
                            "<tr><td>16</td><td>7</td></tr>",
                            "<tr><td>146</td><td>7</td></tr>",
                            "<tr><td>122</td><td>7</td></tr>",
                            "<tr><td>93</td><td>7</td></tr>",
                            "<tr><td>91</td><td>7</td></tr>",
                            "<tr><td>100</td><td>9</td></tr>",
                            "<tr><td>96</td><td>9</td></tr>",
                            "<tr><td>118</td><td>9</td></tr>",
                            "<tr><td>97</td><td>10</td></tr>",
                            "<tr><td>124</td><td>10</td></tr>",
                            "<tr><td>45</td><td>11</td></tr>",
                            "<tr><td>41</td><td>13</td></tr>",
                            "<tr><td>4</td><td>15</td></tr>",
                            "<tr><td>85</td><td>16</td></tr>",
                            "<tr><td>145</td><td>18</td></tr>",
                            "<tr><td>19</td><td>19</td></tr>",
                            "<tr><td>6</td><td>20</td></tr>",
                            "<tr><td>78</td><td>24</td></tr>",
                            "<tr><td>52</td><td>26</td></tr>",
                            "<tr><td>Összesen</td><td>551</td></tr>",
                            "</table>"
                        ]
                    }
                }
            ],
            "execution_count": 20
        },
        {
            "cell_type": "markdown",
            "source": [
                "4. <span style=\"background-color: rgb(255, 255, 255); color: rgb(0, 0, 0); font-family: &quot;Open Sans&quot;, sans-serif; font-size: 14.44px;\">Készítsünk listát az ügyfelek számáról születési év szerint, azon belül nem szerinti bontásban!&nbsp;</span> \n",
                "\n",
                "a. A lista megfelelően jelölve tartalmazza a részösszegeket és a végösszeget is!  \n",
                "b. Az oszlopoknak adjunk nevet értelemszerűen!"
            ],
            "metadata": {
                "azdata_cell_guid": "8e7fef82-8022-49a0-8255-fc2846c2134b"
            },
            "attachments": {}
        },
        {
            "cell_type": "code",
            "source": [
                "select iif(GROUPING_ID(SZULEV) = 1, 'Összesen', cast(szulev as nvarchar(10))) 'Szülév',\r\n",
                "        iif(GROUPING_ID(Ugyfel.NEM) = 1, 'Összesen', cast(NEM as nvarchar(10))) 'NEM',\r\n",
                "        count(*)\r\n",
                "from ugyfel\r\n",
                "GROUP by rollup(szulev, NEM)\r\n",
                "\r\n",
                "/*Select iif(GROUPING_ID(SZULEV) = 1, 'Összesen', CAST(SZULEV as NVARCHAR(10))),\r\n",
                "        iif(GROUPING_ID(Ugyfel.NEM) = 1, 'Összesen', nem), \r\n",
                "        count(*) as 'ügyfelekszáma'\r\n",
                "from ugyfel\r\n",
                "GROUP by rollup (SZULEV, nem)*/"
            ],
            "metadata": {
                "azdata_cell_guid": "36f7b396-4a1f-45e5-8720-2302537c91bc",
                "language": "sql",
                "tags": []
            },
            "outputs": [
                {
                    "output_type": "display_data",
                    "data": {
                        "text/html": "(96 rows affected)"
                    },
                    "metadata": {}
                },
                {
                    "output_type": "display_data",
                    "data": {
                        "text/html": "Total execution time: 00:00:00.041"
                    },
                    "metadata": {}
                },
                {
                    "output_type": "execute_result",
                    "metadata": {},
                    "execution_count": 21,
                    "data": {
                        "application/vnd.dataresource+json": {
                            "schema": {
                                "fields": [
                                    {
                                        "name": "Szülév"
                                    },
                                    {
                                        "name": "NEM"
                                    },
                                    {
                                        "name": "(No column name)"
                                    }
                                ]
                            },
                            "data": [
                                {
                                    "Szülév": "1967",
                                    "NEM": "F",
                                    "(No column name)": "5"
                                },
                                {
                                    "Szülév": "1967",
                                    "NEM": "N",
                                    "(No column name)": "3"
                                },
                                {
                                    "Szülév": "1967",
                                    "NEM": "Összesen",
                                    "(No column name)": "8"
                                },
                                {
                                    "Szülév": "1968",
                                    "NEM": "F",
                                    "(No column name)": "5"
                                },
                                {
                                    "Szülév": "1968",
                                    "NEM": "N",
                                    "(No column name)": "3"
                                },
                                {
                                    "Szülév": "1968",
                                    "NEM": "Összesen",
                                    "(No column name)": "8"
                                },
                                {
                                    "Szülév": "1969",
                                    "NEM": "F",
                                    "(No column name)": "5"
                                },
                                {
                                    "Szülév": "1969",
                                    "NEM": "N",
                                    "(No column name)": "3"
                                },
                                {
                                    "Szülév": "1969",
                                    "NEM": "Összesen",
                                    "(No column name)": "8"
                                },
                                {
                                    "Szülév": "1970",
                                    "NEM": "F",
                                    "(No column name)": "4"
                                },
                                {
                                    "Szülév": "1970",
                                    "NEM": "Összesen",
                                    "(No column name)": "4"
                                },
                                {
                                    "Szülév": "1971",
                                    "NEM": "F",
                                    "(No column name)": "2"
                                },
                                {
                                    "Szülév": "1971",
                                    "NEM": "N",
                                    "(No column name)": "3"
                                },
                                {
                                    "Szülév": "1971",
                                    "NEM": "Összesen",
                                    "(No column name)": "5"
                                },
                                {
                                    "Szülév": "1972",
                                    "NEM": "F",
                                    "(No column name)": "2"
                                },
                                {
                                    "Szülév": "1972",
                                    "NEM": "N",
                                    "(No column name)": "2"
                                },
                                {
                                    "Szülév": "1972",
                                    "NEM": "Összesen",
                                    "(No column name)": "4"
                                },
                                {
                                    "Szülév": "1973",
                                    "NEM": "F",
                                    "(No column name)": "2"
                                },
                                {
                                    "Szülév": "1973",
                                    "NEM": "N",
                                    "(No column name)": "2"
                                },
                                {
                                    "Szülév": "1973",
                                    "NEM": "Összesen",
                                    "(No column name)": "4"
                                },
                                {
                                    "Szülév": "1974",
                                    "NEM": "F",
                                    "(No column name)": "1"
                                },
                                {
                                    "Szülév": "1974",
                                    "NEM": "N",
                                    "(No column name)": "3"
                                },
                                {
                                    "Szülév": "1974",
                                    "NEM": "Összesen",
                                    "(No column name)": "4"
                                },
                                {
                                    "Szülév": "1975",
                                    "NEM": "F",
                                    "(No column name)": "8"
                                },
                                {
                                    "Szülév": "1975",
                                    "NEM": "N",
                                    "(No column name)": "3"
                                },
                                {
                                    "Szülév": "1975",
                                    "NEM": "Összesen",
                                    "(No column name)": "11"
                                },
                                {
                                    "Szülév": "1976",
                                    "NEM": "F",
                                    "(No column name)": "5"
                                },
                                {
                                    "Szülév": "1976",
                                    "NEM": "N",
                                    "(No column name)": "2"
                                },
                                {
                                    "Szülév": "1976",
                                    "NEM": "Összesen",
                                    "(No column name)": "7"
                                },
                                {
                                    "Szülév": "1977",
                                    "NEM": "F",
                                    "(No column name)": "4"
                                },
                                {
                                    "Szülév": "1977",
                                    "NEM": "N",
                                    "(No column name)": "1"
                                },
                                {
                                    "Szülév": "1977",
                                    "NEM": "Összesen",
                                    "(No column name)": "5"
                                },
                                {
                                    "Szülév": "1978",
                                    "NEM": "F",
                                    "(No column name)": "3"
                                },
                                {
                                    "Szülév": "1978",
                                    "NEM": "N",
                                    "(No column name)": "4"
                                },
                                {
                                    "Szülév": "1978",
                                    "NEM": "Összesen",
                                    "(No column name)": "7"
                                },
                                {
                                    "Szülév": "1979",
                                    "NEM": "F",
                                    "(No column name)": "4"
                                },
                                {
                                    "Szülév": "1979",
                                    "NEM": "N",
                                    "(No column name)": "3"
                                },
                                {
                                    "Szülév": "1979",
                                    "NEM": "Összesen",
                                    "(No column name)": "7"
                                },
                                {
                                    "Szülév": "1980",
                                    "NEM": "F",
                                    "(No column name)": "4"
                                },
                                {
                                    "Szülév": "1980",
                                    "NEM": "N",
                                    "(No column name)": "3"
                                },
                                {
                                    "Szülév": "1980",
                                    "NEM": "Összesen",
                                    "(No column name)": "7"
                                },
                                {
                                    "Szülév": "1981",
                                    "NEM": "N",
                                    "(No column name)": "4"
                                },
                                {
                                    "Szülév": "1981",
                                    "NEM": "Összesen",
                                    "(No column name)": "4"
                                },
                                {
                                    "Szülév": "1982",
                                    "NEM": "F",
                                    "(No column name)": "2"
                                },
                                {
                                    "Szülév": "1982",
                                    "NEM": "N",
                                    "(No column name)": "2"
                                },
                                {
                                    "Szülév": "1982",
                                    "NEM": "Összesen",
                                    "(No column name)": "4"
                                },
                                {
                                    "Szülév": "1983",
                                    "NEM": "F",
                                    "(No column name)": "5"
                                },
                                {
                                    "Szülév": "1983",
                                    "NEM": "N",
                                    "(No column name)": "3"
                                },
                                {
                                    "Szülév": "1983",
                                    "NEM": "Összesen",
                                    "(No column name)": "8"
                                },
                                {
                                    "Szülév": "1984",
                                    "NEM": "F",
                                    "(No column name)": "6"
                                },
                                {
                                    "Szülév": "1984",
                                    "NEM": "N",
                                    "(No column name)": "2"
                                },
                                {
                                    "Szülév": "1984",
                                    "NEM": "Összesen",
                                    "(No column name)": "8"
                                },
                                {
                                    "Szülév": "1985",
                                    "NEM": "F",
                                    "(No column name)": "5"
                                },
                                {
                                    "Szülév": "1985",
                                    "NEM": "N",
                                    "(No column name)": "1"
                                },
                                {
                                    "Szülév": "1985",
                                    "NEM": "Összesen",
                                    "(No column name)": "6"
                                },
                                {
                                    "Szülév": "1986",
                                    "NEM": "F",
                                    "(No column name)": "7"
                                },
                                {
                                    "Szülév": "1986",
                                    "NEM": "N",
                                    "(No column name)": "2"
                                },
                                {
                                    "Szülév": "1986",
                                    "NEM": "Összesen",
                                    "(No column name)": "9"
                                },
                                {
                                    "Szülév": "1987",
                                    "NEM": "F",
                                    "(No column name)": "2"
                                },
                                {
                                    "Szülév": "1987",
                                    "NEM": "N",
                                    "(No column name)": "3"
                                },
                                {
                                    "Szülév": "1987",
                                    "NEM": "Összesen",
                                    "(No column name)": "5"
                                },
                                {
                                    "Szülév": "1988",
                                    "NEM": "F",
                                    "(No column name)": "2"
                                },
                                {
                                    "Szülév": "1988",
                                    "NEM": "N",
                                    "(No column name)": "4"
                                },
                                {
                                    "Szülév": "1988",
                                    "NEM": "Összesen",
                                    "(No column name)": "6"
                                },
                                {
                                    "Szülév": "1989",
                                    "NEM": "F",
                                    "(No column name)": "6"
                                },
                                {
                                    "Szülév": "1989",
                                    "NEM": "N",
                                    "(No column name)": "1"
                                },
                                {
                                    "Szülév": "1989",
                                    "NEM": "Összesen",
                                    "(No column name)": "7"
                                },
                                {
                                    "Szülév": "1990",
                                    "NEM": "F",
                                    "(No column name)": "5"
                                },
                                {
                                    "Szülév": "1990",
                                    "NEM": "N",
                                    "(No column name)": "3"
                                },
                                {
                                    "Szülév": "1990",
                                    "NEM": "Összesen",
                                    "(No column name)": "8"
                                },
                                {
                                    "Szülév": "1991",
                                    "NEM": "F",
                                    "(No column name)": "3"
                                },
                                {
                                    "Szülév": "1991",
                                    "NEM": "N",
                                    "(No column name)": "3"
                                },
                                {
                                    "Szülév": "1991",
                                    "NEM": "Összesen",
                                    "(No column name)": "6"
                                },
                                {
                                    "Szülév": "1992",
                                    "NEM": "F",
                                    "(No column name)": "3"
                                },
                                {
                                    "Szülév": "1992",
                                    "NEM": "N",
                                    "(No column name)": "1"
                                },
                                {
                                    "Szülév": "1992",
                                    "NEM": "Összesen",
                                    "(No column name)": "4"
                                },
                                {
                                    "Szülév": "1993",
                                    "NEM": "F",
                                    "(No column name)": "2"
                                },
                                {
                                    "Szülév": "1993",
                                    "NEM": "N",
                                    "(No column name)": "3"
                                },
                                {
                                    "Szülév": "1993",
                                    "NEM": "Összesen",
                                    "(No column name)": "5"
                                },
                                {
                                    "Szülév": "1994",
                                    "NEM": "N",
                                    "(No column name)": "3"
                                },
                                {
                                    "Szülév": "1994",
                                    "NEM": "Összesen",
                                    "(No column name)": "3"
                                },
                                {
                                    "Szülév": "1995",
                                    "NEM": "F",
                                    "(No column name)": "3"
                                },
                                {
                                    "Szülév": "1995",
                                    "NEM": "N",
                                    "(No column name)": "3"
                                },
                                {
                                    "Szülév": "1995",
                                    "NEM": "Összesen",
                                    "(No column name)": "6"
                                },
                                {
                                    "Szülév": "1996",
                                    "NEM": "F",
                                    "(No column name)": "2"
                                },
                                {
                                    "Szülév": "1996",
                                    "NEM": "N",
                                    "(No column name)": "5"
                                },
                                {
                                    "Szülév": "1996",
                                    "NEM": "Összesen",
                                    "(No column name)": "7"
                                },
                                {
                                    "Szülév": "1997",
                                    "NEM": "F",
                                    "(No column name)": "10"
                                },
                                {
                                    "Szülév": "1997",
                                    "NEM": "N",
                                    "(No column name)": "2"
                                },
                                {
                                    "Szülév": "1997",
                                    "NEM": "Összesen",
                                    "(No column name)": "12"
                                },
                                {
                                    "Szülév": "1998",
                                    "NEM": "F",
                                    "(No column name)": "1"
                                },
                                {
                                    "Szülév": "1998",
                                    "NEM": "N",
                                    "(No column name)": "1"
                                },
                                {
                                    "Szülév": "1998",
                                    "NEM": "Összesen",
                                    "(No column name)": "2"
                                },
                                {
                                    "Szülév": "2000",
                                    "NEM": "F",
                                    "(No column name)": "1"
                                },
                                {
                                    "Szülév": "2000",
                                    "NEM": "Összesen",
                                    "(No column name)": "1"
                                },
                                {
                                    "Szülév": "Összesen",
                                    "NEM": "Összesen",
                                    "(No column name)": "200"
                                }
                            ]
                        },
                        "text/html": [
                            "<table>",
                            "<tr><th>Szülév</th><th>NEM</th><th>(No column name)</th></tr>",
                            "<tr><td>1967</td><td>F</td><td>5</td></tr>",
                            "<tr><td>1967</td><td>N</td><td>3</td></tr>",
                            "<tr><td>1967</td><td>Összesen</td><td>8</td></tr>",
                            "<tr><td>1968</td><td>F</td><td>5</td></tr>",
                            "<tr><td>1968</td><td>N</td><td>3</td></tr>",
                            "<tr><td>1968</td><td>Összesen</td><td>8</td></tr>",
                            "<tr><td>1969</td><td>F</td><td>5</td></tr>",
                            "<tr><td>1969</td><td>N</td><td>3</td></tr>",
                            "<tr><td>1969</td><td>Összesen</td><td>8</td></tr>",
                            "<tr><td>1970</td><td>F</td><td>4</td></tr>",
                            "<tr><td>1970</td><td>Összesen</td><td>4</td></tr>",
                            "<tr><td>1971</td><td>F</td><td>2</td></tr>",
                            "<tr><td>1971</td><td>N</td><td>3</td></tr>",
                            "<tr><td>1971</td><td>Összesen</td><td>5</td></tr>",
                            "<tr><td>1972</td><td>F</td><td>2</td></tr>",
                            "<tr><td>1972</td><td>N</td><td>2</td></tr>",
                            "<tr><td>1972</td><td>Összesen</td><td>4</td></tr>",
                            "<tr><td>1973</td><td>F</td><td>2</td></tr>",
                            "<tr><td>1973</td><td>N</td><td>2</td></tr>",
                            "<tr><td>1973</td><td>Összesen</td><td>4</td></tr>",
                            "<tr><td>1974</td><td>F</td><td>1</td></tr>",
                            "<tr><td>1974</td><td>N</td><td>3</td></tr>",
                            "<tr><td>1974</td><td>Összesen</td><td>4</td></tr>",
                            "<tr><td>1975</td><td>F</td><td>8</td></tr>",
                            "<tr><td>1975</td><td>N</td><td>3</td></tr>",
                            "<tr><td>1975</td><td>Összesen</td><td>11</td></tr>",
                            "<tr><td>1976</td><td>F</td><td>5</td></tr>",
                            "<tr><td>1976</td><td>N</td><td>2</td></tr>",
                            "<tr><td>1976</td><td>Összesen</td><td>7</td></tr>",
                            "<tr><td>1977</td><td>F</td><td>4</td></tr>",
                            "<tr><td>1977</td><td>N</td><td>1</td></tr>",
                            "<tr><td>1977</td><td>Összesen</td><td>5</td></tr>",
                            "<tr><td>1978</td><td>F</td><td>3</td></tr>",
                            "<tr><td>1978</td><td>N</td><td>4</td></tr>",
                            "<tr><td>1978</td><td>Összesen</td><td>7</td></tr>",
                            "<tr><td>1979</td><td>F</td><td>4</td></tr>",
                            "<tr><td>1979</td><td>N</td><td>3</td></tr>",
                            "<tr><td>1979</td><td>Összesen</td><td>7</td></tr>",
                            "<tr><td>1980</td><td>F</td><td>4</td></tr>",
                            "<tr><td>1980</td><td>N</td><td>3</td></tr>",
                            "<tr><td>1980</td><td>Összesen</td><td>7</td></tr>",
                            "<tr><td>1981</td><td>N</td><td>4</td></tr>",
                            "<tr><td>1981</td><td>Összesen</td><td>4</td></tr>",
                            "<tr><td>1982</td><td>F</td><td>2</td></tr>",
                            "<tr><td>1982</td><td>N</td><td>2</td></tr>",
                            "<tr><td>1982</td><td>Összesen</td><td>4</td></tr>",
                            "<tr><td>1983</td><td>F</td><td>5</td></tr>",
                            "<tr><td>1983</td><td>N</td><td>3</td></tr>",
                            "<tr><td>1983</td><td>Összesen</td><td>8</td></tr>",
                            "<tr><td>1984</td><td>F</td><td>6</td></tr>",
                            "<tr><td>1984</td><td>N</td><td>2</td></tr>",
                            "<tr><td>1984</td><td>Összesen</td><td>8</td></tr>",
                            "<tr><td>1985</td><td>F</td><td>5</td></tr>",
                            "<tr><td>1985</td><td>N</td><td>1</td></tr>",
                            "<tr><td>1985</td><td>Összesen</td><td>6</td></tr>",
                            "<tr><td>1986</td><td>F</td><td>7</td></tr>",
                            "<tr><td>1986</td><td>N</td><td>2</td></tr>",
                            "<tr><td>1986</td><td>Összesen</td><td>9</td></tr>",
                            "<tr><td>1987</td><td>F</td><td>2</td></tr>",
                            "<tr><td>1987</td><td>N</td><td>3</td></tr>",
                            "<tr><td>1987</td><td>Összesen</td><td>5</td></tr>",
                            "<tr><td>1988</td><td>F</td><td>2</td></tr>",
                            "<tr><td>1988</td><td>N</td><td>4</td></tr>",
                            "<tr><td>1988</td><td>Összesen</td><td>6</td></tr>",
                            "<tr><td>1989</td><td>F</td><td>6</td></tr>",
                            "<tr><td>1989</td><td>N</td><td>1</td></tr>",
                            "<tr><td>1989</td><td>Összesen</td><td>7</td></tr>",
                            "<tr><td>1990</td><td>F</td><td>5</td></tr>",
                            "<tr><td>1990</td><td>N</td><td>3</td></tr>",
                            "<tr><td>1990</td><td>Összesen</td><td>8</td></tr>",
                            "<tr><td>1991</td><td>F</td><td>3</td></tr>",
                            "<tr><td>1991</td><td>N</td><td>3</td></tr>",
                            "<tr><td>1991</td><td>Összesen</td><td>6</td></tr>",
                            "<tr><td>1992</td><td>F</td><td>3</td></tr>",
                            "<tr><td>1992</td><td>N</td><td>1</td></tr>",
                            "<tr><td>1992</td><td>Összesen</td><td>4</td></tr>",
                            "<tr><td>1993</td><td>F</td><td>2</td></tr>",
                            "<tr><td>1993</td><td>N</td><td>3</td></tr>",
                            "<tr><td>1993</td><td>Összesen</td><td>5</td></tr>",
                            "<tr><td>1994</td><td>N</td><td>3</td></tr>",
                            "<tr><td>1994</td><td>Összesen</td><td>3</td></tr>",
                            "<tr><td>1995</td><td>F</td><td>3</td></tr>",
                            "<tr><td>1995</td><td>N</td><td>3</td></tr>",
                            "<tr><td>1995</td><td>Összesen</td><td>6</td></tr>",
                            "<tr><td>1996</td><td>F</td><td>2</td></tr>",
                            "<tr><td>1996</td><td>N</td><td>5</td></tr>",
                            "<tr><td>1996</td><td>Összesen</td><td>7</td></tr>",
                            "<tr><td>1997</td><td>F</td><td>10</td></tr>",
                            "<tr><td>1997</td><td>N</td><td>2</td></tr>",
                            "<tr><td>1997</td><td>Összesen</td><td>12</td></tr>",
                            "<tr><td>1998</td><td>F</td><td>1</td></tr>",
                            "<tr><td>1998</td><td>N</td><td>1</td></tr>",
                            "<tr><td>1998</td><td>Összesen</td><td>2</td></tr>",
                            "<tr><td>2000</td><td>F</td><td>1</td></tr>",
                            "<tr><td>2000</td><td>Összesen</td><td>1</td></tr>",
                            "<tr><td>Összesen</td><td>Összesen</td><td>200</td></tr>",
                            "</table>"
                        ]
                    }
                }
            ],
            "execution_count": 21
        },
        {
            "cell_type": "markdown",
            "source": [
                "5. <span style=\"background-color: rgb(255, 255, 255); color: rgb(0, 0, 0); font-family: &quot;Open Sans&quot;, sans-serif; font-size: 14.44px;\">Készítsünk listát a termékek számáról a felvitel hónapja, azon belül napja szerint csoportosítva.&nbsp;</span> \n",
                "\n",
                "a. A lista csak a részösszegeket és a végösszeget tartalmazza!  \n",
                "b. Az oszlopoknak adjunk megfelelő nevet!  \n",
                "c. Ötlet: HAVING + GROUPING\\_ID fv együttes használata"
            ],
            "metadata": {
                "azdata_cell_guid": "84239ca2-6b5e-49f5-9860-d44c11d6de32"
            },
            "attachments": {}
        },
        {
            "cell_type": "code",
            "source": [
                "select count(*) as 'DB',\r\n",
                "        IIF(GROUPING_ID(MONTH(FELVITEL)) = 1, 'Összesen', cast(month(felvitel) as nvarchar(10))) as 'Hónap',\r\n",
                "        IIF(GROUPING_ID(day(FELVITEL)) = 1, 'Összesen', cast(day(felvitel) as nvarchar(10))) as 'Nap'\r\n",
                "from Termek\r\n",
                "GROUP by rollup(MONTH(FELVITEL), day(FELVITEL))\r\n",
                "having MONTH(FELVITEL) is null or day(FELVITEL) is null\r\n",
                "\r\n",
                "/*select count(*) as 'DB',\r\n",
                "        iif(GROUPING_ID(month(FELVITEL)) = 1, 'Összesen', cast(month(FELVITEL) as  NVARCHAR(10))) as 'Month',\r\n",
                "        iif(GROUPING_ID(DAY(FELVITEL)) = 1, 'Összesen', cast(day(FELVITEL) as NVARCHAR(10))) as 'Day'\r\n",
                "        \r\n",
                "from Termek\r\n",
                "GROUP by rollup(month(FELVITEL), day(FELVITEL))\r\n",
                "having month(FELVITEL) is null or day(FELVITEL) is null*/"
            ],
            "metadata": {
                "azdata_cell_guid": "06d9a62b-9430-424b-a135-d80e675f0eb3",
                "language": "sql"
            },
            "outputs": [
                {
                    "output_type": "display_data",
                    "data": {
                        "text/html": "(5 rows affected)"
                    },
                    "metadata": {}
                },
                {
                    "output_type": "display_data",
                    "data": {
                        "text/html": "Total execution time: 00:00:00.039"
                    },
                    "metadata": {}
                },
                {
                    "output_type": "execute_result",
                    "metadata": {},
                    "execution_count": 22,
                    "data": {
                        "application/vnd.dataresource+json": {
                            "schema": {
                                "fields": [
                                    {
                                        "name": "DB"
                                    },
                                    {
                                        "name": "Hónap"
                                    },
                                    {
                                        "name": "Nap"
                                    }
                                ]
                            },
                            "data": [
                                {
                                    "DB": "355",
                                    "Hónap": "7",
                                    "Nap": "Összesen"
                                },
                                {
                                    "DB": "194",
                                    "Hónap": "8",
                                    "Nap": "Összesen"
                                },
                                {
                                    "DB": "1",
                                    "Hónap": "9",
                                    "Nap": "Összesen"
                                },
                                {
                                    "DB": "1",
                                    "Hónap": "12",
                                    "Nap": "Összesen"
                                },
                                {
                                    "DB": "551",
                                    "Hónap": "Összesen",
                                    "Nap": "Összesen"
                                }
                            ]
                        },
                        "text/html": [
                            "<table>",
                            "<tr><th>DB</th><th>Hónap</th><th>Nap</th></tr>",
                            "<tr><td>355</td><td>7</td><td>Összesen</td></tr>",
                            "<tr><td>194</td><td>8</td><td>Összesen</td></tr>",
                            "<tr><td>1</td><td>9</td><td>Összesen</td></tr>",
                            "<tr><td>1</td><td>12</td><td>Összesen</td></tr>",
                            "<tr><td>551</td><td>Összesen</td><td>Összesen</td></tr>",
                            "</table>"
                        ]
                    }
                }
            ],
            "execution_count": 22
        }
    ]
}